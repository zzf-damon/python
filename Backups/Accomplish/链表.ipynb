{
 "cells": [
  {
   "cell_type": "markdown",
   "metadata": {
    "collapsed": true,
    "pycharm": {
     "is_executing": false,
     "name": "#%% md\n"
    }
   },
   "source": [
    "# 简单的单链表"
   ]
  },
  {
   "cell_type": "code",
   "execution_count": 2,
   "outputs": [
    {
     "name": "stdout",
     "text": [
      "<__main__.ListNode object at 0x000001AB2F3A4A88>\n"
     ],
     "output_type": "stream"
    }
   ],
   "source": [
    "# Definition for singly-linked list.\n",
    "class ListNode:\n",
    "    def __init__(self, x, y=None):\n",
    "        self.val = x\n",
    "        self.next = y\n",
    "\n",
    "\n",
    "list1 = [1, 2, 3, 4, 5]\n",
    "\n",
    "\n",
    "def list_node(list1):\n",
    "    if len(list1) > 1:\n",
    "        return ListNode(list1.pop(0), list_node(list1))\n",
    "    else:\n",
    "        return ListNode(list1.pop(0), None)\n",
    "\n",
    "\n",
    "data = list_node(list1)\n",
    "\n",
    "print(data)"
   ],
   "metadata": {
    "collapsed": false,
    "pycharm": {
     "name": "#%%\n",
     "is_executing": false
    }
   }
  },
  {
   "cell_type": "code",
   "execution_count": null,
   "outputs": [],
   "source": [
    "head  = point = ListNode(0)\n",
    "list1 = [1, 2, 3, 4, 5]\n",
    "for i in list1:\n",
    "    head.next = ListNode(i)\n",
    "    head = head.next\n",
    "point.next"
   ],
   "metadata": {
    "collapsed": false,
    "pycharm": {
     "name": "#%%\n"
    }
   }
  }
 ],
 "metadata": {
  "kernelspec": {
   "display_name": "Python 3",
   "language": "python",
   "name": "python3"
  },
  "language_info": {
   "codemirror_mode": {
    "name": "ipython",
    "version": 2
   },
   "file_extension": ".py",
   "mimetype": "text/x-python",
   "name": "python",
   "nbconvert_exporter": "python",
   "pygments_lexer": "ipython2",
   "version": "2.7.6"
  },
  "pycharm": {
   "stem_cell": {
    "cell_type": "raw",
    "source": [],
    "metadata": {
     "collapsed": false
    }
   }
  }
 },
 "nbformat": 4,
 "nbformat_minor": 0
}