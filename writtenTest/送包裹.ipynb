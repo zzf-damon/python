{
 "cells": [
  {
   "cell_type": "markdown",
   "metadata": {
    "collapsed": true,
    "pycharm": {
     "name": "#%% md\n"
    }
   },
   "source": [
    "题目描述\n",
    "\n",
    "\n",
    "第一行输入两个数n,m\n",
    "n表示 需要送货的用户数，每一个用户之间的里程数为1\n",
    "m表示 还可以进行的里程数\n",
    "第二行输入 List[int]\n",
    "\n",
    "如n=6 m =3\n",
    "\n",
    "输入 [0,0,2,3,3]\n",
    "\n",
    "list包含n-1个整数，对于每个数组下标\n",
    "第i+1号用户与[i]号用户有一条道路连接\n",
    "\n",
    "结果输入 4\n",
    "\n",
    "用例\n",
    "\n",
    "\n",
    "5 2\n",
    "0 1 2 3\n",
    "\n"
   ]
  },
  {
   "cell_type": "markdown",
   "source": [
    "![送包裹](image/test.jpg)"
   ],
   "metadata": {
    "collapsed": false
   }
  },
  {
   "cell_type": "code",
   "execution_count": null,
   "outputs": [],
   "source": [
    "import sys\n",
    "\n",
    "\n",
    "# n, m = input().split(\" \")\n",
    "#\n",
    "# list_total = sys.stdin.readline().strip()\n",
    "# list_total = list(map(int, list_total.split(\" \")))\n",
    "\n",
    "\n",
    "def solution(n, m, list_total):\n",
    "    dict_tem = {}\n",
    "    for i, key in enumerate(list_total):\n",
    "        if key in dict_tem.keys():\n",
    "            dict_tem[key] += [i + 1]\n",
    "        else:\n",
    "            dict_tem[key] = [i + 1]\n",
    "    res = []\n",
    "    for i in dict_tem[0]:\n",
    "        tem = m\n",
    "        queue = [i]\n",
    "        count = 2\n",
    "        while tem:\n",
    "            q = queue.pop(0)\n",
    "            if q in dict_tem.keys():\n",
    "                queue.append(dict_tem[q])\n",
    "                tem -= 1\n",
    "                count += 1\n",
    "            else:\n",
    "                pro = [k for k, v in dict_tem.items() if v == q]\n",
    "                queue.append(dict_tem[pro])\n",
    "                tem -= 1\n",
    "\n",
    "\n",
    "    print(res)\n",
    "\n",
    "\n",
    "n, m = 6, 3\n",
    "list_total = [0, 0, 2, 3, 3]\n",
    "solution(n, m, list_total)"
   ],
   "metadata": {
    "collapsed": false,
    "pycharm": {
     "name": "#%%\n"
    }
   }
  },
  {
   "cell_type": "code",
   "execution_count": 1,
   "outputs": [
    {
     "name": "stdout",
     "output_type": "stream",
     "text": [
      "1\n"
     ]
    }
   ],
   "source": [
    "print(1)"
   ],
   "metadata": {
    "collapsed": false,
    "pycharm": {
     "name": "#%%\n"
    }
   }
  },
  {
   "cell_type": "code",
   "execution_count": null,
   "outputs": [],
   "source": [],
   "metadata": {
    "collapsed": false,
    "pycharm": {
     "name": "#%%\n"
    }
   }
  }
 ],
 "metadata": {
  "kernelspec": {
   "display_name": "Python 3",
   "language": "python",
   "name": "python3"
  },
  "language_info": {
   "codemirror_mode": {
    "name": "ipython",
    "version": 2
   },
   "file_extension": ".py",
   "mimetype": "text/x-python",
   "name": "python",
   "nbconvert_exporter": "python",
   "pygments_lexer": "ipython2",
   "version": "2.7.6"
  }
 },
 "nbformat": 4,
 "nbformat_minor": 0
}