{
 "cells": [
  {
   "cell_type": "code",
   "execution_count": 25,
   "metadata": {},
   "outputs": [],
   "source": [
    "import os,re\n",
    "path = \"D:\\program\\Python\\PyTorch\\data\"\n",
    "fileList = os.listdir(path)"
   ]
  },
  {
   "cell_type": "code",
   "execution_count": 26,
   "metadata": {
    "scrolled": true
   },
   "outputs": [
    {
     "data": {
      "text/plain": [
       "['gradient-notes.pdf',\n",
       " 'pytorch-中文学习手册',\n",
       " 'pytorch-中文学习手册.zip',\n",
       " 'Pytorch的入门与实战群问题和资料收集.docx',\n",
       " '深度学习之Pytorch(高清版）.pdf',\n",
       " '第8课.png',\n",
       " '第一课',\n",
       " '第七课-Seq2seq',\n",
       " '第三课',\n",
       " '第二课资料',\n",
       " '第五课',\n",
       " '第八课',\n",
       " '第六课',\n",
       " '第四课',\n",
       " '课程思维导图by 吴同学']"
      ]
     },
     "execution_count": 26,
     "metadata": {},
     "output_type": "execute_result"
    }
   ],
   "source": [
    "fileList"
   ]
  },
  {
   "cell_type": "code",
   "execution_count": 27,
   "metadata": {},
   "outputs": [],
   "source": [
    "for i in fileList:\n",
    "    if os.path.isfile(path+\"\\\\\"+i) == False:\n",
    "        fileLists = os.listdir(path+\"\\\\\"+i)\n",
    "        for j in fileLists:\n",
    "            if \"【瑞客论坛 www.ruike1.com】\" in j :\n",
    "                str2 = re.sub(\"【瑞客论坛 www.ruike1.com】\",\"\",j)\n",
    "                os.rename(path+\"\\\\\"+i+\"\\\\\"+j,path+\"\\\\\"+i+\"\\\\\"+str2)\n",
    "    else:\n",
    "        if \"【瑞客论坛 www.ruike1.com】\" in i :\n",
    "            str2 = re.sub(\"【瑞客论坛 www.ruike1.com】\",\"\",i)\n",
    "            os.rename(path+\"\\\\\"+i,path+\"\\\\\"+str2)"
   ]
  },
  {
   "cell_type": "code",
   "execution_count": 4,
   "metadata": {},
   "outputs": [],
   "source": [
    "?os.rename"
   ]
  },
  {
   "cell_type": "code",
   "execution_count": 5,
   "metadata": {},
   "outputs": [],
   "source": [
    "import re"
   ]
  },
  {
   "cell_type": "markdown",
   "metadata": {},
   "source": [
    "~~~python\n",
    "os.path.abspath(path) #返回绝对路径\n",
    "os.path.basename(path) #返回文件名\n",
    "os.path.commonprefix(list) #返回多个路径中，所有 path 共有的最长的路径。\n",
    "os.path.dirname(path) #返回文件路径\n",
    "os.path.exists(path)  # 路径存在则返回 True, 路径损坏返回 False\n",
    "os.path.lexists  # 路径存在则返回 True, 路径损坏也返回 True\n",
    "os.path.expanduser(path)  # 把 path 中包含的 \"~\" 和 \"~user\" 转换成用户目录\n",
    "os.path.expandvars(path)  # 根据环境变量的值替换 path 中包含的”$name” 和”${name}”\n",
    "os.path.getatime(path)  # 返回最后一次进入此 path 的时间。\n",
    "os.path.getmtime(path)  # 返回在此 path 下最后一次修改的时间。\n",
    "os.path.getctime(path)  # 返回 path 的大小\n",
    "os.path.getsize(path)  # 返回文件大小，如果文件不存在就返回错误\n",
    "os.path.isabs(path)  # 判断是否为绝对路径\n",
    "os.path.isfile(path)  # 判断路径是否为文件\n",
    "os.path.isdir(path)  # 判断路径是否为目录\n",
    "os.path.islink(path)  # 判断路径是否为链接\n",
    "os.path.ismount(path)  # 判断路径是否为挂载点（）\n",
    "os.path.join(path1[, path2[, ...]])  # 把目录和文件名合成一个路径\n",
    "os.path.normcase(path)  # 转换 path 的大小写和斜杠\n",
    "os.path.normpath(path)  # 规范 path 字符串形式\n",
    "os.path.realpath(path)  # 返回 path 的真实路径\n",
    "os.path.relpath(path[, start])  # 从 start 开始计算相对路径\n",
    "os.path.samefile(path1, path2)  # 判断目录或文件是否相同\n",
    "os.path.sameopenfile(fp1, fp2)  # 判断 fp1 和 fp2 是否指向同一文件\n",
    "os.path.samestat(stat1, stat2)  # 判断 stat tuple stat1 和 stat2 是否指向同一个文件\n",
    "os.path.split(path)  # 把路径分割成 dirname 和 basename，返回一个元组\n",
    "os.path.splitdrive(path)   #一般用在 windows 下，返回驱动器名和路径组成的元组\n",
    "os.path.splitext(path)  # 分割路径，返回路径名和文件扩展名的元组\n",
    "os.path.splitunc(path)  # 把路径分割为加载点与文件\n",
    "os.path.walk(path, visit, arg)  # 遍历 path，进入每个目录都调用 visit 函数，visit 函数必须有 3 个参数 (arg, dirname, names)，dirname 表示当前目录的目录名，names 代表当前目录下的所有文件名，args 则为 walk 的第三个参数\n",
    "os.path.supports_unicode_filenames  # 设置是否支持 unicode 路径名\n",
    "~~~"
   ]
  },
  {
   "cell_type": "code",
   "execution_count": 1,
   "metadata": {
    "pycharm": {
     "is_executing": false
    }
   },
   "outputs": [],
   "source": [
    "from pyquery import PyQuery as pq\n"
   ]
  },
  {
   "cell_type": "code",
   "execution_count": 8,
   "outputs": [],
   "source": [
    "with open(\"./test1.txt\",\"r\",encoding=\"utf-8\") as f:\n",
    "    data = f.read()\n",
    " "
   ],
   "metadata": {
    "collapsed": false,
    "pycharm": {
     "name": "#%%\n",
     "is_executing": false
    }
   }
  },
  {
   "cell_type": "code",
   "execution_count": 11,
   "outputs": [],
   "source": [
    "data_pq = pq(data)"
   ],
   "metadata": {
    "collapsed": false,
    "pycharm": {
     "name": "#%%\n",
     "is_executing": false
    }
   }
  },
  {
   "cell_type": "code",
   "execution_count": 23,
   "outputs": [],
   "source": [
    "doc = data_pq(\"doc\").items()"
   ],
   "metadata": {
    "collapsed": false,
    "pycharm": {
     "name": "#%%\n",
     "is_executing": false
    }
   }
  },
  {
   "cell_type": "code",
   "execution_count": 24,
   "outputs": [
    {
     "name": "stdout",
     "text": [
      "http://gongyi.sohu.com/20120706/n347457739.shtml\n",
      "深圳地铁将设立ＶＩＰ头等车厢　买双倍票可享坐票\n",
      "http://gongyi.sohu.com/20120724/n348878190.shtml\n",
      "爸爸为女儿百万建幼儿园　消防设施３年仍不过关\n",
      "http://gongyi.sohu.com/s2008/sourceoflife/\n",
      "中国西部是地球上主要干旱带之一，妇女是当地劳动力．．．\n",
      "http://gongyi.sohu.com/20120612/n345424232.shtml\n",
      "思源焦点公益基金救助孩子：永康\n",
      "http://gongyi.sohu.com/20120629/n346847569.shtml\n",
      "康师傅回应转卖废弃茶叶：下家承诺用废料做枕头\n",
      "http://gongyi.sohu.com/s2009/gongyidream/\n",
      "活动时间：\n",
      "http://gongyi.sohu.com/20120730/n349358066.shtml\n",
      "失独父母中年遇独子夭折　称不怕死亡怕养老生病\n",
      "http://gongyi.sohu.com/s2009/xianxue/\n",
      "全民健康生活方式　健康血压活动\n",
      "http://gongyi.sohu.com/20120718/n348484276.shtml\n",
      "中华儿慈会—“童缘”第三期资助项目公示名单\n",
      "http://gongyi.sohu.com/s2009/cishandaohang/\n",
      "５．１２灾后重建资助项目投票评选\n",
      "http://gongyi.sohu.com/20120716/n348252252.shtml\n",
      "以书为友，知行合一—２０１２年小桔灯湖北站\n",
      "http://gongyi.sohu.com/s2009/redcross/\n",
      "博爱周活动时间：\n",
      "http://gongyi.sohu.com/s2009/nongmingongaizi/\n",
      "艾滋病反歧视创意大赛\n",
      "http://gongyi.sohu.com/s2009/qiangzuhechangtuan/\n",
      "“金葵花”羌族少儿合唱团公益活动\n",
      "http://gongyi.sohu.com/20120713/n348090629.shtml\n",
      "视频征集入围短片\n",
      "http://gongyi.sohu.com/20120614/n345599477.shtml\n",
      "１５所学校过初选　甘肃１１９７名山里娃有望穿上新鞋\n",
      "http://gongyi.sohu.com/s2010/zggy/index.shtml\n",
      "２０１０地球一小时\n",
      "http://gongyi.sohu.com/20120620/n346152981.shtml\n",
      "２０１２年＂中国爱心城市＂公益活动举行新闻发布会\n",
      "http://gongyi.sohu.com/20120619/n345984925.shtml\n",
      "北京回应租自行车暂限京籍　将向所有人开放\n",
      "http://gongyi.sohu.com/20120723/n348800155.shtml\n",
      "南山奶粉５批次含强致癌物　光明奶油上“黑榜”\n",
      "http://gongyi.sohu.com/20120626/n346513206.shtml\n",
      "河北一红十字医院校内发色情刊物　宣传学生人流\n",
      "http://gongyi.sohu.com/s2009/skzctm/\n",
      "因为有你爱驻我家　－　六一娃娃礼物计划\n",
      "http://gongyi.sohu.com/20120705/n347340137.shtml\n",
      "深圳拟分类救助流浪乞讨者　将劝返职业乞讨人员\n",
      "http://gongyi.sohu.com/s2009/wuguoji/\n",
      "国籍保障公民基本权利\n",
      "http://gongyi.sohu.com/20120612/n345428262.shtml\n",
      "让爱响彻南京　财智·公益盛典募集善款８０万元\n",
      "http://gongyi.sohu.com/s2012/seminar35/index.shtml\n",
      "联合主办：清华大学环境学院　中国水网\n",
      "http://gongyi.sohu.com/20120718/n348446606.shtml\n",
      "徐大发：“活祭”老父求救助是损德的恶炒\n",
      "http://gongyi.sohu.com/s2011/jjslkj/\n",
      "聚焦水流困局视频播报\n",
      "http://gongyi.sohu.com/20120725/n348985705.shtml\n",
      "头枕砸窗撬窗均被证不靠谱　汽车玻璃贴膜更难砸\n",
      "http://gongyi.sohu.com/20120612/n345423827.shtml\n",
      "思源焦点公益基金受助孩子：坚强的萍萍\n",
      "http://gongyi.sohu.com/20120716/n348262871.shtml\n",
      "“信为本、孝为先”　敬老爱老公益计划在京启动\n",
      "http://gongyi.sohu.com/20120710/n347754195.shtml\n",
      "黄怒波：１０年内捐５００亿　不再信任官办慈善机构\n",
      "http://gongyi.sohu.com/s2010/earth-hour/\n",
      "低碳经济呼唤戒除奢侈消费\n",
      "http://gongyi.sohu.com/20120628/n346743894.shtml\n",
      "医保缴费年限将各地互认并累计　将研究延迟退休\n",
      "http://gongyi.sohu.com/20120601/n344630519.shtml\n",
      "“送双运动鞋”项目公示：思源焦点基金首批捐赠\n",
      "http://gongyi.sohu.com/s2009/greencarbonproject/\n",
      "社会公众碳汇同行个人捐助计划：一人捐赠一棵树、争做绿色公民\n",
      "http://gongyi.sohu.com/s2010/xdcj/\n",
      "从问题奶粉、地沟油到假消毒餐具，更大的问题还在于道德的溃败、信任的失守［\n",
      "http://gongyi.sohu.com/20120731/n349459415.shtml\n",
      "崔永元请农民工吃饭：自己掏腰包　不代表任何人\n",
      "http://gongyi.sohu.com/20120612/n345423199.shtml\n",
      "赠与公证细则\n",
      "http://gongyi.sohu.com/20120629/n346847396.shtml\n",
      "英国游客性骚扰中国女孩　律师称可能轻罚惹众怒\n",
      "http://gongyi.sohu.com/20120730/n349388204.shtml\n",
      "浙江９名师生支教四川　凉山深处上学娃（图）\n",
      "http://gongyi.sohu.com/20120619/n345990273.shtml\n",
      "全国各省市血站将开放一个月　同时公示血液价格\n",
      "http://gongyi.sohu.com/20120726/n349068230.shtml\n",
      "灾情最重村庄准备消毒防疫\n",
      "http://gongyi.sohu.com/s2011/xingbiepingdeng/\n",
      "澄清认识误区：没有暴力的生活是所有人的权利\n",
      "http://gongyi.sohu.com/s2010/jjhtmd/index.shtml\n",
      "为青海玉树地震灾区的同胞募捐行动\n",
      "http://gongyi.sohu.com/s2008/wuyanzhongguo/\n",
      "包含规定的关于烟草使用所致健康危害和具体疾病的描述内容\n",
      "http://gongyi.sohu.com/s2009/sspa/\n",
      "２００９索尼海外交流第四日精彩瞬间\n",
      "http://gongyi.sohu.com/s2011/iwill/\n",
      "“Ｉ　Ｗｉｌｌ爱·未来”摄影作品征集获奖名单\n",
      "http://gongyi.sohu.com/s2009/liudongertong/\n",
      "因为有你爱驻我家　－　六一娃娃礼物计划\n",
      "http://gongyi.sohu.com/20120612/n345430923.shtml\n",
      "思源焦点公益基金联手曲美家具共献爱心\n",
      "http://gongyi.sohu.com/20120608/n345080983.shtml\n",
      "孙冕向“给孩子送双运动鞋”捐赠２００双运动鞋\n",
      "http://gongyi.sohu.com/20120620/n346094762.shtml\n",
      "杭州地铁将出守则：拟禁饮食　允许导盲犬入车厢\n",
      "http://gongyi.sohu.com/s2011/xiaochuqishi/\n",
      "为青海贫困地区儿童捐赠人生第一个书包\n",
      "http://gongyi.sohu.com/20120716/n348242197.shtml\n",
      "“延迟退休”话题升温　网民担心冲击年轻人就业\n",
      "http://gongyi.sohu.com/20120724/n348876845.shtml\n",
      "养老保险空账正迅速扩大　养老金缺口凸显老龄化\n",
      "http://gongyi.sohu.com/s2009/jijinbianzhi/\n",
      "１５０年来杜南的“个人有能力改变世界”的信念激励着全世界上亿志愿者…［\n",
      "http://gongyi.sohu.com/20120719/n348576784.shtml?97452136\n",
      "公益短片《２０３２我们期望的未来》表达未来愿景\n",
      "http://gongyi.sohu.com/20120724/n348894485.shtml\n",
      "石油公司操作不当致２０吨污水泄漏　村民闻后胸闷\n",
      "http://gongyi.sohu.com/20120608/n345104238.shtml\n",
      "“给孩子送双运动鞋”公益行动志愿者登记表\n",
      "http://gongyi.sohu.com/s2010/youaiyoujia/\n",
      "中国扶贫基金会“有爱·有家”孤儿助养项目内容（从２０１０年７月起实行新助养方案）\n",
      "http://gongyi.sohu.com/s2010/yiluntan15/\n",
      "盖茨巴菲特捐赠半数财产猜想\n",
      "http://gongyi.sohu.com/20120724/n348887387.shtml\n",
      "黑龙江野生动物频现　科学管护林区初显生态效应\n",
      "http://gongyi.sohu.com/20120704/n347237743.shtml\n",
      "给孩子加个菜公益项目２０１２年６月收支报告\n",
      "http://gongyi.sohu.com/s2008/redribbonunaids/index.shtml\n",
      "红丝带神州行－预防艾滋病列车宣传活动\n",
      "http://gongyi.sohu.com/20120601/n344627782.shtml\n",
      "“给孩子送双运动鞋”行动联合发起人：李冰冰\n",
      "http://gongyi.sohu.com/20120723/n348796043.shtml\n",
      "养老金空账以２５％速度扩大　２０１５年或现支付缺口\n",
      "http://gongyi.sohu.com/s2009/09dizhenguer/\n",
      "中国扶贫基金会“有爱·有家”孤儿助养项目内容（从２０１０年７月起实行新助养方案）\n",
      "http://gongyi.sohu.com/s2008/zhiyuanzheri/\n",
      "英国海外志愿服务社\n",
      "http://gongyi.sohu.com/20120612/n345431427.shtml\n",
      "＂思源沼气＂项目荣获国家慈善领域最高政府奖项\n",
      "http://gongyi.sohu.com/s2011/xinshijie\n",
      "２０１１“芯世界”公益创新奖获奖项目\n",
      "http://gongyi.sohu.com/20120612/n345376857.shtml\n",
      "京拟装６万电子眼监控地沟油　设备费用约３０００万\n",
      "http://gongyi.sohu.com/20120702/n347031423.shtml\n",
      "新疆６．６级地震致１５万人受灾　已启动４级救灾响应\n",
      "http://gongyi.sohu.com/20120725/n348974805.shtml\n",
      "港报：动车事故幸存女孩被幼儿园拒收\n",
      "http://gongyi.sohu.com/s2010/61/\n",
      "因为有你，爱驻我家\n",
      "http://gongyi.sohu.com/20120625/n346427175.shtml\n",
      "扶正祛邪　贵阳将见义勇为基金规模增至２０００万元\n",
      "http://gongyi.sohu.com/20120723/n348803925.shtml\n",
      "民间慈善外援反超境外捐助　近半项目透明度不足\n",
      "http://gongyi.sohu.com/20120619/n345992391.shtml\n",
      "甘肃教师涉嫌强奸多名学生　受害者多为留守儿童\n",
      "http://gongyi.sohu.com/s2011/shuihuanbao/index.shtml\n",
      "２０１１年全国水环保公益人物评选　获奖名单出炉\n",
      "http://gongyi.sohu.com/20120723/n348833636.shtml\n",
      "北京暴雨引关注　交巡警详解车掉水中如何自救\n",
      "http://gongyi.sohu.com/s2012/pku/index.shtml\n",
      "２０１１地球一小时\n",
      "http://gongyi.sohu.com/20120724/n348921641.shtml\n",
      "宠物与城市：生存与责任的脆弱链条\n",
      "http://gongyi.sohu.com/s2008/yuanzxd/\n",
      "爱我西藏支援西藏阳光工程基金说明\n",
      "http://gongyi.sohu.com/20120723/n348801879.shtml\n",
      "动车事故小伊伊仍然在康复　羡慕正常小孩（组图）\n",
      "http://gongyi.sohu.com/20120612/n345428013.shtml\n",
      "思源焦点公益基金助医志愿者报名表\n",
      "http://gongyi.sohu.com/s2008/environmentforum/\n",
      "环境讲坛第二期：国家四万亿投资对污水和垃圾处理行业的影响\n",
      "http://gongyi.sohu.com/20120702/n347030443.shtml\n",
      "人社部专家建议延至６５岁退休　缓解劳动力不足\n",
      "http://gongyi.sohu.com/20120724/n348877854.shtml\n",
      "流浪老太在福利院走失流浪　称衣物被脱走后赶出\n",
      "http://gongyi.sohu.com/20120703/n347129114.shtml\n",
      "超９成网民反对退休年龄延至６５岁\n",
      "http://gongyi.sohu.com/20120703/n347137014.shtml\n",
      "广州试点垃圾袋实名制举措　按袋计量征收垃圾费\n",
      "http://gongyi.sohu.com/20120626/n346512665.shtml\n",
      "１１岁女孩勇救５岁溺水男孩　校长称要表扬不提倡\n",
      "http://gongyi.sohu.com/20120625/n346426113.shtml\n",
      "中国发布我国首份稀土白皮书　环境污染触目惊心\n",
      "http://gongyi.sohu.com/s2010/llhsh/\n",
      "「２０年后谁来养活中国？」\n",
      "http://gongyi.sohu.com/20120607/n345016143.shtml\n",
      "“送双运动鞋”公示：截止６月７日８所学校已受捐\n",
      "http://gongyi.sohu.com/20120718/n348445647.shtml\n",
      "教育部：眼保健操有科学依据　理性对待网络言论\n",
      "http://gongyi.sohu.com/20120612/n345424034.shtml\n",
      "思源焦点公益基金救助孩子：童童\n",
      "http://gongyi.sohu.com/20120723/n348787120.shtml\n",
      "爸爸见义勇为遭冷遇　１２岁儿子劝其“以后别管”\n",
      "http://gongyi.sohu.com/s2009/yichanbaohu/\n",
      "水井坊遗址（传统手工技艺类）\n",
      "http://gongyi.sohu.com/s2010/xezz/\n",
      "为便于交流和及时了解活动信息，请各社团开通微博，开通办法：\n",
      "http://gongyi.sohu.com/s2012/laobingone/index.shtml\n",
      "参加过的战争　松山战役\n",
      "http://gongyi.sohu.com/s2009/zhiyuanzhe/\n",
      "志愿者经历打开升学之门\n",
      "http://gongyi.sohu.com/s2008/redribbonunaids/\n",
      "红丝带神州行－预防艾滋病列车宣传活动\n",
      "http://gongyi.sohu.com/s2009/lvseouxiang/\n",
      "大学生绿色偶像评选\n",
      "http://gongyi.sohu.com/20120615/n345692185.shtml\n",
      "益调查：你是否担心血荒常态化？\n",
      "http://gongyi.sohu.com/20120619/n346047899.shtml\n",
      "王健林：做慈善要有创新　５年内万达将捐２０亿\n",
      "http://gongyi.sohu.com/20120702/n347032815.shtml\n",
      "苍南回应福利院铁链拴养孤儿　将查违法渎职行为\n",
      "http://gongyi.sohu.com/s2011/xinshijie/\n",
      "２０１１“芯世界”公益创新奖获奖项目\n",
      "http://gongyi.sohu.com/20120713/n348077853.shtml\n",
      "北京人＂非常幸福＂仅０．０８％　食品安全心理压力大\n",
      "http://gongyi.sohu.com/20120625/n346419490.shtml\n",
      "上海地铁请女性自重　女志愿者用行为艺术示抗议\n",
      "http://gongyi.sohu.com/20120716/n348242309.shtml\n",
      "贫困地区小学生读物更新慢　农技类书籍充数图书\n",
      "http://gongyi.sohu.com/20120629/n346848461.shtml\n",
      "全国人大常委会组成人员：饮用水应有专管部门\n",
      "http://gongyi.sohu.com/20120724/n348917750.shtml\n",
      "萨顶顶的公益三段论\n",
      "http://gongyi.sohu.com/20120611/n345270828.shtml\n",
      "内地公益从业者９０％月薪五千以下　四成人无社保\n",
      "http://gongyi.sohu.com/s2011/bailingxiahuahui/index.shtml\n",
      "“白领黑苹果—夏花会”简介\n",
      "http://gongyi.sohu.com/s2010/guangfa/\n",
      "广发希望慈善基金爱心足迹\n",
      "http://gongyi.sohu.com/20120614/n345593183.shtml\n",
      "“中国红十字会首次开放日活动”　开放了什么？\n",
      "http://gongyi.sohu.com/s2011/7billion/index.shtml\n",
      "世界第７０亿人在菲律宾降生\n",
      "http://gongyi.sohu.com/20120726/n349075500.shtml\n",
      "３３００万失能老人处窘境　多数养老院不愿收\n",
      "http://gongyi.sohu.com/s2010/2010sspa/\n",
      "２０１０索尼海外学生交流精彩瞬间\n",
      "http://gongyi.sohu.com/20120612/n345424351.shtml\n",
      "思源焦点公益基金救助孩子：爱笑的纯纯\n",
      "http://gongyi.sohu.com/s2008/jnaidsday/index.shtml\n",
      "联合国艾滋病规划署\n",
      "http://gongyi.sohu.com/s2010/weishijiang/\n",
      "中国成象牙消费最大国家　消费者成间接杀手\n",
      "http://gongyi.sohu.com/s2009/solferino150/\n",
      "是在瑞士日内瓦缔结的关于保护平民和战争受难者的一系列国际公约的总称…［\n",
      "http://gongyi.sohu.com/20120621/n346210598.shtml\n",
      "“小桔灯”乡村小学图书馆计划活动介绍\n",
      "http://gongyi.sohu.com/s2010/bird/\n",
      "报名参加四地线下观鸟活动\n",
      "http://gongyi.sohu.com/20120627/n346682014.shtml\n",
      "益论坛：聚焦饮水安全　一线水司现身说法（全文）\n",
      "http://gongyi.sohu.com/20120726/n349069701.shtml\n",
      "人社部：延迟退休拟采取差别政策\n",
      "http://gongyi.sohu.com/s2010/panda/\n",
      "山水自然保护中心的大熊猫保护观\n",
      "http://gongyi.sohu.com/20120727/n349155182.shtml\n",
      "合肥毁容少女周岩索赔１１６万　提交民事诉讼请求\n",
      "http://gongyi.sohu.com/20120601/n344627512.shtml\n",
      "潘石屹携旗下基金向“给孩子送双运动鞋”捐款\n",
      "http://gongyi.sohu.com/20120730/n349357696.shtml\n",
      "红会首次向７－２１遇难者发放慰问金　烈士每人３万\n",
      "http://gongyi.sohu.com/s2008/wawachangge/\n",
      "“娃娃，唱歌给你听”儿童音乐行动刚启动就收到很多明星的\n",
      "http://gongyi.sohu.com/20120621/n346195201.shtml\n",
      "《上海市募捐条例》已正式立法　将于９月起实施\n",
      "http://gongyi.sohu.com/s2011/xcjspx5/index.shtml\n",
      "第五期乡村教师培训之教学观摩日\n",
      "http://gongyi.sohu.com/20120618/n345877142.shtml\n",
      "北京公共自行车服务系统试运营　仅本地人可申办\n",
      "http://gongyi.sohu.com/20120619/n346051128.shtml\n",
      "红粉笔河南站—在千年古县留下热爱的足迹\n",
      "http://2008.sohu.com/s2006/torinoblog/index.shtml\n",
      "都灵冬奥赛场看五星红旗飘扬\n",
      "http://2008.sohu.com/s2005/s241026749/\n",
      "（０２／２７　１０：１７）\n",
      "http://club.baobao.sohu.com/r-mom_daugh-37516282-48-67-5.html\n",
      "主题：Ｒｅ：包子老公终于早饭了\n",
      "http://club.baobao.sohu.com/read_elite.php?b=mom_daugh&a=12455341\n",
      "主题：不管孩子多少，只要有一对无耻的儿子媳妇，老人就完蛋\n",
      "http://club.baobao.sohu.com/read_elite.php?b=zz0223&a=12282733\n",
      "主题：［原创］家长自检：你的孩子有这些错误的饮食习惯吗？\n",
      "http://2008.sohu.com/s2005/4641/s240675489.shtml\n",
      "北京奥组委市场开发部部长袁斌与搜狐公司首席财务官余楚媛签约\n",
      "http://2008.sohu.com/s2005/4641/s240675448.shtml\n",
      "北京奥组委执行副主席蒋效愚同志揭启全新改版的北京奥运官方网站\n",
      "http://gongyi.sohu.com/20120629/n346849641.shtml\n",
      "虫眼菜所含农药未必少　警惕很白很艳食品\n",
      "http://gongyi.sohu.com/20120725/n348973644.shtml\n",
      "３３００万失能老人处窘境　多数养老院不愿接收照护\n",
      "http://gongyi.sohu.com/s2010/xueziqing/index.shtml\n",
      "活动以“圆今日学子梦，造未来栋梁材”为主旨．．．\n",
      "http://gongyi.sohu.com/20120706/n347513313.shtml\n",
      "“福气多”江河环境健康状况考察即将启动\n",
      "http://gongyi.sohu.com/20120717/n348340550.shtml\n",
      "国际红十字会宣称叙利亚陷内战　适用国际人道法\n",
      "http://gongyi.sohu.com/s2010/yiluntan15/index.shtml\n",
      "盖茨巴菲特捐赠半数财产猜想\n",
      "http://gongyi.sohu.com/s2012/seminar35/\n",
      "联合主办：清华大学环境学院　中国水网\n",
      "http://gongyi.sohu.com/20120607/n344990896.shtml\n",
      "送你一双鞋　走好人生路\n",
      "http://gongyi.sohu.com/20120620/n346096897.shtml\n",
      "学生营养餐校长“陪吃”　食堂供餐须替校外供餐\n",
      "http://gongyi.sohu.com/20120612/n345423512.shtml\n",
      "“娃娃的环保视界”公益演出　帮助孩子关注环保\n",
      "http://gongyi.sohu.com/20120730/n349357570.shtml\n",
      "京港澳高速获救者鞠躬感谢农民工救命之恩（图）\n",
      "http://gongyi.sohu.com/s2011/earthhour/\n",
      "搜狐公益全程记录下全球城市接力地球一小时\n",
      "http://gongyi.sohu.com/20120723/n348809543.shtml\n",
      "山东十几户环卫工蜗居半截楼　门窗全无水电已停\n",
      "http://gongyi.sohu.com/20120726/n349070789.shtml\n",
      "深圳加强餐厨垃圾处理　通过ＤＮＡ检测严防地沟油\n",
      "http://gongyi.sohu.com/20120703/n347126230.shtml\n",
      "饮用水卫生标准新国标开始实施　与欧盟标准持平\n",
      "http://gongyi.sohu.com/s2011/chenfeibing/\n",
      "捐赠项目请选“寻找救助尘肺农民工行动”\n",
      "http://gongyi.sohu.com/20120702/n347036345.shtml\n",
      "北京拟拨款３亿明年为１１种大病患者提供二次报销\n",
      "http://gongyi.sohu.com/20120730/n349354002.shtml\n",
      "杭州地铁应对暴雨有预案　误１５分钟启动公交接驳\n",
      "http://gongyi.sohu.com/s2009/09wllwsx/index.shtml\n",
      "致各位亲爱的同胞：\n",
      "http://gongyi.sohu.com/20120727/n349163046.shtml\n",
      "民政部：城市见义勇为人员优先配租配售保障房\n",
      "http://gongyi.sohu.com/s2009/0938wemenday/\n",
      "“警察妈妈”蒋晓娟被评为最具爱心华人女性\n",
      "http://gongyi.sohu.com/20120706/n347454985.shtml\n",
      "卫生部称三聚氰胺国标宽松系误读　折算两者一致\n",
      "http://gongyi.sohu.com/20120725/n348974010.shtml\n",
      "北京小区猫狗遭飞镖射杀　居民担忧人身安全报案\n",
      "http://gongyi.sohu.com/20120704/n347244557.shtml\n",
      "青岛公厕提供免费卫生纸遭疯抢　每天被扯两千米\n",
      "http://gongyi.sohu.com/20120723/n348811044.shtml\n",
      "上海鼓励独居老人开放客厅　近邻之间相互照应\n",
      "http://gongyi.sohu.com/20120629/n346847753.shtml\n",
      "广州将推绿化管理条例　施工致树死亡最高罚５０万\n",
      "http://gongyi.sohu.com/20120621/n346249387.shtml\n",
      "安利今年首个春苗营养厨房在湖北落成\n",
      "http://gongyi.sohu.com/s2010/llhsh2/\n",
      "「老龄化的焦虑：人活着　钱没了」\n",
      "http://gongyi.sohu.com/20120724/n348893932.shtml\n",
      "８岁男童偷吃鸡爪遭继母肢解　腐尸引来大量苍蝇\n",
      "http://gongyi.sohu.com/20120727/n349172970.shtml\n",
      "益调查：自救知识，你足够了解吗？\n",
      "http://gongyi.sohu.com/20120702/n347078501.shtml\n",
      "地铁微博引争议　北京律师申请公开防性骚扰措施\n",
      "http://gongyi.sohu.com/20120719/n348576784.shtml\n",
      "公益短片《２０３２我们期望的未来》表达未来愿景\n",
      "http://gongyi.sohu.com/s2009/xiaojudeng/index.shtml\n",
      "小桔灯志愿者募集中：\n",
      "http://gongyi.sohu.com/20120716/n348241993.shtml\n",
      "韩长赋：应使农民工有序融入城市转为城市居民\n",
      "http://gongyi.sohu.com/20120627/n346742548.shtml\n",
      "上海发布ＰＭ２．５值首日空气质量优于国家一级标准\n",
      "http://gongyi.sohu.com/s2009/shankuanjieliu/\n",
      "因为有你爱驻我家　－　六一娃娃礼物计划\n",
      "http://gongyi.sohu.com/20120716/n348243635.shtml\n",
      "我国失独生子女家庭日益增多　面临养老等困境\n",
      "http://gongyi.sohu.com/s2010/climate-change/\n",
      "环保增加生活成本？\n",
      "http://gongyi.sohu.com/20120706/n347497727.shtml\n",
      "温暖２０１２　张元执导５部公益微电影聚焦弱势儿童\n",
      "http://gongyi.sohu.com/20120612/n345429394.shtml\n",
      "邢傲伟：望更多人加入搜狐慈善　伦敦体操或取５金\n",
      "http://gongyi.sohu.com/20120724/n348894458.shtml\n",
      "７岁女童被１６岁男孩强奸会阴裂伤　梦中大喊救命\n",
      "http://gongyi.sohu.com/s2010/hongfenbi/\n",
      "经有一群穿着红衣戴着红帽、叫做粉笔头儿的老师们点缀过他们的童年时光…［\n",
      "http://gongyi.sohu.com/20120706/n347464667.shtml\n",
      "青年救人溺亡　前老板悬赏寻离去被救者“求谢”\n",
      "http://gongyi.sohu.com/20120612/n345422364.shtml\n",
      "基金会管理条例\n",
      "http://gongyi.sohu.com/s2009/fuliyuan/\n",
      "全民健康生活方式　健康血压活动\n",
      "http://gongyi.sohu.com/s2010/10xinshijie/\n",
      "民政部社会福利和慈善事业促进司\n",
      "http://gongyi.sohu.com/20120618/n345933888.shtml\n",
      "壹基金救援联盟备战水灾展开公益救援演习\n",
      "http://gongyi.sohu.com/20120621/n346221952.shtml\n",
      "调查：你认可在自动提款机上设置捐赠选项吗？\n",
      "http://gongyi.sohu.com/20120718/n348446788.shtml\n",
      "出租车燃油费跟涨不跟跌　全国仅有１１个城市下调\n",
      "http://gongyi.sohu.com/s2009/cishanreqing/\n",
      "「为何慈善机制落后于热情？」\n",
      "http://gongyi.sohu.com/20120613/n345502187.shtml\n",
      "思源焦点公益基金医疗救助申请表\n",
      "http://gongyi.sohu.com/20120727/n349150903.shtml\n",
      "北京７－２１暴雨已致７７人遇难　１１人身份正在确认\n",
      "http://focusfamily.i.auto.sohu.com/apply_zone.php\n",
      "创建新论坛\n",
      "http://try.women.sohu.com/Activity/info/36\n",
      "羽西当归透白莹润精华液\n",
      "http://try.women.sohu.com/activity/info/23\n",
      "我可能感兴趣的试用\n",
      "http://try.women.sohu.com/activity/info/53\n",
      "使用彩妆及防晒隔离产品时，使用卸妆及洁面产品，做好双重清洁；\n",
      "http://try.women.sohu.com/report/info/19\n",
      "欧诗漫珍珠白净系列，夏日美白圣品！\n",
      "http://try.women.sohu.com/Activity/in_activity/0/4\n",
      "提交试用报告\n"
     ],
     "output_type": "stream"
    }
   ],
   "source": [
    "for item in doc:\n",
    "    url = item.find(\"url\").text()\n",
    "    \n",
    "    print(item.find(\"contenttitle\").text())"
   ],
   "metadata": {
    "collapsed": false,
    "pycharm": {
     "name": "#%%\n",
     "is_executing": false
    }
   }
  },
  {
   "cell_type": "code",
   "execution_count": 4,
   "outputs": [
    {
     "data": {
      "text/plain": "'{\"Response\":{\"Error\":{\"Code\":\"AuthFailure.SignatureExpire\",\"Message\":\"The signature is expired, please request again.\"},\"RequestId\":\"ca3eb535-0707-4593-baac-3b819567794a\"}}'"
     },
     "metadata": {},
     "output_type": "execute_result",
     "execution_count": 4
    }
   ],
   "source": [
    "import math,requests,time\n",
    "now_time = int(math.modf(time.time())[1])\n",
    "url = \"https://nlp.tencentcloudapi.com/?Action=SensitiveWordsRecognition&Text='李心草杀人案'&Version=2019-04-08&Timestamp=\"+str(now_time)+\"&SignatureMethod=HmacSHA256&Timestamp=1527672334&Signature=37ac2f4fde00b0ac9bd9eadeb459b1bbee224158d66e7ae5fcadb70b2d181d02&Region=ap-guangzhou&Nonce=23823223&SecretId=AKIDEXAMPLE\"\n",
    "response = requests.get(url).text\n",
    "response"
   ],
   "metadata": {
    "collapsed": false,
    "pycharm": {
     "name": "#%%\n",
     "is_executing": false
    }
   }
  },
  {
   "cell_type": "code",
   "execution_count": 5,
   "outputs": [],
   "source": [
    "with open(\"./test.txt\",\"r\",encoding='utf-8') as f:\n",
    "    data = f.readlines()\n",
    "\n",
    "with open(\"./train.txt\",\"a\",encoding='utf-8') as f:\n",
    "    for i in data:\n",
    "        content = i.split(\"\\t\")[0]\n",
    "        f.write(content+\"\\n\")\n",
    "\n"
   ],
   "metadata": {
    "collapsed": false,
    "pycharm": {
     "name": "#%%\n"
    }
   }
  },
  {
   "cell_type": "code",
   "execution_count": 10,
   "outputs": [],
   "source": [
    "import random\n",
    "with open(\"./train.mian\",\"r\",encoding='utf-8') as f:\n",
    "    data = f.readlines()\n",
    "\n",
    "with open(\"./train.mian1\",\"a\",encoding='utf-8') as f:\n",
    "    for i,j in enumerate(data):\n",
    "        number = i % 5\n",
    "        f.write(j.strip() + \"\\t\"+str(number)+\"\\n\")"
   ],
   "metadata": {
    "collapsed": false,
    "pycharm": {
     "name": "#%%\n"
    }
   }
  },
  {
   "cell_type": "code",
   "execution_count": 7,
   "outputs": [
    {
     "data": {
      "text/plain": "1"
     },
     "execution_count": 7,
     "metadata": {},
     "output_type": "execute_result"
    }
   ],
   "source": [
    "1 % 5"
   ],
   "metadata": {
    "collapsed": false,
    "pycharm": {
     "name": "#%%\n"
    }
   }
  },
  {
   "cell_type": "code",
   "execution_count": null,
   "outputs": [],
   "source": [
    "\n"
   ],
   "metadata": {
    "collapsed": false,
    "pycharm": {
     "name": "#%%\n"
    }
   }
  }
 ],
 "metadata": {
  "kernelspec": {
   "display_name": "Python 3",
   "language": "python",
   "name": "python3"
  },
  "language_info": {
   "codemirror_mode": {
    "name": "ipython",
    "version": 3
   },
   "file_extension": ".py",
   "mimetype": "text/x-python",
   "name": "python",
   "nbconvert_exporter": "python",
   "pygments_lexer": "ipython3",
   "version": "3.7.3"
  },
  "varInspector": {
   "cols": {
    "lenName": 16,
    "lenType": 16,
    "lenVar": 40
   },
   "kernels_config": {
    "python": {
     "delete_cmd_postfix": "",
     "delete_cmd_prefix": "del ",
     "library": "var_list.py",
     "varRefreshCmd": "print(var_dic_list())"
    },
    "r": {
     "delete_cmd_postfix": ") ",
     "delete_cmd_prefix": "rm(",
     "library": "var_list.r",
     "varRefreshCmd": "cat(var_dic_list()) "
    }
   },
   "types_to_exclude": [
    "module",
    "function",
    "builtin_function_or_method",
    "instance",
    "_Feature"
   ],
   "window_display": false
  }
 },
 "nbformat": 4,
 "nbformat_minor": 2
}