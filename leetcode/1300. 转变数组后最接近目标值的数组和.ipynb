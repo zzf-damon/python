{
 "cells": [
  {
   "cell_type": "code",
   "execution_count": 15,
   "metadata": {
    "collapsed": true
   },
   "outputs": [],
   "source": [
    "arr = [4,9,3]\n",
    "target = 10\n",
    "arr1 = [2,3,5]\n",
    "target1 = 10\n",
    "arr2 = [60864,25176,27249,21296,20204]\n",
    "target2 = 56803\n",
    "arr3 = [4,9,3,7]\n",
    "target3 = 20\n",
    "arr4 = [1547,83230,57084,93444,70879]\n",
    "target4 = 71237"
   ]
  },
  {
   "cell_type": "code",
   "execution_count": 16,
   "outputs": [
    {
     "name": "stdout",
     "output_type": "stream",
     "text": [
      "14248\n"
     ]
    }
   ],
   "source": [
    "def findBestValue(arr, target: int) -> int:\n",
    "    poor = sum(arr) - target\n",
    "    if poor <= 0:\n",
    "        return max(arr)\n",
    "    min_ = target//len(arr)\n",
    "    max_ = max(arr)-1 if poor<min_ else min(poor-min_,min_+1)\n",
    "    while max_ >= min_:\n",
    "        arr = [i if i < max_ else max_ for i in arr]\n",
    "        if abs(sum(arr) - target) >= poor:\n",
    "            return max_+1\n",
    "        else:\n",
    "            poor = abs(sum(arr) - target)\n",
    "        max_ = max_-1 if poor<min_ else min(poor-min_,min_+1)\n",
    "    return max_+1\n",
    "\n",
    "print(findBestValue(arr4,target4))"
   ],
   "metadata": {
    "collapsed": false,
    "pycharm": {
     "name": "#%%\n"
    }
   }
  },
  {
   "cell_type": "code",
   "execution_count": null,
   "outputs": [],
   "source": [
    "\n"
   ],
   "metadata": {
    "collapsed": false,
    "pycharm": {
     "name": "#%%\n"
    }
   }
  }
 ],
 "metadata": {
  "kernelspec": {
   "display_name": "Python 3",
   "language": "python",
   "name": "python3"
  },
  "language_info": {
   "codemirror_mode": {
    "name": "ipython",
    "version": 2
   },
   "file_extension": ".py",
   "mimetype": "text/x-python",
   "name": "python",
   "nbconvert_exporter": "python",
   "pygments_lexer": "ipython2",
   "version": "2.7.6"
  }
 },
 "nbformat": 4,
 "nbformat_minor": 0
}