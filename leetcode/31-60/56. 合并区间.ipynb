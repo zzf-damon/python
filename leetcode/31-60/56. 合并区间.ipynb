{
 "nbformat": 4,
 "nbformat_minor": 2,
 "metadata": {
  "language_info": {
   "name": "python",
   "codemirror_mode": {
    "name": "ipython",
    "version": 3
   },
   "version": "3.7.4-final"
  },
  "orig_nbformat": 2,
  "file_extension": ".py",
  "mimetype": "text/x-python",
  "name": "python",
  "npconvert_exporter": "python",
  "pygments_lexer": "ipython3",
  "version": 3,
  "kernelspec": {
   "name": "python3",
   "language": "python",
   "display_name": "Python 3"
  },
  "pycharm": {
   "stem_cell": {
    "cell_type": "raw",
    "source": [],
    "metadata": {
     "collapsed": false
    }
   }
  }
 },
 "cells": [
  {
   "cell_type": "code",
   "execution_count": 33,
   "metadata": {
    "pycharm": {
     "is_executing": false
    }
   },
   "outputs": [],
   "source": [
    "import collections\n",
    "nums1=[[1,3],[2,6],[8,10],[15,18]]\n",
    "nums2=[[1,4],[4,5]]\n",
    "\n",
    "nums4 = [[1,4],[2,3]]"
   ]
  },
  {
   "cell_type": "markdown",
   "metadata": {},
   "source": [
    "### 假设输入的每一个list已经是有序的，从小到大\n",
    "执行用时 :\n",
    "76 ms\n",
    ", 在所有 Python3 提交中击败了\n",
    "51.52%\n",
    "的用户\n",
    "内存消耗 :\n",
    "14.6 MB\n",
    ", 在所有 Python3 提交中击败了\n",
    "87.28%\n",
    "的用户"
   ]
  },
  {
   "cell_type": "code",
   "execution_count": 34,
   "metadata": {
    "pycharm": {
     "is_executing": false
    }
   },
   "outputs": [
    {
     "data": {
      "text/plain": "[[1, 4]]"
     },
     "metadata": {},
     "output_type": "execute_result",
     "execution_count": 34
    }
   ],
   "source": [
    "nums3 = [[1,4],[0,4]]\n",
    "def merge1(intervals):\n",
    "    pre = 0\n",
    "    pro = 1\n",
    "    intervals = sorted(intervals,key=lambda x:x[0])\n",
    "\n",
    "    while pro < len(intervals):\n",
    "        if intervals[pre][-1] >= intervals[pro][0]:\n",
    "            intervals[pre] = [intervals[pre][0],intervals[pro][-1]] if intervals[pre][-1] < intervals[pro][-1] else [intervals[pre][0],intervals[pre][-1]]\n",
    "            intervals.pop(pro)\n",
    "        else:\n",
    "            pre += 1\n",
    "            pro += 1\n",
    "    return intervals\n",
    "\n",
    "\n",
    "merge1(nums4)\n",
    "\n"
   ]
  },
  {
   "cell_type": "markdown",
   "metadata": {},
   "source": [
    "# 连通块"
   ]
  },
  {
   "cell_type": "code",
   "execution_count": null,
   "metadata": {},
   "outputs": [],
   "source": [
    "class Solution:\n",
    "    def overlap(self, a, b):\n",
    "        return a.start <= b.end and b.start <= a.end\n",
    "\n",
    "    # generate graph where there is an undirected edge between intervals u\n",
    "    # and v iff u and v overlap.\n",
    "    def build_graph(self, intervals):\n",
    "        graph = collections.defaultdict(list)\n",
    "\n",
    "        for i, interval_i in enumerate(intervals):\n",
    "            for j in range(i+1, len(intervals)):\n",
    "                if self.overlap(interval_i, intervals[j]):\n",
    "                    graph[interval_i].append(intervals[j])\n",
    "                    graph[intervals[j]].append(interval_i)\n",
    "\n",
    "        return graph\n",
    "\n",
    "    # merges all of the nodes in this connected component into one interval.\n",
    "    def merge_nodes(self, nodes):\n",
    "        min_start = min(node.start for node in nodes)\n",
    "        max_end = max(node.end for node in nodes)\n",
    "        return Interval(min_start, max_end)\n",
    "\n",
    "    # gets the connected components of the interval overlap graph.\n",
    "    def get_components(self, graph, intervals):\n",
    "        visited = set()\n",
    "        comp_number = 0\n",
    "        nodes_in_comp = collections.defaultdict(list)\n",
    "\n",
    "        def mark_component_dfs(start):\n",
    "            stack = [start]\n",
    "            while stack:\n",
    "                node = stack.pop()\n",
    "                if node not in visited:\n",
    "                    visited.add(node)\n",
    "                    nodes_in_comp[comp_number].append(node)\n",
    "                    stack.extend(graph[node])\n",
    "\n",
    "        # mark all nodes in the same connected component with the same integer.\n",
    "        for interval in intervals:\n",
    "            if interval not in visited:\n",
    "                mark_component_dfs(interval)\n",
    "                comp_number += 1\n",
    "\n",
    "        return nodes_in_comp, comp_number\n",
    "\n",
    "    def merge(self, intervals):\n",
    "        graph = self.build_graph(intervals)\n",
    "        nodes_in_comp, number_of_comps = self.get_components(graph, intervals)\n",
    "\n",
    "        # all intervals in each connected component must be merged.\n",
    "        return [self.merge_nodes(nodes_in_comp[comp]) for comp in range(number_of_comps)]\n",
    "\n"
   ]
  }
 ]
}