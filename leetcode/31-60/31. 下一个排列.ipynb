{
 "cells": [
  {
   "cell_type": "code",
   "execution_count": 2,
   "metadata": {
    "pycharm": {
     "is_executing": false
    }
   },
   "outputs": [],
   "source": [
    "nums = [1,2,4,6,5,3]\n"
   ]
  },
  {
   "cell_type": "markdown",
   "source": [
    "# 44 ms\t13.4 MB"
   ],
   "metadata": {
    "collapsed": false,
    "pycharm": {
     "name": "#%% md\n"
    }
   }
  },
  {
   "cell_type": "code",
   "execution_count": 3,
   "metadata": {
    "pycharm": {
     "name": "#%%\n",
     "is_executing": false
    }
   },
   "outputs": [
    {
     "data": {
      "text/plain": "[1, 2, 5, 3, 4, 6]"
     },
     "metadata": {},
     "output_type": "execute_result",
     "execution_count": 3
    }
   ],
   "source": [
    "def nextPermutation(nums):\n",
    "    if len(nums) <= 1:return \n",
    "    pro_ = len(nums) -1\n",
    "    pre_ = None\n",
    "    while pro_ > 0:\n",
    "        if nums[pro_ - 1] < nums[pro_]:\n",
    "            pre_ = pro_ - 1\n",
    "            break\n",
    "        else:\n",
    "            pro_ -= 1\n",
    "    if pre_ is None:\n",
    "        nums.reverse()\n",
    "        return\n",
    "    pro_ = len(nums) - 1\n",
    "    while pro_ > pre_:\n",
    "        if nums[pre_] < nums[pro_]:\n",
    "            pro_j = pro_\n",
    "            break\n",
    "        else:\n",
    "            pro_ -= 1\n",
    "    nums[pre_],nums[pro_j] = nums[pro_j],nums[pre_]\n",
    "    pre_k = pre_ + 1\n",
    "    pro_ = len(nums) -1\n",
    "    while pre_k <= pro_:\n",
    "        nums[pre_k],nums[pro_] = nums[pro_],nums[pre_k]\n",
    "        pre_k += 1\n",
    "        pro_ -= 1\n",
    "    return\n",
    "nextPermutation(nums)"
   ]
  },
  {
   "cell_type": "code",
   "execution_count": 4,
   "outputs": [
    {
     "data": {
      "text/plain": "[1, 2, 5, 3, 4, 6]"
     },
     "metadata": {},
     "output_type": "execute_result",
     "execution_count": 4
    }
   ],
   "source": [
    "nums"
   ],
   "metadata": {
    "collapsed": false,
    "pycharm": {
     "name": "#%%\n",
     "is_executing": false
    }
   }
  },
  {
   "cell_type": "code",
   "execution_count": 7,
   "outputs": [],
   "source": [
    "nums.reverse()"
   ],
   "metadata": {
    "collapsed": false,
    "pycharm": {
     "name": "#%%\n",
     "is_executing": false
    }
   }
  },
  {
   "cell_type": "markdown",
   "source": [
    "# 36 ms\t13.5 MB"
   ],
   "metadata": {
    "collapsed": false,
    "pycharm": {
     "name": "#%% md\n"
    }
   }
  },
  {
   "cell_type": "code",
   "execution_count": null,
   "outputs": [],
   "source": [
    "class Solution:\n",
    "    def nextPermutation(self, nums: list[int]) -> None:\n",
    "        for i in range(len(nums)-1,0,-1):\n",
    "            if nums[i]>nums[i-1]:\n",
    "                nums[i:]=sorted(nums[i:])\n",
    "                for j in range(i,len(nums)):\n",
    "                    if nums[j]>nums[i-1] :\n",
    "                        nums[i-1],nums[j]=nums[j],nums[i-1]\n",
    "                        break\n",
    "                return \n",
    "        nums.sort()"
   ],
   "metadata": {
    "collapsed": false,
    "pycharm": {
     "name": "#%%\n"
    }
   }
  },
  {
   "cell_type": "markdown",
   "source": [
    "> 1 2 4 6 5 3\n",
    ">\n",
    "- 从序列中找到最后一对递增数对，如果找到，就继续，如果没有找到，说明此序列是最大序列\n",
    "- 本例中，将找到$4-6$,记4下标为$i$,在从最后开始向前找一个比4大的数，\n",
    "- 本例中，将找到5，记5的下标是j，然后交换i,j对应的元素;\n",
    "    + 本例中： 1 2 5 6 4 3\n",
    "- 最后将：i+1 到最后的元素颠倒\n",
    "    + 本例中：1 2 5 3 4 6\n"
   ],
   "metadata": {
    "collapsed": false
   }
  }
 ],
 "metadata": {
  "kernelspec": {
   "display_name": "Python 3",
   "language": "python",
   "name": "python3"
  },
  "language_info": {
   "codemirror_mode": {
    "name": "ipython",
    "version": 2
   },
   "file_extension": ".py",
   "mimetype": "text/x-python",
   "name": "python",
   "nbconvert_exporter": "python",
   "pygments_lexer": "ipython2",
   "version": "3.7.4-final"
  },
  "pycharm": {
   "stem_cell": {
    "cell_type": "raw",
    "source": [],
    "metadata": {
     "collapsed": false
    }
   }
  }
 },
 "nbformat": 4,
 "nbformat_minor": 0
}