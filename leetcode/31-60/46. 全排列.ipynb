{
 "cells": [
  {
   "cell_type": "code",
   "execution_count": 2,
   "metadata": {
    "collapsed": true,
    "pycharm": {
     "is_executing": false
    }
   },
   "outputs": [],
   "source": [
    "list1 = [1,2,3]\n"
   ]
  },
  {
   "cell_type": "markdown",
   "source": [
    "# 40 ms\t13.4 MB"
   ],
   "metadata": {
    "collapsed": false,
    "pycharm": {
     "name": "#%% md\n"
    }
   }
  },
  {
   "cell_type": "code",
   "execution_count": 21,
   "outputs": [
    {
     "data": {
      "text/plain": "[[1, 2, 3, 4],\n [1, 2, 4, 3],\n [1, 3, 2, 4],\n [1, 3, 4, 2],\n [1, 4, 2, 3],\n [1, 4, 3, 2],\n [2, 1, 3, 4],\n [2, 1, 4, 3],\n [2, 3, 1, 4],\n [2, 3, 4, 1],\n [2, 4, 1, 3],\n [2, 4, 3, 1],\n [3, 1, 2, 4],\n [3, 1, 4, 2],\n [3, 2, 1, 4],\n [3, 2, 4, 1],\n [3, 4, 1, 2],\n [3, 4, 2, 1],\n [4, 1, 2, 3],\n [4, 1, 3, 2],\n [4, 2, 1, 3],\n [4, 2, 3, 1],\n [4, 3, 1, 2],\n [4, 3, 2, 1]]"
     },
     "metadata": {},
     "output_type": "execute_result",
     "execution_count": 21
    }
   ],
   "source": [
    "def permute(nums):\n",
    "    res = []\n",
    "    if len(nums) == 1: \n",
    "        res.append(nums)\n",
    "        return res\n",
    "    if len(nums) == 2:\n",
    "        res.append(nums[:])\n",
    "        nums.reverse()\n",
    "        res.append(nums[:])\n",
    "        return res\n",
    "    def backtrack(list,list_tem):\n",
    "        if len(list) == 2:\n",
    "            res.append(list_tem+list)\n",
    "            list.reverse()\n",
    "            res.append(list_tem+list)\n",
    "            return \n",
    "        for i in list:\n",
    "            list2 = list.copy()\n",
    "            list2.remove(i)\n",
    "            if len(list2) < 2:\n",
    "                break\n",
    "            backtrack(list2,list_tem+[i])\n",
    "            \n",
    "    \n",
    "    for i in nums:\n",
    "        list_tem = []\n",
    "        nums_tem = nums.copy()\n",
    "        nums_tem.remove(i)\n",
    "        backtrack(nums_tem,list_tem+[i])\n",
    "    \n",
    "    return res\n",
    "permute([1,2,3,4])"
   ],
   "metadata": {
    "collapsed": false,
    "pycharm": {
     "name": "#%%\n",
     "is_executing": false
    }
   }
  },
  {
   "cell_type": "code",
   "execution_count": 5,
   "outputs": [],
   "source": [
    "list1.reverse()\n",
    "    "
   ],
   "metadata": {
    "collapsed": false,
    "pycharm": {
     "name": "#%%\n",
     "is_executing": false
    }
   }
  },
  {
   "cell_type": "code",
   "execution_count": 11,
   "outputs": [
    {
     "data": {
      "text/plain": "[[1, 2, 3, 4],\n [1, 2, 4, 3],\n [1, 3, 2, 4],\n [1, 3, 4, 2],\n [1, 4, 3, 2],\n [1, 4, 2, 3],\n [2, 1, 3, 4],\n [2, 1, 4, 3],\n [2, 3, 1, 4],\n [2, 3, 4, 1],\n [2, 4, 3, 1],\n [2, 4, 1, 3],\n [3, 2, 1, 4],\n [3, 2, 4, 1],\n [3, 1, 2, 4],\n [3, 1, 4, 2],\n [3, 4, 1, 2],\n [3, 4, 2, 1],\n [4, 2, 3, 1],\n [4, 2, 1, 3],\n [4, 3, 2, 1],\n [4, 3, 1, 2],\n [4, 1, 3, 2],\n [4, 1, 2, 3]]"
     },
     "metadata": {},
     "output_type": "execute_result",
     "execution_count": 11
    }
   ],
   "source": [
    "class Solution:\n",
    "    def permute(self, nums):\n",
    "        \"\"\"\n",
    "        :type nums: List[int]\n",
    "        :rtype: List[List[int]]\n",
    "        \"\"\"\n",
    "        def backtrack(first = 0):\n",
    "            # if all integers are used up\n",
    "            if first == n:\n",
    "                list_tem = nums[:]\n",
    "                if list_tem not in output:\n",
    "                    output.append(list_tem)\n",
    "            for i in range(first, n):\n",
    "                # place i-th integer first \n",
    "                # in the current permutation\n",
    "                nums[first], nums[i] = nums[i], nums[first]\n",
    "                # use next integers to complete the permutations\n",
    "                backtrack(first + 1)\n",
    "                # backtrack\n",
    "                nums[first], nums[i] = nums[i], nums[first]\n",
    "        \n",
    "        n = len(nums)\n",
    "        output = []\n",
    "        backtrack()\n",
    "        return output\n",
    "solution=Solution()\n",
    "solution.permute([1,2,3,4])"
   ],
   "metadata": {
    "collapsed": false,
    "pycharm": {
     "name": "#%%\n",
     "is_executing": false
    }
   }
  },
  {
   "cell_type": "code",
   "execution_count": 7,
   "outputs": [
    {
     "data": {
      "text/plain": "[1, 2, 3]"
     },
     "metadata": {},
     "output_type": "execute_result",
     "execution_count": 7
    }
   ],
   "source": [
    "list1[:]"
   ],
   "metadata": {
    "collapsed": false,
    "pycharm": {
     "name": "#%%\n",
     "is_executing": false
    }
   }
  },
  {
   "cell_type": "code",
   "execution_count": null,
   "outputs": [],
   "source": [
    "\n"
   ],
   "metadata": {
    "collapsed": false,
    "pycharm": {
     "name": "#%%\n"
    }
   }
  }
 ],
 "metadata": {
  "kernelspec": {
   "display_name": "Python 3",
   "language": "python",
   "name": "python3"
  },
  "language_info": {
   "codemirror_mode": {
    "name": "ipython",
    "version": 2
   },
   "file_extension": ".py",
   "mimetype": "text/x-python",
   "name": "python",
   "nbconvert_exporter": "python",
   "pygments_lexer": "ipython2",
   "version": "2.7.6"
  },
  "pycharm": {
   "stem_cell": {
    "cell_type": "raw",
    "source": [],
    "metadata": {
     "collapsed": false
    }
   }
  }
 },
 "nbformat": 4,
 "nbformat_minor": 0
}