{
 "cells": [
  {
   "cell_type": "markdown",
   "metadata": {
    "collapsed": true,
    "pycharm": {
     "name": "#%% md\n"
    }
   },
   "source": [
    "给定一个未排序的整数数组，找出其中没有出现的最小的正整数。\n",
    "\n",
    "\n",
    "\n",
    "示例 1:\n",
    "\n",
    "输入: [1,2,0]\n",
    "输出: 3\n",
    "\n",
    "示例 2:\n",
    "\n",
    "输入: [3,4,-1,1]\n",
    "输出: 2\n",
    "\n",
    "示例 3:\n",
    "\n",
    "输入: [7,8,9,11,12]\n",
    "输出: 1\n",
    "\n",
    "\n",
    "你的算法的时间复杂度应为O(n)，并且只能使用常数级别的空间。"
   ]
  },
  {
   "cell_type": "code",
   "execution_count": 39,
   "outputs": [],
   "source": [
    "list1 = [1,2,0]\n",
    "list2 = [3,4,-1,1]\n",
    "list3 = [7,8,9,11,12]\n",
    "list4 = [1]"
   ],
   "metadata": {
    "collapsed": false,
    "pycharm": {
     "name": "#%%\n",
     "is_executing": false
    }
   }
  },
  {
   "cell_type": "markdown",
   "source": [
    "\n",
    "# 60 ms\t13.6 MB\n",
    "\n",
    "\n",
    "首先我们可以不考虑负数和零，因为不需要考虑。同样可以不考虑大于 n 的数字，\n",
    "因为首次缺失的正数一定小于或等于 n + 1 。"
   ],
   "metadata": {
    "collapsed": false,
    "pycharm": {
     "name": "#%% md\n",
     "is_executing": false
    }
   }
  },
  {
   "cell_type": "code",
   "execution_count": 41,
   "outputs": [
    {
     "data": {
      "text/plain": "2"
     },
     "metadata": {},
     "output_type": "execute_result",
     "execution_count": 41
    }
   ],
   "source": [
    "def firstMissingPositive(nums):\n",
    "    nums.append(0)\n",
    "    nums.sort()\n",
    "    pre= 0\n",
    "    sign = None\n",
    "    positive = True\n",
    "    while pre < len(nums)-1:\n",
    "        if nums[pre]>=0:\n",
    "            if nums[pre] == 1:\n",
    "                positive = False\n",
    "            if nums[pre+1] - nums[pre] != 1 and nums[pre+1] != nums[pre]:\n",
    "                sign = nums[pre]\n",
    "                break\n",
    "            else:\n",
    "                sign = nums[pre+1]\n",
    "        pre += 1\n",
    "    if positive and sign != 1:\n",
    "        return 1\n",
    "    else:\n",
    "        return sign + 1\n",
    "    \n",
    "\n",
    "firstMissingPositive(list4)"
   ],
   "metadata": {
    "collapsed": false,
    "pycharm": {
     "name": "#%%\n",
     "is_executing": false
    }
   }
  },
  {
   "cell_type": "markdown",
   "source": [
    "# 哈希表\n",
    "\n",
    "\n",
    "# 32 ms\t13.5 MB"
   ],
   "metadata": {
    "collapsed": false,
    "pycharm": {
     "name": "#%% md\n"
    }
   }
  },
  {
   "cell_type": "code",
   "execution_count": 37,
   "outputs": [
    {
     "data": {
      "text/plain": "2"
     },
     "metadata": {},
     "output_type": "execute_result",
     "execution_count": 37
    }
   ],
   "source": [
    "class Solution:\n",
    "    def firstMissingPositive(self, nums):\n",
    "        n = len(nums)\n",
    "        \n",
    "        if 1 not in nums:\n",
    "            return 1\n",
    "        \n",
    "        if n == 1:\n",
    "            return 2\n",
    "        \n",
    "        for i in range(n):\n",
    "            if nums[i] <= 0 or nums[i] > n:\n",
    "                nums[i] = 1\n",
    "        \n",
    "\n",
    "        for i in range(n): \n",
    "            a = abs(nums[i])\n",
    "            \n",
    "            if a == n:\n",
    "                nums[0] = - abs(nums[0])\n",
    "            else:\n",
    "                nums[a] = - abs(nums[a])\n",
    "            \n",
    "        for i in range(1, n):\n",
    "            if nums[i] > 0:\n",
    "                return i\n",
    "        \n",
    "        if nums[0] > 0:\n",
    "            return n\n",
    "            \n",
    "        return n + 1\n",
    "\n",
    "sou = Solution()\n",
    "sou.firstMissingPositive(list4)"
   ],
   "metadata": {
    "collapsed": false,
    "pycharm": {
     "name": "#%%\n",
     "is_executing": false
    }
   }
  },
  {
   "cell_type": "markdown",
   "source": [
    "# \t40 ms\t13.4 MB"
   ],
   "metadata": {
    "collapsed": false,
    "pycharm": {
     "name": "#%% md\n"
    }
   }
  },
  {
   "cell_type": "code",
   "execution_count": null,
   "outputs": [],
   "source": [
    "def firstMissingPositive2(nums):\n",
    "    n = len(nums)\n",
    "    if 1 not in nums:\n",
    "            return 1\n",
    "    if n == 1:\n",
    "        return 2\n",
    "    nums.sort()\n",
    "    pre= 0\n",
    "    sign = None\n",
    "    while pre < len(nums)-1:\n",
    "        if nums[pre]>=0:\n",
    "            if nums[pre+1] - nums[pre] != 1 and nums[pre+1] != nums[pre]:\n",
    "                sign = nums[pre]\n",
    "                break\n",
    "            else:\n",
    "                sign = nums[pre+1]\n",
    "        pre += 1\n",
    "    if sign:\n",
    "        return sign + 1\n",
    "    else:\n",
    "        return  2\n",
    "    \n",
    "\n",
    "firstMissingPositive2(list4)\n"
   ],
   "metadata": {
    "collapsed": false,
    "pycharm": {
     "name": "#%%\n"
    }
   }
  }
 ],
 "metadata": {
  "kernelspec": {
   "display_name": "Python 3",
   "language": "python",
   "name": "python3"
  },
  "language_info": {
   "codemirror_mode": {
    "name": "ipython",
    "version": 2
   },
   "file_extension": ".py",
   "mimetype": "text/x-python",
   "name": "python",
   "nbconvert_exporter": "python",
   "pygments_lexer": "ipython2",
   "version": "2.7.6"
  },
  "pycharm": {
   "stem_cell": {
    "cell_type": "raw",
    "source": [],
    "metadata": {
     "collapsed": false
    }
   }
  }
 },
 "nbformat": 4,
 "nbformat_minor": 0
}