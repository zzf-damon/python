{
 "nbformat": 4,
 "nbformat_minor": 2,
 "metadata": {
  "language_info": {
   "name": "python",
   "codemirror_mode": {
    "name": "ipython",
    "version": 3
   },
   "version": "3.7.4-final"
  },
  "orig_nbformat": 2,
  "file_extension": ".py",
  "mimetype": "text/x-python",
  "name": "python",
  "npconvert_exporter": "python",
  "pygments_lexer": "ipython3",
  "version": 3,
  "kernelspec": {
   "name": "python3",
   "language": "python",
   "display_name": "Python 3"
  },
  "pycharm": {
   "stem_cell": {
    "cell_type": "raw",
    "source": [],
    "metadata": {
     "collapsed": false
    }
   }
  }
 },
 "cells": [
  {
   "cell_type": "code",
   "execution_count": 2,
   "metadata": {
    "pycharm": {
     "is_executing": false
    }
   },
   "outputs": [],
   "source": [
    "candidates1 = [10,1,2,7,6,1,5]\n",
    "target1 = 8\n",
    "candidates2 = [2,5,2,1,2]\n",
    "target2 = 5"
   ]
  },
  {
   "cell_type": "code",
   "execution_count": 12,
   "outputs": [
    {
     "data": {
      "text/plain": "[[1, 1, 6], [1, 2, 5], [1, 7], [2, 6]]"
     },
     "metadata": {},
     "output_type": "execute_result",
     "execution_count": 12
    }
   ],
   "source": [
    "\n",
    "def combinationSum(candidates,target):\n",
    "    size = len(candidates)\n",
    "    if size == 0:\n",
    "        return []\n",
    "    candidates.sort()\n",
    "    res = []\n",
    "    \n",
    "    def dfs_(path,residue,begin):\n",
    "        if residue == 0:\n",
    "            res.append(path[:])\n",
    "            return \n",
    "        for i in range(begin,size):\n",
    "            if candidates[i] > residue:\n",
    "                break\n",
    "            if i > begin and candidates[i - 1] == candidates[i]:\n",
    "                continue \n",
    "            \n",
    "            path.append(candidates[i])\n",
    "            dfs_(path, residue - candidates[i],i+1)\n",
    "            path.pop()\n",
    "    dfs_([],target,0)\n",
    "    return res\n",
    "\n",
    "    \n",
    "combinationSum(candidates1,target1)\n",
    "\n",
    "\n",
    "\n",
    "\n",
    "\n",
    "\n"
   ],
   "metadata": {
    "collapsed": false,
    "pycharm": {
     "name": "#%%\n",
     "is_executing": false
    }
   }
  },
  {
   "cell_type": "markdown",
   "source": [
    "#40 ms\t13.6 MB\n",
    "\n",
    "## 深度优先，记录使用过的节点不在使用,,抄的"
   ],
   "metadata": {
    "collapsed": false,
    "pycharm": {
     "name": "#%% md\n"
    }
   }
  },
  {
   "cell_type": "code",
   "execution_count": 14,
   "metadata": {
    "collapsed": false,
    "pycharm": {
     "name": "#%%\n",
     "is_executing": false
    }
   },
   "outputs": [
    {
     "data": {
      "text/plain": "[[1, 1, 6], [1, 2, 5], [1, 7], [2, 6]]"
     },
     "metadata": {},
     "output_type": "execute_result",
     "execution_count": 14
    }
   ],
   "source": [
    "def combinationSum2(candidates, target):\n",
    "    size = len(candidates)\n",
    "    if size == 0:\n",
    "        return []\n",
    "    candidates.sort()\n",
    "    res = []\n",
    "    used = [False] * len(candidates)\n",
    "\n",
    "    def dfs(path, begin, size, used, target):\n",
    "        if target == 0:\n",
    "            res.append(path[:])\n",
    "            return\n",
    "        for index in range(begin, size):\n",
    "            if not used[index]:\n",
    "                if index > 0 and candidates[index] == candidates[index - 1] and not used[index - 1]:\n",
    "                    continue\n",
    "                residue = target - candidates[index]\n",
    "                if residue < 0:\n",
    "                    break\n",
    "                used[index] = True\n",
    "                path.append(candidates[index])\n",
    "                dfs(path, index, size, used, residue)\n",
    "                used[index] = False\n",
    "                path.pop()\n",
    "\n",
    "    dfs([], 0, size, used, target)\n",
    "    return res\n",
    "\n",
    "\n",
    "combinationSum2(candidates1, target1)"
   ]
  },
  {
   "cell_type": "markdown",
   "source": [
    "#44 ms\t13.4 MB    标准答案"
   ],
   "metadata": {
    "collapsed": false,
    "pycharm": {
     "name": "#%% md\n"
    }
   }
  },
  {
   "cell_type": "code",
   "execution_count": 9,
   "outputs": [],
   "source": [
    "from typing import List\n",
    "\n",
    "\n",
    "class Solution:\n",
    "\n",
    "    def combinationSum2(self, candidates: List[int], target: int) -> List[List[int]]:\n",
    "        def dfs(begin, path, residue):\n",
    "            if residue == 0:\n",
    "                res.append(path[:])\n",
    "                return\n",
    "\n",
    "            for index in range(begin, size):\n",
    "                if candidates[index] > residue:\n",
    "                    break\n",
    "\n",
    "                if index > begin and candidates[index - 1] == candidates[index]:\n",
    "                    continue\n",
    "\n",
    "                path.append(candidates[index])\n",
    "                dfs(index + 1, path, residue - candidates[index])\n",
    "                path.pop()\n",
    "\n",
    "        size = len(candidates)\n",
    "        if size == 0:\n",
    "            return []\n",
    "\n",
    "        candidates.sort()\n",
    "        res = []\n",
    "        dfs(0, [], target)\n",
    "        return res"
   ],
   "metadata": {
    "collapsed": false,
    "pycharm": {
     "name": "#%%\n",
     "is_executing": false
    }
   }
  },
  {
   "cell_type": "code",
   "execution_count": null,
   "outputs": [],
   "source": [
    "\n"
   ],
   "metadata": {
    "collapsed": false,
    "pycharm": {
     "name": "#%%\n"
    }
   }
  }
 ]
}