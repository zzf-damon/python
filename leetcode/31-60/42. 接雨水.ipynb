{
 "cells": [
  {
   "cell_type": "code",
   "execution_count": 53,
   "metadata": {
    "collapsed": true,
    "pycharm": {
     "is_executing": false
    }
   },
   "outputs": [],
   "source": [
    "list1 =  [0,1,0,2,1,0,1,3,2,1,2,1,4,2,1,3,1]\n",
    "list2 = [3,2,4]\n",
    "list3 = [0,1,0,1,0,4,0,1,0,2,0,4,0,1,0,3]"
   ]
  },
  {
   "cell_type": "markdown",
   "source": [
    "# 56 ms\t14 MB\n",
    "执行用时 :\n",
    "56 ms\n",
    ", 在所有 Python3 提交中击败了\n",
    "64.38%\n",
    "的用户\n",
    "内存消耗 :\n",
    "14 MB\n",
    ", 在所有 Python3 提交中击败了\n",
    "5.22%\n",
    "的用户"
   ],
   "metadata": {
    "collapsed": false,
    "pycharm": {
     "name": "#%% md\n",
     "is_executing": false
    }
   }
  },
  {
   "cell_type": "code",
   "execution_count": 61,
   "outputs": [
    {
     "data": {
      "text/plain": "27"
     },
     "metadata": {},
     "output_type": "execute_result",
     "execution_count": 61
    }
   ],
   "source": [
    "def trap(height):\n",
    "    total = sum(height)\n",
    "    if len(height) < 2 or total < 2:return 0\n",
    "    count = 0\n",
    "    pre = 0\n",
    "    max_ = max(height)\n",
    "    max_index = height.index(max_)\n",
    "    while pre < max_index+1:\n",
    "        pro = pre + 1\n",
    "        sign = True\n",
    "        while pro < max_index+1:\n",
    "            if height[pro] >= height[pre]:\n",
    "                count += height[pre] * (pro - pre)\n",
    "                pre = pro\n",
    "                sign = False\n",
    "                break\n",
    "            pro += 1\n",
    "        if sign:\n",
    "            count += height[pre]\n",
    "            pre += 1\n",
    "            \n",
    "    pro = len(height) -1\n",
    "    while pro > max_index-1:\n",
    "        pre = pro - 1\n",
    "        sign = True\n",
    "        while pre > max_index-1:\n",
    "            if height[pre] >= height[pro]:\n",
    "                count += height[pro] * (pro - pre)\n",
    "                pro = pre\n",
    "                sign = False\n",
    "                break\n",
    "            pre -= 1\n",
    "        if sign:\n",
    "            count += height[pro]\n",
    "            pro -= 1\n",
    "    return count - total - max_\n",
    "            \n",
    "trap(list3)"
   ],
   "metadata": {
    "collapsed": false,
    "pycharm": {
     "name": "#%%\n",
     "is_executing": false
    }
   }
  },
  {
   "cell_type": "code",
   "execution_count": 56,
   "outputs": [
    {
     "data": {
      "text/plain": "17"
     },
     "metadata": {},
     "output_type": "execute_result",
     "execution_count": 56
    }
   ],
   "source": [
    "sum(list3)"
   ],
   "metadata": {
    "collapsed": false,
    "pycharm": {
     "name": "#%%\n",
     "is_executing": false
    }
   }
  },
  {
   "cell_type": "markdown",
   "source": [
    "# 双指针\n",
    "## 44 ms\t13.8 MB"
   ],
   "metadata": {
    "collapsed": false,
    "pycharm": {
     "name": "#%% md\n"
    }
   }
  },
  {
   "cell_type": "code",
   "execution_count": 60,
   "outputs": [
    {
     "data": {
      "text/plain": "27"
     },
     "metadata": {},
     "output_type": "execute_result",
     "execution_count": 60
    }
   ],
   "source": [
    "def trap1(height):\n",
    "\n",
    "    left = 0\n",
    "    right = len(height) - 1\n",
    "    ans = 0\n",
    "    left_max = 0\n",
    "    right_max = 0\n",
    "    while left < right:\n",
    "        if height[left] < height[right]:\n",
    "            if height[left] >= left_max:\n",
    "                left_max = height[left]\n",
    "            else: \n",
    "                ans += (left_max - height[left])\n",
    "            left += 1\n",
    "        else:\n",
    "            if height[right] >= right_max:\n",
    "                right_max = height[right] \n",
    "            else:\n",
    "                ans += (right_max - height[right])\n",
    "            right -= 1\n",
    "    return ans\n",
    "\n",
    "trap1(list3)"
   ],
   "metadata": {
    "collapsed": false,
    "pycharm": {
     "name": "#%%\n",
     "is_executing": false
    }
   }
  },
  {
   "cell_type": "code",
   "execution_count": null,
   "outputs": [],
   "source": [
    "\n"
   ],
   "metadata": {
    "collapsed": false,
    "pycharm": {
     "name": "#%%\n"
    }
   }
  }
 ],
 "metadata": {
  "kernelspec": {
   "display_name": "Python 3",
   "language": "python",
   "name": "python3"
  },
  "language_info": {
   "codemirror_mode": {
    "name": "ipython",
    "version": 2
   },
   "file_extension": ".py",
   "mimetype": "text/x-python",
   "name": "python",
   "nbconvert_exporter": "python",
   "pygments_lexer": "ipython2",
   "version": "2.7.6"
  },
  "pycharm": {
   "stem_cell": {
    "cell_type": "raw",
    "source": [],
    "metadata": {
     "collapsed": false
    }
   }
  }
 },
 "nbformat": 4,
 "nbformat_minor": 0
}