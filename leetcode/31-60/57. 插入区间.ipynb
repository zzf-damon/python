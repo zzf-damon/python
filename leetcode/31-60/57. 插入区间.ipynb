{
 "cells": [
  {
   "cell_type": "code",
   "execution_count": 28,
   "metadata": {
    "collapsed": true
   },
   "outputs": [],
   "source": [
    " intervals1 = [[1,3],[6,9]]\n",
    "newInterval1 = [2,5]\n",
    "intervals2 = [[1,2],[3,5],[6,7],[8,10],[12,16]]\n",
    "newInterval2 = [4,8]\n",
    "intervals3 = [[3,9]]\n",
    "newInterval3 = [2,5]\n",
    "intervals4 = [[1,7]]\n",
    "newInterval4 = [5,7]"
   ]
  },
  {
   "cell_type": "markdown",
   "source": [
    "# 给出一个无重叠的 ，按照区间起始端点排序的区间列表。\n",
    "\n",
    "# 时间复杂度 $O(N)$\n",
    "通常来讲$O(N\\log{N})>O(N)$当$N>2$\n",
    "\n",
    "执行用时 :<br>\n",
    "56 ms\n",
    ", 在所有 Python3 提交中击败了63.94%的用户<br>\n",
    "内存消耗 :<br>\n",
    "15.1 MB, 在所有 Python3 提交中击败了100.00%的用户"
   ],
   "metadata": {
    "collapsed": false,
    "pycharm": {
     "name": "#%% md\n"
    }
   }
  },
  {
   "cell_type": "code",
   "execution_count": 29,
   "outputs": [
    {
     "data": {
      "text/plain": "[[1, 7]]"
     },
     "execution_count": 29,
     "metadata": {},
     "output_type": "execute_result"
    }
   ],
   "source": [
    "def insert(intervals,newInterval):\n",
    "    if not newInterval:return intervals\n",
    "    if len(intervals) < 1:\n",
    "        return [newInterval]\n",
    "    pre = 0\n",
    "    while pre < len(intervals):\n",
    "        if intervals[pre][0] > newInterval[0]:\n",
    "            intervals.insert(pre,newInterval)\n",
    "            break\n",
    "        else:\n",
    "            pre+=1\n",
    "    else:\n",
    "        intervals.append(newInterval)\n",
    "    pro = 0\n",
    "    while pro+1 < len(intervals):\n",
    "        if intervals[pro][-1] >= intervals[pro+1][0]:\n",
    "            intervals[pro] = [intervals[pro][0],intervals[pro+1][-1]] \\\n",
    "                if intervals[pro][-1] < intervals[pro+1][-1] else [intervals[pro][0],intervals[pro][-1]]\n",
    "            intervals.pop(pro+1)\n",
    "        else:\n",
    "            pro += 1\n",
    "    return intervals\n",
    "insert(intervals4,newInterval4)"
   ],
   "metadata": {
    "collapsed": false,
    "pycharm": {
     "name": "#%%\n"
    }
   }
  },
  {
   "cell_type": "code",
   "execution_count": 24,
   "outputs": [
    {
     "name": "stdout",
     "output_type": "stream",
     "text": [
      "0\n",
      "1\n",
      "2\n",
      "3\n",
      "4\n",
      "10\n"
     ]
    }
   ],
   "source": [
    "i = 0\n",
    "while i<5:\n",
    "    if i==6:\n",
    "        break\n",
    "    print(i)\n",
    "    i+=1\n",
    "else:\n",
    "    print(10)"
   ],
   "metadata": {
    "collapsed": false,
    "pycharm": {
     "name": "#%%\n"
    }
   }
  },
  {
   "cell_type": "code",
   "execution_count": 33,
   "outputs": [
    {
     "data": {
      "text/plain": "1.0"
     },
     "execution_count": 33,
     "metadata": {},
     "output_type": "execute_result"
    }
   ],
   "source": [
    "import math\n",
    "\n",
    "math.log(math.e)"
   ],
   "metadata": {
    "collapsed": false,
    "pycharm": {
     "name": "#%%\n"
    }
   }
  },
  {
   "cell_type": "code",
   "execution_count": 31,
   "outputs": [
    {
     "data": {
      "text/plain": "2.718281828459045"
     },
     "execution_count": 31,
     "metadata": {},
     "output_type": "execute_result"
    }
   ],
   "source": [
    "math.e"
   ],
   "metadata": {
    "collapsed": false,
    "pycharm": {
     "name": "#%%\n"
    }
   }
  },
  {
   "cell_type": "code",
   "execution_count": 43,
   "outputs": [
    {
     "data": {
      "text/plain": "'NlogN'"
     },
     "execution_count": 43,
     "metadata": {},
     "output_type": "execute_result"
    }
   ],
   "source": [
    "def compare(number):\n",
    "    return [\"N\",\"NlogN\"][number*math.log(number) > number]\n",
    "\n",
    "compare(100)"
   ],
   "metadata": {
    "collapsed": false,
    "pycharm": {
     "name": "#%%\n"
    }
   }
  },
  {
   "cell_type": "code",
   "execution_count": 44,
   "outputs": [
    {
     "data": {
      "text/plain": "3"
     },
     "execution_count": 44,
     "metadata": {},
     "output_type": "execute_result"
    }
   ],
   "source": [
    "[1,2,3][2]"
   ],
   "metadata": {
    "collapsed": false,
    "pycharm": {
     "name": "#%%\n"
    }
   }
  },
  {
   "cell_type": "code",
   "execution_count": 48,
   "outputs": [
    {
     "data": {
      "text/plain": "'2'"
     },
     "execution_count": 48,
     "metadata": {},
     "output_type": "execute_result"
    }
   ],
   "source": [
    "def test1(number):\n",
    "    return number\n",
    "\n",
    "\n",
    "sign = [\"1\",\"2\",\"3\"][test1(1)]\n",
    "sign"
   ],
   "metadata": {
    "collapsed": false,
    "pycharm": {
     "name": "#%%\n"
    }
   }
  },
  {
   "cell_type": "code",
   "execution_count": null,
   "outputs": [],
   "source": [
    "\n"
   ],
   "metadata": {
    "collapsed": false,
    "pycharm": {
     "name": "#%%\n"
    }
   }
  }
 ],
 "metadata": {
  "kernelspec": {
   "display_name": "Python 3",
   "language": "python",
   "name": "python3"
  },
  "language_info": {
   "codemirror_mode": {
    "name": "ipython",
    "version": 2
   },
   "file_extension": ".py",
   "mimetype": "text/x-python",
   "name": "python",
   "nbconvert_exporter": "python",
   "pygments_lexer": "ipython2",
   "version": "2.7.6"
  }
 },
 "nbformat": 4,
 "nbformat_minor": 0
}