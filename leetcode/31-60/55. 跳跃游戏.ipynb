{
 "cells": [
  {
   "cell_type": "code",
   "execution_count": 5,
   "metadata": {
    "pycharm": {
     "is_executing": false
    }
   },
   "outputs": [],
   "source": [
    "nums1 = [2,3,1,1,4]\n",
    "nums2 = [3,2,1,0,4]\n",
    "nums3 = [2,0,0]\n",
    "nums4 = [1,2,0,1]"
   ]
  },
  {
   "cell_type": "markdown",
   "metadata": {
    "pycharm": {
     "is_executing": false,
     "name": "#%% md\n"
    }
   },
   "source": [
    "# 68 ms\t14.9 MB"
   ]
  },
  {
   "cell_type": "code",
   "execution_count": null,
   "outputs": [],
   "source": [
    "def canJump(nums):\n",
    "    if 0 not in nums[:-1]:return True\n",
    "    length = len(nums)\n",
    "    pre = 0\n",
    "    while pre < length-1:\n",
    "        if nums[pre] == 0:return False\n",
    "        list2 = nums[pre:nums[pre]+pre+1]\n",
    "        max_ = 0\n",
    "        max_index = 0\n",
    "        for i,j in enumerate(list2):\n",
    "            tem = j + i +pre\n",
    "            if tem > max_:\n",
    "                max_ = tem\n",
    "                max_index = i\n",
    "        pre += max_index if max_index != 0 else list2[max_index]\n",
    "        if pre >= length-1:\n",
    "            return True\n",
    "    return False\n",
    "canJump(nums3)"
   ],
   "metadata": {
    "collapsed": false,
    "pycharm": {
     "name": "#%%\n"
    }
   }
  },
  {
   "cell_type": "code",
   "execution_count": 12,
   "outputs": [],
   "source": [],
   "metadata": {
    "collapsed": false,
    "pycharm": {
     "name": "#%%\n",
     "is_executing": false
    }
   }
  }
 ],
 "metadata": {
  "kernelspec": {
   "display_name": "Python 3",
   "language": "python",
   "name": "python3"
  },
  "language_info": {
   "codemirror_mode": {
    "name": "ipython",
    "version": 3
   },
   "file_extension": ".py",
   "mimetype": "text/x-python",
   "name": "python",
   "nbconvert_exporter": "python",
   "pygments_lexer": "ipython3",
   "version": "3.7.4"
  },
  "notify_time": "5",
  "varInspector": {
   "cols": {
    "lenName": 16,
    "lenType": 16,
    "lenVar": 40
   },
   "kernels_config": {
    "python": {
     "delete_cmd_postfix": "",
     "delete_cmd_prefix": "del ",
     "library": "var_list.py",
     "varRefreshCmd": "print(var_dic_list())"
    },
    "r": {
     "delete_cmd_postfix": ") ",
     "delete_cmd_prefix": "rm(",
     "library": "var_list.r",
     "varRefreshCmd": "cat(var_dic_list()) "
    }
   },
   "position": {
    "height": "315px",
    "left": "26px",
    "right": "20px",
    "top": "130px",
    "width": "325px"
   },
   "types_to_exclude": [
    "module",
    "function",
    "builtin_function_or_method",
    "instance",
    "_Feature"
   ],
   "window_display": true
  },
  "pycharm": {
   "stem_cell": {
    "cell_type": "raw",
    "source": [],
    "metadata": {
     "collapsed": false
    }
   }
  }
 },
 "nbformat": 4,
 "nbformat_minor": 2
}