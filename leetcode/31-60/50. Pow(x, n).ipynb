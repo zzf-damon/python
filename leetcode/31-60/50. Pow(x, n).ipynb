{
 "cells": [
  {
   "cell_type": "markdown",
   "metadata": {
    "collapsed": true,
    "pycharm": {
     "name": "#%% md\n"
    }
   },
   "source": [
    "实现 pow(x, n) ，即计算 x 的 n 次幂函数。"
   ]
  },
  {
   "cell_type": "code",
   "execution_count": 8,
   "outputs": [],
   "source": [
    "number1 =2.00000\n",
    "n1 = 10\n",
    "number2 =2.10000\n",
    "n2 = 3\n",
    "number3 =2.00000\n",
    "n3 = -2\n",
    "number4 = 0.00001\n",
    "n4 = 2147483647"
   ],
   "metadata": {
    "collapsed": false,
    "pycharm": {
     "name": "#%%\n",
     "is_executing": false
    }
   }
  },
  {
   "cell_type": "markdown",
   "source": [
    "# \t36 ms\t13.7 MB\n",
    "执行用时 :\n",
    "36 ms\n",
    ", 在所有 Python3 提交中击败了\n",
    "63.57%\n",
    "的用户\n",
    "内存消耗 :\n",
    "13.7 MB\n",
    ", 在所有 Python3 提交中击败了\n",
    "5.39%\n",
    "的用户"
   ],
   "metadata": {
    "collapsed": false,
    "pycharm": {
     "name": "#%% md\n",
     "is_executing": false
    }
   }
  },
  {
   "cell_type": "code",
   "execution_count": 12,
   "outputs": [
    {
     "data": {
      "text/plain": "0.0"
     },
     "metadata": {},
     "output_type": "execute_result",
     "execution_count": 12
    }
   ],
   "source": [
    "def myPow(x,n) -> float:\n",
    "    if n == 0:return 1.0\n",
    "    sign = True if n > 0 else False\n",
    "    number = x if sign else 1 / x\n",
    "    if abs(number) < 0.00001 :return 0.0\n",
    "    res = number\n",
    "    n = abs(n)\n",
    "    if n == 1: return float(\"%.5f\" % res)\n",
    "    exp = 1\n",
    "    while n > 1:\n",
    "        if n > 2 ** (exp- 1):\n",
    "            res *= number ** 2 ** (exp- 1)\n",
    "            n -= 2 ** (exp- 1)\n",
    "            exp = exp+1 if n > exp else exp-1\n",
    "        else:\n",
    "            exp -= 1\n",
    "    return float(\"%.5f\" % (res * number))   \n",
    "    \n",
    "myPow(number4,n4)"
   ],
   "metadata": {
    "collapsed": false,
    "pycharm": {
     "name": "#%%\n",
     "is_executing": false
    }
   }
  },
  {
   "cell_type": "code",
   "execution_count": 18,
   "outputs": [
    {
     "data": {
      "text/plain": "0.5"
     },
     "metadata": {},
     "output_type": "execute_result",
     "execution_count": 18
    }
   ],
   "source": [
    "1 / number3"
   ],
   "metadata": {
    "collapsed": false,
    "pycharm": {
     "name": "#%%\n",
     "is_executing": false
    }
   }
  },
  {
   "cell_type": "code",
   "execution_count": 8,
   "outputs": [
    {
     "data": {
      "text/plain": "9.261000000000001"
     },
     "metadata": {},
     "output_type": "execute_result",
     "execution_count": 8
    }
   ],
   "source": [
    "2.1 ** 3\n"
   ],
   "metadata": {
    "collapsed": false,
    "pycharm": {
     "name": "#%%\n",
     "is_executing": false
    }
   }
  }
 ],
 "metadata": {
  "kernelspec": {
   "display_name": "Python 3",
   "language": "python",
   "name": "python3"
  },
  "language_info": {
   "codemirror_mode": {
    "name": "ipython",
    "version": 2
   },
   "file_extension": ".py",
   "mimetype": "text/x-python",
   "name": "python",
   "nbconvert_exporter": "python",
   "pygments_lexer": "ipython2",
   "version": "2.7.6"
  },
  "pycharm": {
   "stem_cell": {
    "cell_type": "raw",
    "source": [],
    "metadata": {
     "collapsed": false
    }
   }
  }
 },
 "nbformat": 4,
 "nbformat_minor": 0
}