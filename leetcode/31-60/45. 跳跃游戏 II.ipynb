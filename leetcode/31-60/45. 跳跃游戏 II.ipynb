{
 "cells": [
  {
   "cell_type": "code",
   "execution_count": 1,
   "metadata": {
    "pycharm": {
     "is_executing": false
    }
   },
   "outputs": [],
   "source": [
    "list1 = [2,3,1,1,4]\n",
    "list2 = [3,2,1]\n",
    "list3 = [2,3,1]\n",
    "list4 = [4,1,1,3,1,1,1]\n",
    "list5 = [10,9,8,7,6,5,4,3,2,1,1,0]"
   ]
  },
  {
   "cell_type": "markdown",
   "metadata": {
    "pycharm": {
     "is_executing": false,
     "name": "#%% md\n"
    }
   },
   "source": [
    "# 56 ms\t14.8 MB\n",
    "\n",
    "执行用时 :\n",
    "56 ms\n",
    ", 在所有 Python3 提交中击败了\n",
    "87.00%\n",
    "的用户\n",
    "内存消耗 :\n",
    "14.8 MB\n",
    ", 在所有 Python3 提交中击败了\n",
    "85.58%\n",
    "的用户\n"
   ]
  },
  {
   "cell_type": "code",
   "execution_count": 3,
   "metadata": {
    "pycharm": {
     "name": "#%%\n"
    }
   },
   "outputs": [
    {
     "data": {
      "text/plain": [
       "2"
      ]
     },
     "execution_count": 3,
     "metadata": {},
     "output_type": "execute_result"
    }
   ],
   "source": [
    "def jump(nums):\n",
    "    if not nums:return 0\n",
    "    length = len(nums)\n",
    "    pre = 0\n",
    "    count = 0\n",
    "    while pre < length-1:\n",
    "        count+=1\n",
    "        if length-1 <= nums[pre] + pre:\n",
    "            return count\n",
    "        list2 = nums[pre:nums[pre]+pre+1]\n",
    "        max_ = 0\n",
    "        max_index = 0\n",
    "        for i,j in enumerate(list2):\n",
    "            tem = j + i +pre\n",
    "            if tem > max_:\n",
    "                max_ = tem\n",
    "                max_index = i\n",
    "        pre += max_index\n",
    "    return count\n",
    "jump(list4)"
   ]
  },
  {
   "cell_type": "markdown",
   "metadata": {
    "pycharm": {
     "is_executing": false,
     "name": "#%% md\n"
    }
   },
   "source": [
    "# 动态规划\n"
   ]
  },
  {
   "cell_type": "code",
   "execution_count": 2,
   "metadata": {
    "pycharm": {
     "is_executing": false,
     "name": "#%%\n"
    }
   },
   "outputs": [
    {
     "data": {
      "text/plain": [
       "2"
      ]
     },
     "execution_count": 2,
     "metadata": {},
     "output_type": "execute_result"
    }
   ],
   "source": [
    "class Solution(object):\n",
    "    def jump(self, nums):\n",
    "        n = len(nums)\n",
    "        if n == 0 or n == 1:\n",
    "            return 0\n",
    "\n",
    "        # 设置最大值\n",
    "        MAXSIZE = 9999999\n",
    "        #  dp代表跳跃到该位置的最少跳跃次数\n",
    "        dp = [MAXSIZE] * n\n",
    "        dp[0] = 0 #初始化dp[0]\n",
    "        # 初始化第一个最小跳跃次数的点\n",
    "        min_i = 0\n",
    "        addstart =0#维护dp的起始增量\n",
    "        while dp[n-1] == MAXSIZE:\n",
    "            for j in range(min_i+addstart, min_i+nums[min_i]+1): #上一层已经更新了的dp无需再更新，因为它的跳跃次数一定比上一层要大 \n",
    "            # 该层维护从上一层更新后的下一个点开始更新 即从min_i + nums[min_i-1]开始\n",
    "                if j < n and dp[j] > dp[min_i]+1 :\n",
    "                    dp[j] = dp[min_i] + 1\n",
    "\n",
    "            if dp[-1] != MAXSIZE: #只要发现要找的最后一个点已经被维护了，停止寻找！\n",
    "                break\n",
    "\n",
    "            addstart = nums[min_i] #更新增量\n",
    "            min_i += 1 \n",
    "        return dp[-1]\n",
    "sou = Solution()\n",
    "sou.jump(list1)"
   ]
  },
  {
   "cell_type": "code",
   "execution_count": null,
   "metadata": {},
   "outputs": [],
   "source": []
  }
 ],
 "metadata": {
  "kernelspec": {
   "display_name": "Python 3",
   "language": "python",
   "name": "python3"
  },
  "language_info": {
   "codemirror_mode": {
    "name": "ipython",
    "version": 3
   },
   "file_extension": ".py",
   "mimetype": "text/x-python",
   "name": "python",
   "nbconvert_exporter": "python",
   "pygments_lexer": "ipython3",
   "version": "3.7.4"
  },
  "pycharm": {
   "stem_cell": {
    "cell_type": "raw",
    "metadata": {
     "collapsed": false
    },
    "source": []
   }
  },
  "varInspector": {
   "cols": {
    "lenName": 16,
    "lenType": 16,
    "lenVar": 40
   },
   "kernels_config": {
    "python": {
     "delete_cmd_postfix": "",
     "delete_cmd_prefix": "del ",
     "library": "var_list.py",
     "varRefreshCmd": "print(var_dic_list())"
    },
    "r": {
     "delete_cmd_postfix": ") ",
     "delete_cmd_prefix": "rm(",
     "library": "var_list.r",
     "varRefreshCmd": "cat(var_dic_list()) "
    }
   },
   "types_to_exclude": [
    "module",
    "function",
    "builtin_function_or_method",
    "instance",
    "_Feature"
   ],
   "window_display": false
  }
 },
 "nbformat": 4,
 "nbformat_minor": 1
}
