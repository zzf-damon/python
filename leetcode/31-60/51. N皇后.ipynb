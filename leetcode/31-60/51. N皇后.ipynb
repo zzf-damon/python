{
 "cells": [
  {
   "cell_type": "markdown",
   "metadata": {
    "collapsed": true,
    "pycharm": {
     "name": "#%% md\n"
    }
   },
   "source": [
    "# n皇后问题，每一个皇后不能是同一行，同一列，也不能位于同一个对角线"
   ]
  },
  {
   "cell_type": "markdown",
   "source": [
    "# 1 返回所有题解\n",
    "# 2 返回解的个数"
   ],
   "metadata": {
    "collapsed": false
   }
  },
  {
   "cell_type": "code",
   "execution_count": 13,
   "outputs": [
    {
     "data": {
      "text/plain": "[]"
     },
     "metadata": {},
     "output_type": "execute_result",
     "execution_count": 13
    }
   ],
   "source": [
    "def modfiy(i,j,tem,n):\n",
    "    i_tem,j_tem = i,j\n",
    "    while i_tem < n -1  and j_tem < n -1:\n",
    "        i_tem += 1\n",
    "        j_tem += 1\n",
    "        tem[i_tem][j_tem] = \".\"\n",
    "    i_tem,j_tem = i,j\n",
    "    while i_tem < n- 1 and j_tem > 1:\n",
    "        i_tem += 1\n",
    "        j_tem -= 1 \n",
    "        tem[i_tem][j_tem] = \".\"\n",
    "    i_tem,j_tem = i,j\n",
    "    while i_tem < n-1:\n",
    "        i_tem += 1 \n",
    "        tem[i_tem][j_tem] = \".\"\n",
    "    return tem\n",
    "\n",
    "\n",
    "def NQueens(n):\n",
    "    if n < 4:return []\n",
    "    res_ = []\n",
    "    res = []\n",
    "    for _ in range(4):\n",
    "        res_.append([0] * 4)\n",
    "    def dp(i,j,tem_):\n",
    "        if 0 in tem_[i] and i == n-1:\n",
    "            res.append(tem_)\n",
    "            return  \n",
    "        if 0 in tem_[i]:\n",
    "            index = tem_[i].index(0)\n",
    "            tem_[i][index] = \"Q\"\n",
    "            tem_= modfiy(i,index,tem_,n)\n",
    "        i += 1\n",
    "        if i < n and 0 in tem_[i]:\n",
    "            dp(i,j,tem_)\n",
    "        else:\n",
    "            return \n",
    "    dp(0,0,res_)\n",
    "    return res\n",
    "\n",
    "NQueens(4)"
   ],
   "metadata": {
    "collapsed": false,
    "pycharm": {
     "name": "#%%\n",
     "is_executing": false
    }
   }
  },
  {
   "cell_type": "code",
   "execution_count": 1,
   "outputs": [],
   "source": [
    "tem = \"0\" * 4\n",
    "res = []\n",
    "for _ in range(4):\n",
    "    res.append(tem)"
   ],
   "metadata": {
    "collapsed": false,
    "pycharm": {
     "name": "#%%\n",
     "is_executing": false
    }
   }
  },
  {
   "cell_type": "code",
   "execution_count": 9,
   "outputs": [
    {
     "data": {
      "text/plain": "0"
     },
     "metadata": {},
     "output_type": "execute_result",
     "execution_count": 9
    }
   ],
   "source": [
    "res[1].index(\"0\")"
   ],
   "metadata": {
    "collapsed": false,
    "pycharm": {
     "name": "#%%\n",
     "is_executing": false
    }
   }
  },
  {
   "cell_type": "code",
   "execution_count": null,
   "outputs": [],
   "source": [
    "\n"
   ],
   "metadata": {
    "collapsed": false,
    "pycharm": {
     "name": "#%%\n"
    }
   }
  }
 ],
 "metadata": {
  "kernelspec": {
   "display_name": "Python 3",
   "language": "python",
   "name": "python3"
  },
  "language_info": {
   "codemirror_mode": {
    "name": "ipython",
    "version": 2
   },
   "file_extension": ".py",
   "mimetype": "text/x-python",
   "name": "python",
   "nbconvert_exporter": "python",
   "pygments_lexer": "ipython2",
   "version": "2.7.6"
  },
  "pycharm": {
   "stem_cell": {
    "cell_type": "raw",
    "source": [],
    "metadata": {
     "collapsed": false
    }
   }
  }
 },
 "nbformat": 4,
 "nbformat_minor": 0
}