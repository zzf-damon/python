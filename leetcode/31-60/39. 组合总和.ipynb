{
 "nbformat": 4,
 "nbformat_minor": 2,
 "metadata": {
  "language_info": {
   "name": "python",
   "codemirror_mode": {
    "name": "ipython",
    "version": 3
   }
  },
  "orig_nbformat": 2,
  "file_extension": ".py",
  "mimetype": "text/x-python",
  "name": "python",
  "npconvert_exporter": "python",
  "pygments_lexer": "ipython3",
  "version": 3,
  "kernelspec": {
   "name": "python3",
   "language": "python",
   "display_name": "Python 3"
  }
 },
 "cells": [
  {
   "cell_type": "code",
   "execution_count": 2,
   "metadata": {
    "pycharm": {
     "is_executing": false
    }
   },
   "outputs": [],
   "source": [
    "candidates1 = [2,3,6,7]\n",
    "candidates2 = [2,3,5]"
   ]
  },
  {
   "cell_type": "code",
   "execution_count": 26,
   "outputs": [
    {
     "data": {
      "text/plain": "[[2, 2, 3], [7]]"
     },
     "metadata": {},
     "output_type": "execute_result",
     "execution_count": 26
    }
   ],
   "source": [
    "def combinationSum(candidates, target: int):\n",
    "    size = len(candidates)\n",
    "    if size == 0:return []\n",
    "    candidates.sort()\n",
    "    res = []\n",
    "\n",
    "    def dfs(path,target,begin):\n",
    "        if target == 0:\n",
    "            res.append(path[:])\n",
    "            return\n",
    "\n",
    "        for i in range(begin,size):\n",
    "            residue = target - candidates[i]\n",
    "            if residue < 0:\n",
    "                break\n",
    "            path.append(candidates[i])\n",
    "            dfs(path,residue,i)\n",
    "            path.pop()\n",
    "\n",
    "    dfs([],target,0)\n",
    "    return res\n",
    "                \n",
    "combinationSum(candidates1,target=7)"
   ],
   "metadata": {
    "collapsed": false,
    "pycharm": {
     "name": "#%%\n",
     "is_executing": false
    }
   }
  },
  {
   "cell_type": "code",
   "execution_count": 28,
   "outputs": [
    {
     "data": {
      "text/plain": "1"
     },
     "metadata": {},
     "output_type": "execute_result",
     "execution_count": 28
    }
   ],
   "source": [
    "7//7"
   ],
   "metadata": {
    "collapsed": false,
    "pycharm": {
     "name": "#%%\n",
     "is_executing": false
    }
   }
  },
  {
   "cell_type": "code",
   "execution_count": 5,
   "outputs": [
    {
     "data": {
      "text/plain": "0"
     },
     "metadata": {},
     "output_type": "execute_result",
     "execution_count": 5
    }
   ],
   "source": [
    "8 - 2 * 4"
   ],
   "metadata": {
    "collapsed": false,
    "pycharm": {
     "name": "#%%\n",
     "is_executing": false
    }
   }
  },
  {
   "cell_type": "code",
   "execution_count": 1,
   "outputs": [
    {
     "name": "stdout",
     "output_type": "stream",
     "text": [
      "[[2, 2, 3], [7]]\n"
     ]
    }
   ],
   "source": [
    "from typing import List\n",
    "\n",
    "\n",
    "class Solution:\n",
    "    def combinationSum(self, candidates: List[int], target: int) -> List[List[int]]:\n",
    "        size = len(candidates)\n",
    "        if size == 0:\n",
    "            return []\n",
    "\n",
    "        # 剪枝是为了提速，在本题非必需\n",
    "        candidates.sort()\n",
    "        # 在遍历的过程中记录路径，它是一个栈\n",
    "        res = []\n",
    "        # 注意要传入 size ，在 range 中， size 取不到\n",
    "        \n",
    "        def __dfs(begin, path, target):\n",
    "            # 先写递归终止的情况\n",
    "            if target == 0:\n",
    "                # Python 中可变对象是引用传递，因此需要将当前 path 里的值拷贝出来\n",
    "                # 或者使用 path.copy()\n",
    "                res.append(path[:])\n",
    "                return\n",
    "    \n",
    "            for index in range(begin, size):\n",
    "                residue = target - candidates[index]\n",
    "                # “剪枝”操作，不必递归到下一层，并且后面的分支也不必执行\n",
    "                if residue < 0:\n",
    "                    break\n",
    "                path.append(candidates[index])\n",
    "                # 因为下一层不能比上一层还小，起始索引还从 index 开始\n",
    "                __dfs(index, path, residue)\n",
    "                path.pop()\n",
    "        \n",
    "        \n",
    "        __dfs(0, [], target)\n",
    "        return res\n",
    "\n",
    "    \n",
    "\n",
    "\n",
    "\n",
    "candidates = [2, 3, 6, 7]\n",
    "target = 7\n",
    "solution = Solution()\n",
    "result = solution.combinationSum(candidates, target)\n",
    "print(result)"
   ],
   "metadata": {
    "collapsed": false,
    "pycharm": {
     "name": "#%%\n"
    }
   }
  },
  {
   "cell_type": "markdown",
   "source": [
    "# 9-9"
   ],
   "metadata": {
    "collapsed": false,
    "pycharm": {
     "name": "#%% md\n"
    }
   }
  },
  {
   "cell_type": "code",
   "execution_count": 2,
   "outputs": [],
   "source": [
    "# 无剪枝\n"
   ],
   "metadata": {
    "collapsed": false,
    "pycharm": {
     "name": "#%%\n"
    }
   }
  },
  {
   "cell_type": "code",
   "execution_count": null,
   "outputs": [],
   "source": [
    "from typing import List\n",
    "\n",
    "\n",
    "class Solution:\n",
    "    def combinationSum(self, candidates: List[int], target: int) -> List[List[int]]:\n",
    "\n",
    "        def dfs(candidates, begin, size, path, res, target):\n",
    "            if target < 0:\n",
    "                return\n",
    "            if target == 0:\n",
    "                res.append(path)\n",
    "                return\n",
    "\n",
    "            for index in range(begin, size):\n",
    "                dfs(candidates, index, size, path + [candidates[index]], res, target - candidates[index])\n",
    "\n",
    "        size = len(candidates)\n",
    "        if size == 0:\n",
    "            return []\n",
    "        path = []\n",
    "        res = []\n",
    "        dfs(candidates, 0, size, path, res, target)\n",
    "        return res"
   ],
   "metadata": {
    "collapsed": false,
    "pycharm": {
     "name": "#%%\n"
    }
   }
  },
  {
   "cell_type": "markdown",
   "source": [
    "# 添加剪枝\n"
   ],
   "metadata": {
    "collapsed": false
   }
  },
  {
   "cell_type": "code",
   "execution_count": null,
   "outputs": [],
   "source": [
    "from typing import List\n",
    "\n",
    "\n",
    "class Solution:\n",
    "    def combinationSum(self, candidates: List[int], target: int) -> List[List[int]]:\n",
    "\n",
    "        def dfs(candidates, begin, size, path, res, target):\n",
    "            if target == 0:\n",
    "                res.append(path)\n",
    "                return\n",
    "\n",
    "            for index in range(begin, size):\n",
    "                residue = target - candidates[index]\n",
    "                if residue < 0:\n",
    "                    break\n",
    "\n",
    "                dfs(candidates, index, size, path + [candidates[index]], res, residue)\n",
    "\n",
    "        size = len(candidates)\n",
    "        if size == 0:\n",
    "            return []\n",
    "        candidates.sort()\n",
    "        path = []\n",
    "        res = []\n",
    "        dfs(candidates, 0, size, path, res, target)\n",
    "        return res\n",
    "\n"
   ],
   "metadata": {
    "collapsed": false,
    "pycharm": {
     "name": "#%%\n"
    }
   }
  }
 ]
}