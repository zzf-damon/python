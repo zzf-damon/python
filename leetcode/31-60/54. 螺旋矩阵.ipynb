{
 "cells": [
  {
   "cell_type": "code",
   "execution_count": 4,
   "metadata": {
    "pycharm": {
     "is_executing": false
    }
   },
   "outputs": [],
   "source": [
    "from typing import List\n",
    "nums1 = [\n",
    " [ 1, 2, 3 ],\n",
    " [ 4, 5, 6 ],\n",
    " [ 7, 8, 9 ]\n",
    "]\n",
    "nums2 = [\n",
    "  [1, 2, 3, 4],\n",
    "  [5, 6, 7, 8],\n",
    "  [9,10,11,12]\n",
    "]"
   ]
  },
  {
   "cell_type": "markdown",
   "metadata": {
    "pycharm": {
     "is_executing": false,
     "name": "#%% md\n"
    }
   },
   "source": [
    "执行用时 :\n",
    "56 ms\n",
    ", 在所有 Python3 提交中击败了\n",
    "10.53%\n",
    "的用户\n",
    "内存消耗 :\n",
    "13.6 MB\n",
    ", 在所有 Python3 提交中击败了\n",
    "6.43%\n",
    "的用户"
   ]
  },
  {
   "cell_type": "code",
   "execution_count": 14,
   "metadata": {
    "pycharm": {
     "is_executing": false,
     "name": "#%%\n"
    }
   },
   "outputs": [
    {
     "data": {
      "text/plain": [
       "[1, 2, 3, 4, 8, 12, 11, 10, 9, 5, 6, 7]"
      ]
     },
     "execution_count": 14,
     "metadata": {},
     "output_type": "execute_result"
    }
   ],
   "source": [
    "def spiralOrder(matrix):\n",
    "    if not matrix:return matrix\n",
    "    res = []\n",
    "    def backtrack(sign=0,row=0,col=0):\n",
    "        res.append(matrix[row][col])\n",
    "        matrix[row][col] = \".\"\n",
    "        if sign == 0:\n",
    "            if col < len(matrix[row])-1 and matrix[row][col+1] is not \".\":\n",
    "                backtrack(0,row,col+1)\n",
    "            else:\n",
    "                if row <len(matrix)-1 and matrix[row+1][col] is not \".\":\n",
    "                    backtrack(1,row+1,col)\n",
    "        elif sign == 1:\n",
    "            if row < len(matrix) - 1 and matrix[row+1][col] is not \".\":\n",
    "                backtrack(1,row+1,col)\n",
    "            else:\n",
    "                if col > 0 and matrix[row][col-1] is not \".\":\n",
    "                    backtrack(2,row,col-1)\n",
    "        elif sign == 2:\n",
    "            if col > 0 and matrix[row][col-1] is not \".\":\n",
    "                backtrack(2,row,col-1)\n",
    "            else:\n",
    "                if row >0 and matrix[row -1][col] is not \".\":\n",
    "                    backtrack(3,row-1,col)\n",
    "        else:\n",
    "            if row >0 and matrix[row -1][col] is not \".\":\n",
    "                backtrack(3,row-1,col)\n",
    "            else:\n",
    "                if col < len(matrix[row])-1 and matrix[row][col+1] is not \".\":\n",
    "                    backtrack(0,row,col+1)\n",
    "    backtrack()\n",
    "    return res\n",
    "spiralOrder(nums2)"
   ]
  },
  {
   "cell_type": "markdown",
   "metadata": {
    "pycharm": {
     "name": "#%% md\n"
    }
   },
   "source": [
    "进行改进\n",
    "\n",
    "执行用时 :\n",
    "40 ms\n",
    ", 在所有 Python3 提交中击败了\n",
    "47.60%\n",
    "的用户\n",
    "内存消耗 :\n",
    "13.7 MB\n",
    ", 在所有 Python3 提交中击败了\n",
    "7.02%\n",
    "的用户\n"
   ]
  },
  {
   "cell_type": "code",
   "execution_count": 5,
   "metadata": {
    "pycharm": {
     "is_executing": false,
     "name": "#%% \n"
    }
   },
   "outputs": [
    {
     "name": "stdout",
     "output_type": "stream",
     "text": [
      "[1, 2, 3, 6, 9, 8, 7, 4, 5]\n"
     ]
    }
   ],
   "source": [
    "def improve(matrix):\n",
    "    if not matrix:return matrix\n",
    "    res = []\n",
    "    row = 0\n",
    "    col = 0\n",
    "    sign = 0\n",
    "    while row < len(matrix) and col < len(matrix[0]):\n",
    "        res.append(matrix[row][col])\n",
    "        matrix[row][col] = \".\"\n",
    "        if sign == 0:\n",
    "            if col < len(matrix[row])-1 and matrix[row][col+1] is not \".\":\n",
    "                col += 1\n",
    "            else:\n",
    "                if row <len(matrix)-1 and matrix[row+1][col] is not \".\":\n",
    "                    sign = 1\n",
    "                    row += 1\n",
    "                else:\n",
    "                    break\n",
    "        elif sign == 1:\n",
    "            if row < len(matrix) - 1 and matrix[row+1][col] is not \".\":\n",
    "                row += 1\n",
    "            else:\n",
    "                if col > 0 and matrix[row][col-1] is not \".\":\n",
    "                    sign = 2\n",
    "                    col -= 1\n",
    "                else:\n",
    "                    break\n",
    "        elif sign == 2:\n",
    "            if col > 0 and matrix[row][col-1] is not \".\":\n",
    "                col -= 1\n",
    "            else:\n",
    "                if row >0 and matrix[row -1][col] is not \".\":\n",
    "                    sign = 3\n",
    "                    row -= 1\n",
    "                else:\n",
    "                    break\n",
    "        else:\n",
    "            if row >0 and matrix[row -1][col] is not \".\":\n",
    "                row -= 1\n",
    "            else:\n",
    "                if col < len(matrix[row])-1 and matrix[row][col+1] is not \".\":\n",
    "                    sign = 0\n",
    "                    col += 1\n",
    "                else:\n",
    "                    break\n",
    "    return res\n",
    "\n",
    "print(improve(nums1))"
   ]
  },
  {
   "cell_type": "markdown",
   "metadata": {},
   "source": [
    "执行用时 :\n",
    "36 ms\n",
    ", 在所有 Python3 提交中击败了\n",
    "66.88%\n",
    "的用户\n",
    "内存消耗 :\n",
    "13.8 MB\n",
    ", 在所有 Python3 提交中击败了\n",
    "6.43%\n",
    "的用户\n"
   ]
  },
  {
   "cell_type": "code",
   "execution_count": 13,
   "metadata": {
    "pycharm": {
     "is_executing": false,
     "name": "#%%\n"
    }
   },
   "outputs": [
    {
     "data": {
      "text/plain": [
       "[1, 2, 3, 6, 9, 8, 7, 4, 5]"
      ]
     },
     "execution_count": 13,
     "metadata": {},
     "output_type": "execute_result"
    }
   ],
   "source": [
    "def spiralOrder(matrix: List[List[int]]) -> List[int]:\n",
    "    if not matrix: return []\n",
    "    R, C = len(matrix), len(matrix[0])\n",
    "    seen = [[False] * C for _ in matrix]\n",
    "    ans = []\n",
    "    dr = [0, 1, 0, -1]\n",
    "    dc = [1, 0, -1, 0]\n",
    "    r = c = di = 0\n",
    "    for _ in range(R * C):\n",
    "        ans.append(matrix[r][c])\n",
    "        seen[r][c] = True\n",
    "        cr, cc = r + dr[di], c + dc[di]\n",
    "        if 0 <= cr < R and 0 <= cc < C and not seen[cr][cc]:\n",
    "            r, c = cr, cc\n",
    "        else:\n",
    "            di = (di + 1) % 4\n",
    "            r, c = r + dr[di], c + dc[di]\n",
    "    return ans\n",
    "spiralOrder(nums1)"
   ]
  },
  {
   "cell_type": "code",
   "execution_count": null,
   "metadata": {
    "pycharm": {
     "name": "#%%\n"
    }
   },
   "outputs": [],
   "source": [
    "\n"
   ]
  }
 ],
 "metadata": {
  "kernelspec": {
   "display_name": "Python 3",
   "language": "python",
   "name": "python3"
  },
  "language_info": {
   "codemirror_mode": {
    "name": "ipython",
    "version": 3
   },
   "file_extension": ".py",
   "mimetype": "text/x-python",
   "name": "python",
   "nbconvert_exporter": "python",
   "pygments_lexer": "ipython3",
   "version": "3.7.4"
  },
  "varInspector": {
   "cols": {
    "lenName": 16,
    "lenType": 16,
    "lenVar": 40
   },
   "kernels_config": {
    "python": {
     "delete_cmd_postfix": "",
     "delete_cmd_prefix": "del ",
     "library": "var_list.py",
     "varRefreshCmd": "print(var_dic_list())"
    },
    "r": {
     "delete_cmd_postfix": ") ",
     "delete_cmd_prefix": "rm(",
     "library": "var_list.r",
     "varRefreshCmd": "cat(var_dic_list()) "
    }
   },
   "types_to_exclude": [
    "module",
    "function",
    "builtin_function_or_method",
    "instance",
    "_Feature"
   ],
   "window_display": false
  }
 },
 "nbformat": 4,
 "nbformat_minor": 1
}