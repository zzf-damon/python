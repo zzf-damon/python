{
 "cells": [
  {
   "cell_type": "code",
   "execution_count": 1,
   "metadata": {
    "collapsed": true,
    "pycharm": {
     "is_executing": false
    }
   },
   "outputs": [],
   "source": [
    "s1 = \"aa\"\n",
    "p1 = \"a\"\n",
    "s2 = \"aa\"\n",
    "p2 = \"*\"\n",
    "s3 = \"cb\"\n",
    "p3 = \"?a\"\n",
    "s4 = \"adceb\"\n",
    "p4 = \"*a*b\"\n",
    "s5 = \"acdcb\"\n",
    "p5 = \"a*c?b\""
   ]
  },
  {
   "cell_type": "code",
   "execution_count": null,
   "outputs": [],
   "source": [
    "def isMatch(text,pattern):\n",
    "    memo = {}\n",
    "    def dp(i, j):\n",
    "        if (i, j) not in memo:\n",
    "            if j == len(pattern):\n",
    "                ans = i == len(text)\n",
    "            else:\n",
    "                first_match = i < len(text) and pattern[j] in {text[i], '?'}\n",
    "                if j+1 < len(pattern) and pattern[j+1] == '*':\n",
    "                    ans = dp(i, j+2) or first_match and dp(i+1, j)\n",
    "                else:\n",
    "                    ans = first_match and dp(i+1, j+1)\n",
    "\n",
    "            memo[i, j] = ans\n",
    "        return memo[i, j]\n",
    "\n",
    "    return dp(0, 0)"
   ],
   "metadata": {
    "collapsed": false,
    "pycharm": {
     "name": "#%%\n"
    }
   }
  }
 ],
 "metadata": {
  "kernelspec": {
   "display_name": "Python 3",
   "language": "python",
   "name": "python3"
  },
  "language_info": {
   "codemirror_mode": {
    "name": "ipython",
    "version": 2
   },
   "file_extension": ".py",
   "mimetype": "text/x-python",
   "name": "python",
   "nbconvert_exporter": "python",
   "pygments_lexer": "ipython2",
   "version": "2.7.6"
  },
  "pycharm": {
   "stem_cell": {
    "cell_type": "raw",
    "source": [],
    "metadata": {
     "collapsed": false
    }
   }
  }
 },
 "nbformat": 4,
 "nbformat_minor": 0
}