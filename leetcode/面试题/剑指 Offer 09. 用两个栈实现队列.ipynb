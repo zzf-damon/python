{
 "cells": [
  {
   "cell_type": "code",
   "execution_count": 2,
   "metadata": {
    "collapsed": true
   },
   "outputs": [],
   "source": [
    "class CQueue:\n",
    "\n",
    "    def __init__(self):\n",
    "        self.stack_in = []\n",
    "        self.stack_out = []\n",
    "\n",
    "    def appendTail(self, value: int) -> None:\n",
    "        self.stack_in.append(value)\n",
    "\n",
    "    def deleteHead(self) -> int:\n",
    "        if not self.stack_out:\n",
    "            if not self.stack_in: # 都为空\n",
    "                return -1\n",
    "            else: # 把in栈中的东西全部倒入out栈中\n",
    "                while self.stack_in:\n",
    "                    self.stack_out.append(self.stack_in.pop())\n",
    "\n",
    "        return self.stack_out.pop()\n",
    "\n"
   ]
  },
  {
   "cell_type": "code",
   "execution_count": null,
   "outputs": [],
   "source": [
    "list1 = [\"CQueue\",\"deleteHead\",\"appendTail\",\"appendTail\",\"deleteHead\",\"deleteHead\"]\n",
    "list2 = [[],[],[5],[2],[],[]]\n"
   ],
   "metadata": {
    "collapsed": false,
    "pycharm": {
     "name": "#%%\n"
    }
   }
  },
  {
   "cell_type": "code",
   "execution_count": null,
   "outputs": [],
   "source": [
    "# Your CQueue object will be instantiated and called as such:\n",
    "obj = CQueue()\n",
    "obj.appendTail(list2)\n",
    "param_2 = obj.deleteHead()\n"
   ],
   "metadata": {
    "collapsed": false,
    "pycharm": {
     "name": "#%%\n"
    }
   }
  }
 ],
 "metadata": {
  "kernelspec": {
   "display_name": "Python 3",
   "language": "python",
   "name": "python3"
  },
  "language_info": {
   "codemirror_mode": {
    "name": "ipython",
    "version": 2
   },
   "file_extension": ".py",
   "mimetype": "text/x-python",
   "name": "python",
   "nbconvert_exporter": "python",
   "pygments_lexer": "ipython2",
   "version": "2.7.6"
  }
 },
 "nbformat": 4,
 "nbformat_minor": 0
}