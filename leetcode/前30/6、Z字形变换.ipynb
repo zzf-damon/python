{
 "cells": [
  {
   "cell_type": "code",
   "execution_count": 103,
   "metadata": {
    "collapsed": true,
    "pycharm": {
     "is_executing": false
    }
   },
   "outputs": [],
   "source": [
    "class Solution:\n",
    "    def convert(self, s: str, numRows: int) -> str:\n",
    "        if numRows < 2:\n",
    "            return s\n",
    "        import re,math\n",
    "        k =2*(numRows-1)\n",
    "        j = 0\n",
    "        result = \"\"\n",
    "        str3 = s\n",
    "        for i in range(len(str3)):\n",
    "            if (i-1)%k >= (numRows-1) and i != 0:\n",
    "                s = s[:i+j*(k-numRows)] + (k-numRows)*\"#\" + s[i+j*(k-numRows):]\n",
    "                j+= 1\n",
    "        s = s + (numRows - len(s) % numRows)*\"#\" if len(s) % numRows != 0 else s\n",
    "        result_list = []\n",
    "        for i in range(math.ceil(len(s)/numRows)):\n",
    "            res = s[i*numRows:(i+1)*numRows]\n",
    "            result_list.append(res)\n",
    "        for i in range(numRows):\n",
    "            for j in result_list:\n",
    "                result += j[i]\n",
    "        result = re.sub(\"#\",\"\",result)\n",
    "        return result"
   ]
  },
  {
   "cell_type": "code",
   "execution_count": 104,
   "outputs": [],
   "source": [
    "str1 = \"AB\"\n",
    "numRows1 = 1\n",
    "numRows2 = 4"
   ],
   "metadata": {
    "collapsed": false,
    "pycharm": {
     "name": "#%%\n",
     "is_executing": false
    }
   }
  },
  {
   "cell_type": "code",
   "execution_count": 105,
   "outputs": [
    {
     "data": {
      "text/plain": "'AB'"
     },
     "metadata": {},
     "output_type": "execute_result",
     "execution_count": 105
    }
   ],
   "source": [
    "solution = Solution()\n",
    "solution.convert(str1,numRows2)\n"
   ],
   "metadata": {
    "collapsed": false,
    "pycharm": {
     "name": "#%%\n",
     "is_executing": false
    }
   }
  },
  {
   "cell_type": "code",
   "execution_count": 87,
   "outputs": [],
   "source": [
    "str2 = \"LEETCODEISHIRING\"\n",
    "n = 3\n",
    "k =2*(n-1)\n",
    "j = 0\n",
    "str3 = str2\n",
    "for i in range(len(str3)):\n",
    "    if (i-1)%k >= (n-1) and i != 0:\n",
    "        str2 = str2[:i+j*(k-n)] + (k-n)*\"#\" + str2[i+j*(k-n):]\n",
    "        j+= 1"
   ],
   "metadata": {
    "collapsed": false,
    "pycharm": {
     "name": "#%%\n",
     "is_executing": false
    }
   }
  },
  {
   "cell_type": "code",
   "execution_count": 88,
   "outputs": [
    {
     "data": {
      "text/plain": "'LCIRETOESIIGEDHN'"
     },
     "metadata": {},
     "output_type": "execute_result",
     "execution_count": 88
    }
   ],
   "source": [
    "import math\n",
    "str2 = str2 + (n - len(str2) % n)*\"#\" if len(str2) % n != 0 else str2\n",
    "result_list = []\n",
    "for i in range(math.ceil(len(str2)/n)):\n",
    "    res = str2[i*n:(i+1)*n]\n",
    "    result_list.append(res)\n",
    "result = \"\"\n",
    "for i in range(n):\n",
    "    for j in result_list:\n",
    "        result += j[i]\n",
    "import re\n",
    "result = re.sub(\"#\",\"\",result)\n",
    "result"
   ],
   "metadata": {
    "collapsed": false,
    "pycharm": {
     "name": "#%%\n",
     "is_executing": false
    }
   }
  },
  {
   "cell_type": "code",
   "execution_count": 112,
   "outputs": [],
   "source": [
    "def convert1(s: str, numRows: int) -> str:\n",
    "    if numRows == 1:\n",
    "        return s\n",
    "    rows = [''] * min(numRows, len(s))\n",
    "    cur_row = 0\n",
    "    going_down = False\n",
    "    for c in s:\n",
    "        rows[cur_row] += c\n",
    "        if cur_row == 0 or cur_row == numRows - 1:\n",
    "            going_down = not going_down\n",
    "        cur_row += 1 if going_down else -1\n",
    "    res = ''.join(rows)\n",
    "    return res\n",
    "\n",
    "convert1(str3,4)"
   ],
   "metadata": {
    "collapsed": false,
    "pycharm": {
     "name": "#%%\n",
     "is_executing": false
    }
   }
  },
  {
   "cell_type": "code",
   "execution_count": 111,
   "outputs": [
    {
     "data": {
      "text/plain": "'LCIRETOESIIGEDHN'"
     },
     "metadata": {},
     "output_type": "execute_result",
     "execution_count": 111
    }
   ],
   "source": [
    "# 整数反转\n",
    "\n",
    "\n",
    "def reverse( x: int) -> int:\n",
    "    if x >= 0:\n",
    "        result = str(x)[::-1]\n",
    "    else:\n",
    "        result = \"-\" + str(abs(x))[::-1]\n",
    "    if -2**31 < int(result) < 2**31-1:\n",
    "        return int(result)\n",
    "    else:\n",
    "        return 0\n",
    "\n",
    "\n",
    "int1 = 1534236469\n",
    "int2 = -123\n",
    "int3 = -120\n",
    "\n",
    "\n",
    "reverse(int1)"
   ],
   "metadata": {
    "collapsed": false,
    "pycharm": {
     "name": "#%%\n",
     "is_executing": false
    }
   }
  },
  {
   "cell_type": "code",
   "execution_count": null,
   "outputs": [],
   "source": [
    "\n"
   ],
   "metadata": {
    "collapsed": false,
    "pycharm": {
     "name": "#%%\n"
    }
   }
  }
 ],
 "metadata": {
  "kernelspec": {
   "display_name": "Python 3",
   "language": "python",
   "name": "python3"
  },
  "language_info": {
   "codemirror_mode": {
    "name": "ipython",
    "version": 2
   },
   "file_extension": ".py",
   "mimetype": "text/x-python",
   "name": "python",
   "nbconvert_exporter": "python",
   "pygments_lexer": "ipython2",
   "version": "2.7.6"
  },
  "pycharm": {
   "stem_cell": {
    "cell_type": "raw",
    "source": [],
    "metadata": {
     "collapsed": false
    }
   }
  }
 },
 "nbformat": 4,
 "nbformat_minor": 0
}