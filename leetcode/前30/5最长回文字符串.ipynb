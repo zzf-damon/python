{
 "cells": [
  {
   "cell_type": "code",
   "execution_count": 50,
   "metadata": {},
   "outputs": [],
   "source": [
    "class Solution:\n",
    "    def longestPalindrome(self, s: str) -> str:\n",
    "        k = len(s)\n",
    "        matrix = [[False for i in range(k)] for j in range(k)] \n",
    "        re = s[0:1]\n",
    "        for i in range(k):\n",
    "            for j in range(k):\n",
    "                if i==j:\n",
    "                     matrix[i][j] = True\n",
    "        for t in range(1,len(s)):       #分别考虑长度为2~len-1的子串（长串依赖短串的二维数组值）\n",
    "            for i in range(k):\n",
    "                j = i+t\n",
    "                if j >= k: \n",
    "                     break\n",
    "                if i+1 <= j-1 and matrix[i+1][j-1]==True and s[i] == s[j]:\n",
    "                    matrix[i][j] = True\n",
    "                    if t+1 > len(re):\n",
    "                        re = s[i:j+1]\n",
    "                elif i+1 == j and j-1 == i and s[i] == s[j]:\n",
    "                    matrix[i][j] = True\n",
    "                    if t+1 > len(re):\n",
    "                        re = s[i:j+1]\n",
    "        print(re)"
   ]
  },
  {
   "cell_type": "code",
   "execution_count": 3,
   "metadata": {
    "pycharm": {
     "is_executing": false
    }
   },
   "outputs": [],
   "source": [
    "str1 = \"babad\" # bab\n",
    "str2 = \"cbbd\" # bb"
   ]
  },
  {
   "cell_type": "code",
   "execution_count": 53,
   "metadata": {},
   "outputs": [
    {
     "name": "stdout",
     "output_type": "stream",
     "text": [
      "bb\n"
     ]
    }
   ],
   "source": [
    "solution = Solution()\n",
    "solution.longestPalindrome(str2)\n"
   ]
  },
  {
   "cell_type": "code",
   "execution_count": 31,
   "metadata": {
    "pycharm": {
     "is_executing": false
    }
   },
   "outputs": [
    {
     "data": {
      "text/plain": "'$$**$$'"
     },
     "metadata": {},
     "output_type": "execute_result",
     "execution_count": 31
    }
   ],
   "source": [
    "# manacher 算法\n",
    "def manacher(s):\n",
    "    #预处理\n",
    "    y = s\n",
    "    s='#'+'#'.join(y)+'#'\n",
    "    RL=[0]*len(s)\n",
    "    MaxRight=0\n",
    "    pos=0\n",
    "    MaxLen=0\n",
    "    k = \"\"\n",
    "    for i in range(len(s)):\n",
    "        if i<MaxRight:\n",
    "            RL[i]=min(RL[2*pos-i], MaxRight-i)\n",
    "        else:\n",
    "            RL[i]=1\n",
    "        #尝试扩展，注意处理边界\n",
    "        while i-RL[i]>=0 and i+RL[i]<len(s) and s[i-RL[i]]==s[i+RL[i]]:\n",
    "            RL[i]+=1\n",
    "        #更新MaxRight,pos\n",
    "        if RL[i]+i-1>MaxRight:\n",
    "            MaxRight=RL[i]+i-1\n",
    "            pos=i\n",
    "        #更新最长回文串的长度\n",
    "        if MaxLen < RL[i]:\n",
    "            MaxLen=RL[i]\n",
    "            k = y[i//2 - (MaxLen-1)//2:i//2 + MaxLen//2]\n",
    "    return k\n",
    "manacher(\"2$$**$$\")"
   ]
  },
  {
   "cell_type": "code",
   "execution_count": 23,
   "metadata": {
    "pycharm": {
     "name": "#%%\n",
     "is_executing": false
    }
   },
   "outputs": [],
   "source": [
    "\n"
   ]
  }
 ],
 "metadata": {
  "kernelspec": {
   "display_name": "Python 3",
   "language": "python",
   "name": "python3"
  },
  "language_info": {
   "codemirror_mode": {
    "name": "ipython",
    "version": 3
   },
   "file_extension": ".py",
   "mimetype": "text/x-python",
   "name": "python",
   "nbconvert_exporter": "python",
   "pygments_lexer": "ipython3",
   "version": "3.7.3"
  },
  "pycharm": {
   "stem_cell": {
    "cell_type": "raw",
    "source": [],
    "metadata": {
     "collapsed": false
    }
   }
  },
  "varInspector": {
   "cols": {
    "lenName": 16,
    "lenType": 16,
    "lenVar": 40
   },
   "kernels_config": {
    "python": {
     "delete_cmd_postfix": "",
     "delete_cmd_prefix": "del ",
     "library": "var_list.py",
     "varRefreshCmd": "print(var_dic_list())"
    },
    "r": {
     "delete_cmd_postfix": ") ",
     "delete_cmd_prefix": "rm(",
     "library": "var_list.r",
     "varRefreshCmd": "cat(var_dic_list()) "
    }
   },
   "types_to_exclude": [
    "module",
    "function",
    "builtin_function_or_method",
    "instance",
    "_Feature"
   ],
   "window_display": false
  }
 },
 "nbformat": 4,
 "nbformat_minor": 2
}