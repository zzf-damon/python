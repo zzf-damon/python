{
 "cells": [
  {
   "cell_type": "markdown",
   "metadata": {
    "collapsed": true,
    "pycharm": {
     "name": "#%% md\n"
    }
   },
   "source": [
    "# 正则"
   ]
  },
  {
   "cell_type": "code",
   "execution_count": 1,
   "metadata": {
    "pycharm": {
     "is_executing": false,
     "name": "#%%\n"
    }
   },
   "outputs": [],
   "source": [
    "import re"
   ]
  },
  {
   "cell_type": "markdown",
   "metadata": {
    "pycharm": {
     "name": "#%% md\n"
    }
   },
   "source": [
    "# 输入 输出"
   ]
  },
  {
   "cell_type": "code",
   "execution_count": 2,
   "metadata": {
    "pycharm": {
     "is_executing": false,
     "name": "#%%\n"
    }
   },
   "outputs": [],
   "source": [
    "s1 = \"aa\"\n",
    "p1 = \"a\"  # false\n",
    "s2 = \"aa\"\n",
    "p2 = \"a*\"  # true\n",
    "s3 = \"ab\"\n",
    "p3 = \".*\" # true\n",
    "s4 = \"aab\"\n",
    "p4 = \"c*a*b\" # true\n",
    "s5 = \"missssissssippi\"\n",
    "p5 = \"mis*is*p*.\"  # false\n",
    "s6 = \"abb\"\n",
    "p6 = \"**b*\"\n",
    "s7 = \"abc\"\n",
    "p7 = \".*b\""
   ]
  },
  {
   "cell_type": "code",
   "execution_count": 5,
   "metadata": {
    "pycharm": {
     "is_executing": false,
     "name": "#%%\n"
    }
   },
   "outputs": [
    {
     "data": {
      "text/plain": "['ab']"
     },
     "metadata": {},
     "output_type": "execute_result",
     "execution_count": 5
    }
   ],
   "source": [
    "re.findall(p7,s7)"
   ]
  },
  {
   "cell_type": "code",
   "execution_count": 6,
   "metadata": {
    "pycharm": {
     "is_executing": false,
     "name": "#%%\n"
    }
   },
   "outputs": [
    {
     "traceback": [
      "\u001b[1;31m---------------------------------------------------------------------------\u001b[0m",
      "\u001b[1;31mIndexError\u001b[0m                                Traceback (most recent call last)",
      "\u001b[1;32m<ipython-input-6-eac9be2b67e4>\u001b[0m in \u001b[0;36m<module>\u001b[1;34m\u001b[0m\n\u001b[0;32m     17\u001b[0m             \u001b[0mk\u001b[0m \u001b[1;33m+=\u001b[0m \u001b[1;36m1\u001b[0m\u001b[1;33m\u001b[0m\u001b[1;33m\u001b[0m\u001b[0m\n\u001b[0;32m     18\u001b[0m     \u001b[1;32mreturn\u001b[0m \u001b[0ms\u001b[0m \u001b[1;33m==\u001b[0m \u001b[0mresult\u001b[0m\u001b[1;33m\u001b[0m\u001b[1;33m\u001b[0m\u001b[0m\n\u001b[1;32m---> 19\u001b[1;33m \u001b[0misMatch\u001b[0m\u001b[1;33m(\u001b[0m\u001b[0ms7\u001b[0m\u001b[1;33m,\u001b[0m\u001b[0mp7\u001b[0m\u001b[1;33m)\u001b[0m\u001b[1;33m\u001b[0m\u001b[1;33m\u001b[0m\u001b[0m\n\u001b[0m\u001b[0;32m     20\u001b[0m \u001b[1;33m\u001b[0m\u001b[0m\n",
      "\u001b[1;32m<ipython-input-6-eac9be2b67e4>\u001b[0m in \u001b[0;36misMatch\u001b[1;34m(s, p)\u001b[0m\n\u001b[0;32m     13\u001b[0m             \u001b[0mresult\u001b[0m \u001b[1;33m+=\u001b[0m \u001b[0ms\u001b[0m\u001b[1;33m[\u001b[0m\u001b[0mk\u001b[0m\u001b[1;33m]\u001b[0m\u001b[1;33m\u001b[0m\u001b[1;33m\u001b[0m\u001b[0m\n\u001b[0;32m     14\u001b[0m             \u001b[0mk\u001b[0m \u001b[1;33m+=\u001b[0m \u001b[1;36m1\u001b[0m\u001b[1;33m\u001b[0m\u001b[1;33m\u001b[0m\u001b[0m\n\u001b[1;32m---> 15\u001b[1;33m         \u001b[1;32melif\u001b[0m \u001b[0mj\u001b[0m \u001b[1;33m==\u001b[0m \u001b[0ms\u001b[0m\u001b[1;33m[\u001b[0m\u001b[0mk\u001b[0m\u001b[1;33m]\u001b[0m\u001b[1;33m:\u001b[0m\u001b[1;33m\u001b[0m\u001b[1;33m\u001b[0m\u001b[0m\n\u001b[0m\u001b[0;32m     16\u001b[0m             \u001b[0mresult\u001b[0m \u001b[1;33m+=\u001b[0m \u001b[0mj\u001b[0m\u001b[1;33m\u001b[0m\u001b[1;33m\u001b[0m\u001b[0m\n\u001b[0;32m     17\u001b[0m             \u001b[0mk\u001b[0m \u001b[1;33m+=\u001b[0m \u001b[1;36m1\u001b[0m\u001b[1;33m\u001b[0m\u001b[1;33m\u001b[0m\u001b[0m\n",
      "\u001b[1;31mIndexError\u001b[0m: string index out of range"
     ],
     "ename": "IndexError",
     "evalue": "string index out of range",
     "output_type": "error"
    }
   ],
   "source": [
    "def isMatch(s: str, p: str) -> bool:\n",
    "    result = \"\"\n",
    "    k = 0\n",
    "    for i,j in enumerate(p):\n",
    "        if j == \"*\":\n",
    "            while k < len(s) and  len(result) > 0:\n",
    "                if result[k-1] == s[k] or ( p[i-1] is \".\"):\n",
    "                    result += s[k]\n",
    "                    k += 1\n",
    "                else:\n",
    "                    break\n",
    "        elif j == \".\": \n",
    "            result += s[k]\n",
    "            k += 1\n",
    "        elif j == s[k]:\n",
    "            result += j\n",
    "            k += 1\n",
    "    return s == result\n",
    "isMatch(s7,p7)"
   ]
  },
  {
   "cell_type": "code",
   "execution_count": 7,
   "metadata": {
    "pycharm": {
     "is_executing": false
    }
   },
   "outputs": [
    {
     "data": {
      "text/plain": "False"
     },
     "metadata": {},
     "output_type": "execute_result",
     "execution_count": 7
    }
   ],
   "source": [
    "# 方法 1：回溯\n",
    "def isMatch(text, pattern):\n",
    "    if not pattern:\n",
    "        return not text\n",
    "\n",
    "    first_match = bool(text) and pattern[0] in {text[0], '.'}\n",
    "\n",
    "    if len(pattern) >= 2 and pattern[1] == '*':\n",
    "        return (isMatch(text, pattern[2:]) or first_match and isMatch(text[1:], pattern))\n",
    "    else:\n",
    "        return first_match and isMatch(text[1:], pattern[1:])\n",
    "isMatch(s7,p7)"
   ]
  },
  {
   "cell_type": "code",
   "execution_count": 3,
   "outputs": [
    {
     "data": {
      "text/plain": "False"
     },
     "metadata": {},
     "output_type": "execute_result",
     "execution_count": 3
    }
   ],
   "source": [
    "# 方法 2: 动态规划\n",
    "# 自顶向下\n",
    "\n",
    "def isMatch( text, pattern):\n",
    "    memo = {}\n",
    "    def dp(i, j):\n",
    "        if (i, j) not in memo:\n",
    "            if j == len(pattern):\n",
    "                ans = i == len(text)\n",
    "            else:\n",
    "                first_match = i < len(text) and pattern[j] in {text[i], '.'}\n",
    "                if j+1 < len(pattern) and pattern[j+1] == '*':\n",
    "                    ans = dp(i, j+2) or first_match and dp(i+1, j)\n",
    "                else:\n",
    "                    ans = first_match and dp(i+1, j+1)\n",
    "\n",
    "            memo[i, j] = ans\n",
    "        return memo[i, j]\n",
    "\n",
    "    return dp(0, 0)\n",
    "isMatch(s5,p5)"
   ],
   "metadata": {
    "collapsed": false,
    "pycharm": {
     "name": "#%%\n",
     "is_executing": false
    }
   }
  },
  {
   "cell_type": "code",
   "execution_count": null,
   "outputs": [],
   "source": [
    "# 自低向上\n",
    "def isMatch(text, pattern):\n",
    "    memo = {}\n",
    "    def dp(i, j):\n",
    "        if (i, j) not in memo:\n",
    "            if j == len(pattern):\n",
    "                ans = i == len(text)\n",
    "            else:\n",
    "                first_match = i < len(text) and pattern[j] in {text[i], '.'}\n",
    "                if j+1 < len(pattern) and pattern[j+1] == '*':\n",
    "                    ans = dp(i, j+2) or first_match and dp(i+1, j)\n",
    "                else:\n",
    "                    ans = first_match and dp(i+1, j+1)\n",
    "\n",
    "            memo[i, j] = ans\n",
    "        return memo[i, j]\n",
    "\n",
    "    return dp(0, 0)"
   ],
   "metadata": {
    "collapsed": false,
    "pycharm": {
     "name": "#%%\n",
     "is_executing": false
    }
   }
  }
 ],
 "metadata": {
  "kernelspec": {
   "display_name": "Python 3",
   "language": "python",
   "name": "python3"
  },
  "language_info": {
   "codemirror_mode": {
    "name": "ipython",
    "version": 3
   },
   "file_extension": ".py",
   "mimetype": "text/x-python",
   "name": "python",
   "nbconvert_exporter": "python",
   "pygments_lexer": "ipython3",
   "version": "3.7.4"
  },
  "notify_time": "5",
  "pycharm": {
   "stem_cell": {
    "cell_type": "raw",
    "source": [],
    "metadata": {
     "collapsed": false
    }
   }
  },
  "varInspector": {
   "cols": {
    "lenName": 16,
    "lenType": 16,
    "lenVar": 40
   },
   "kernels_config": {
    "python": {
     "delete_cmd_postfix": "",
     "delete_cmd_prefix": "del ",
     "library": "var_list.py",
     "varRefreshCmd": "print(var_dic_list())"
    },
    "r": {
     "delete_cmd_postfix": ") ",
     "delete_cmd_prefix": "rm(",
     "library": "var_list.r",
     "varRefreshCmd": "cat(var_dic_list()) "
    }
   },
   "position": {
    "height": "445.857px",
    "left": "7.42859px",
    "right": "20px",
    "top": "113px",
    "width": "506.857px"
   },
   "types_to_exclude": [
    "module",
    "function",
    "builtin_function_or_method",
    "instance",
    "_Feature"
   ],
   "window_display": true
  }
 },
 "nbformat": 4,
 "nbformat_minor": 1
}