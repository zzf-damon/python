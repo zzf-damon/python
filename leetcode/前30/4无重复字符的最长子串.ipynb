{
 "cells": [
  {
   "cell_type": "code",
   "execution_count": 1,
   "metadata": {},
   "outputs": [],
   "source": [
    "class Solution:\n",
    "    def lengthOfLongestSubstring(self, s: str) -> int:\n",
    "        str = mStr[0]\n",
    "        maxlen = 1\n",
    "        for i in mStr:\n",
    "            if i not in str:\n",
    "                str += i\n",
    "                maxlen = [maxlen,len(str)][len(str)>maxlen]\n",
    "            else:\n",
    "                if i == str[0]:\n",
    "                    str = str[1:] + i\n",
    "                else:\n",
    "                    index = str.index(i)\n",
    "                    str = str[index:]\n",
    "        return maxlen"
   ]
  },
  {
   "cell_type": "code",
   "execution_count": 83,
   "metadata": {},
   "outputs": [],
   "source": [
    "str1 = \"abcabcbb\" # 3\n",
    "str2 = \"bbbbb\" # 1\n",
    "str3 = \"umvejcuuk\" # 3\n",
    "str4 = \"ggububgvfk\" # 6"
   ]
  },
  {
   "cell_type": "code",
   "execution_count": 103,
   "metadata": {},
   "outputs": [],
   "source": [
    "def sub_str(mStr):\n",
    "    str = mStr[0]\n",
    "    maxlen = 1\n",
    "    strlen = 1\n",
    "    for i in mStr:\n",
    "        if i not in str:\n",
    "            str += i\n",
    "            maxlen = [maxlen,len(str)][len(str)>maxlen]\n",
    "        else:\n",
    "            if i == str[0]:\n",
    "                str = str[1:] + i\n",
    "            else:\n",
    "                index = str.index(i)\n",
    "                str = str[index+1:] + i\n",
    "        print(str)\n",
    "    return maxlen\n"
   ]
  },
  {
   "cell_type": "code",
   "execution_count": 107,
   "metadata": {},
   "outputs": [
    {
     "name": "stdout",
     "output_type": "stream",
     "text": [
      "a\n",
      "ab\n",
      "abc\n",
      "bca\n",
      "cab\n",
      "abc\n",
      "i b str abc\n",
      "1\n",
      "cb\n",
      "i b str cb\n",
      "1\n",
      "b\n"
     ]
    },
    {
     "data": {
      "text/plain": [
       "3"
      ]
     },
     "execution_count": 107,
     "metadata": {},
     "output_type": "execute_result"
    }
   ],
   "source": [
    "sub_str(str1)"
   ]
  },
  {
   "cell_type": "code",
   "execution_count": 57,
   "metadata": {},
   "outputs": [],
   "source": [
    "a= 1\n",
    "b= 2\n",
    "c = [b,a][a>b]"
   ]
  },
  {
   "cell_type": "code",
   "execution_count": 58,
   "metadata": {},
   "outputs": [
    {
     "data": {
      "text/plain": [
       "2"
      ]
     },
     "execution_count": 58,
     "metadata": {},
     "output_type": "execute_result"
    }
   ],
   "source": [
    "c"
   ]
  },
  {
   "cell_type": "code",
   "execution_count": null,
   "metadata": {},
   "outputs": [],
   "source": []
  }
 ],
 "metadata": {
  "kernelspec": {
   "display_name": "Python 3",
   "language": "python",
   "name": "python3"
  },
  "language_info": {
   "codemirror_mode": {
    "name": "ipython",
    "version": 3
   },
   "file_extension": ".py",
   "mimetype": "text/x-python",
   "name": "python",
   "nbconvert_exporter": "python",
   "pygments_lexer": "ipython3",
   "version": "3.7.3"
  }
 },
 "nbformat": 4,
 "nbformat_minor": 2
}
