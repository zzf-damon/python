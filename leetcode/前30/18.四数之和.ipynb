{
 "cells": [
  {
   "cell_type": "markdown",
   "metadata": {
    "collapsed": true,
    "pycharm": {
     "name": "#%% md\n"
    }
   },
   "source": [
    "> ### 给定一个包含 n 个整数的数组 nums 和一个目标值 target，判断 nums 中是否存在四个元素 a，b，c 和 d ，使得 a + b + c + d 的值与 target 相等？找出所有满足条件且不重复的四元组\n",
    "\n",
    "> #### 答案中不可以包含重复的四元组。\n",
    " 给定数组 nums = [1, 0, -1, 0, -2, 2]，和 target = 0。\n",
    "\n",
    "    满足要求的四元组集合为：\n",
    "    [\n",
    "      [-1,  0, 0, 1],\n",
    "      [-2, -1, 1, 2],\n",
    "      [-2,  0, 0, 2]\n",
    "    ]\n"
   ]
  },
  {
   "cell_type": "code",
   "execution_count": 16,
   "outputs": [],
   "source": [
    "nums = [1, 0, -1, 0, -2, 2]\n",
    "nums_1 = [-3,-2,-1,0,0,1,2,3]\n",
    "target = 0\n",
    "    "
   ],
   "metadata": {
    "collapsed": false,
    "pycharm": {
     "name": "#%%\n",
     "is_executing": false
    }
   }
  },
  {
   "cell_type": "markdown",
   "source": [
    "# 7044 ms\t13.3 MB"
   ],
   "metadata": {
    "collapsed": false,
    "pycharm": {
     "name": "#%% md\n",
     "is_executing": false
    }
   }
  },
  {
   "cell_type": "code",
   "execution_count": null,
   "outputs": [],
   "source": [
    "def test(nums,target):\n",
    "    if len(nums) < 3:return []\n",
    "    nums.sort()\n",
    "    List_ = []\n",
    "    for i,i_num in enumerate(nums):\n",
    "        if i!=0 and  i_num == nums[i-1]:continue\n",
    "        for j,j_num in enumerate(nums[i+1:]):\n",
    "            if j!= 0 and  j_num == nums[i+1:][j-1]:continue\n",
    "            for k,k_num in enumerate(nums[i+j+1+1:]):\n",
    "                if k != 0 and  k_num == nums[i+j+1+1:][k-1]:continue\n",
    "                number = target - i_num - j_num - k_num\n",
    "                if number in nums[i+j+k+1+1+1:]:\n",
    "                    List_.append([i_num,j_num,k_num,number])\n",
    "    return List_\n",
    "test(nums_1,target)\n"
   ],
   "metadata": {
    "collapsed": false,
    "pycharm": {
     "name": "#%%\n"
    }
   }
  },
  {
   "cell_type": "markdown",
   "source": [
    "# 96 ms\t13.4 MB"
   ],
   "metadata": {
    "collapsed": false,
    "pycharm": {
     "name": "#%% md\n"
    }
   }
  },
  {
   "cell_type": "code",
   "execution_count": null,
   "outputs": [],
   "source": [
    "class Solution:\n",
    "    def fourSum(self, nums: List[int], target: int) -> List[List[int]]:\n",
    "        result = []\n",
    "        if not nums or len(nums) < 4:\n",
    "            return result\n",
    "        nums.sort()\n",
    "        #数组长度\n",
    "        length = len(nums)\n",
    "        #定义4个指针k，i，j，h  k从0开始遍历，i从k+1开始遍历，留下j和h，j指向i+1，h指向数组最大值\n",
    "        for k in range(length - 3):\n",
    "            # 当k的值与前面的值相等时忽略\n",
    "            if k > 0 and nums[k] == nums[k - 1]:\n",
    "                continue\n",
    "            # 获取当前最小值，如果最小值比目标值大，说明后面越来越大的值根本没戏\n",
    "            min1 = nums[k] + nums[k+1] + nums[k+2] + nums[k+3]\n",
    "            if min1 > target:\n",
    "                break\n",
    "            # 获取当前最大值，如果最大值比目标值小，说明后面越来越小的值根本没戏，忽略\n",
    "            max1 = nums[k] + nums [length-1] + nums[length - 2] + nums[length - 3]\n",
    "            if max1 < target:\n",
    "                continue\n",
    "            for i in range(k+1, length-2):\n",
    "                if i > k + 1 and nums[i] == nums[i - 1]:\n",
    "                    continue\n",
    "                j = i + 1\n",
    "                h = length - 1\n",
    "                min2 = nums[k] + nums[i] + nums[j] + nums[j + 1]\n",
    "                if min2 > target:\n",
    "                    continue\n",
    "                max2 = nums[k] + nums[i] + nums[h] + nums[h - 1]\n",
    "                if max2 < target:\n",
    "                    continue\n",
    "                # 开始j指针和h指针的表演，计算当前和，如果等于目标值，j++并去重，h--并去重，当当前和大于目标值时h--，当当前和小于目标值时j++\n",
    "                while j < h:\n",
    "                    curr = nums[k] + nums[i] + nums[j] + nums[h]\n",
    "                    if curr == target:\n",
    "                        result.append([nums[k], nums[i], nums[j], nums[h]])\n",
    "                        j += 1\n",
    "                        while j < h and nums[j] == nums[j - 1]:\n",
    "                            j += 1\n",
    "                        h -= 1\n",
    "                        while j < h and i < h and nums[h] == nums[h + 1]:\n",
    "                            h -= 1\n",
    "                    elif curr > target:\n",
    "                        h -= 1\n",
    "                    elif curr < target:\n",
    "                        j += 1\n",
    "\n",
    "        return result\n",
    "\n"
   ],
   "metadata": {
    "collapsed": false,
    "pycharm": {
     "name": "#%%\n"
    }
   }
  }
 ],
 "metadata": {
  "kernelspec": {
   "display_name": "Python 3",
   "language": "python",
   "name": "python3"
  },
  "language_info": {
   "codemirror_mode": {
    "name": "ipython",
    "version": 2
   },
   "file_extension": ".py",
   "mimetype": "text/x-python",
   "name": "python",
   "nbconvert_exporter": "python",
   "pygments_lexer": "ipython2",
   "version": "2.7.6"
  },
  "pycharm": {
   "stem_cell": {
    "cell_type": "raw",
    "source": [],
    "metadata": {
     "collapsed": false
    }
   }
  }
 },
 "nbformat": 4,
 "nbformat_minor": 0
}