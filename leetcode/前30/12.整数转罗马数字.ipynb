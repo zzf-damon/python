{
 "cells": [
  {
   "cell_type": "code",
   "execution_count": 1,
   "metadata": {
    "collapsed": true,
    "pycharm": {
     "is_executing": false
    }
   },
   "outputs": [],
   "source": [
    "import random"
   ]
  },
  {
   "cell_type": "code",
   "execution_count": 2,
   "metadata": {
    "collapsed": false,
    "pycharm": {
     "is_executing": false,
     "name": "#%%\n"
    }
   },
   "outputs": [
    {
     "data": {
      "text/plain": "2727"
     },
     "metadata": {},
     "output_type": "execute_result",
     "execution_count": 2
    }
   ],
   "source": [
    "I =1 \n",
    "V = 5\n",
    "X = 10\n",
    "L = 50\n",
    "C = 100\n",
    "D = 500\n",
    "M = 1000\n",
    "IV = 4\n",
    "IX = 9\n",
    "XL = 40\n",
    "XC = 90\n",
    "CD = 400\n",
    "CM = 900\n",
    "number = random.randint(1,3999)\n",
    "number"
   ]
  },
  {
   "cell_type": "markdown",
   "metadata": {
    "collapsed": false,
    "pycharm": {
     "is_executing": false,
     "name": "#%% md\n"
    }
   },
   "source": [
    "# 12 整数转罗马数字\n",
    "    "
   ]
  },
  {
   "cell_type": "code",
   "execution_count": 5,
   "outputs": [],
   "source": [
    "# 最强枚举\n",
    "def enmu(num):\n",
    "    c = [\n",
    "        [\"\",\"I\",\"II\",\"III\",\"IV\",\"V\",\"VI\",\"VII\",\"VIII\",\"IX\"],\n",
    "        [\"\",\"X\",\"XX\",\"XXX\",\"XL\",\"L\",\"LX\",\"LXX\",\"LXXX\",\"XC\"],\n",
    "        [\"\",\"C\",\"CC\",\"CCC\",\"CD\",\"D\",\"DC\",\"DCC\",\"DCCC\",\"CM\"],\n",
    "        [\"\",\"M\",\"MM\",\"MMM\"]\n",
    "    ]\n",
    "    roman = \"\"\n",
    "    roman +=c[3][num // 1000]\n",
    "    roman +=c[2][num // 100 % 10]\n",
    "    roman +=c[1][num // 10 % 10]\n",
    "    roman +=c[0][num % 10]\n",
    "     \n",
    "    return roman\n",
    "rome_number =  enmu(number)\n",
    "\n"
   ],
   "metadata": {
    "collapsed": false,
    "pycharm": {
     "name": "#%%\n",
     "is_executing": false
    }
   }
  },
  {
   "cell_type": "markdown",
   "source": [
    "# 13 罗马数字转整数"
   ],
   "metadata": {
    "collapsed": false,
    "pycharm": {
     "name": "#%% md\n"
    }
   }
  },
  {
   "cell_type": "code",
   "execution_count": null,
   "outputs": [],
   "source": [
    "def Rome_number(s:str)->int:\n",
    "    pre_ = 0\n",
    "    pro_ = 1\n",
    "    res = 0\n",
    "    s += \"1\"\n",
    "    while pre_<len(s)-1:\n",
    "        if s[pre_] is \"M\":res+=1000\n",
    "        elif s[pre_] is \"D\":res+=500\n",
    "        elif s[pre_] is \"C\":\n",
    "            if s[pro_] is \"D\":\n",
    "                res+=400\n",
    "                pre_ += 1\n",
    "            elif s[pro_] is \"M\":\n",
    "                res+=900\n",
    "                pre_ += 1\n",
    "            else:res+=100\n",
    "        elif s[pre_] is \"X\":\n",
    "            if s[pro_] is \"L\":\n",
    "                res+=40\n",
    "                pre_ += 1\n",
    "            elif s[pro_] is \"C\":\n",
    "                res+=90\n",
    "                pre_ += 1\n",
    "            else:res+=10\n",
    "        elif s[pre_] is \"L\":res+=50\n",
    "        elif s[pre_] is \"V\":res+=5\n",
    "        elif s[pre_] is \"I\":\n",
    "            if s[pro_] is \"V\":\n",
    "                res+=4\n",
    "                pre_ += 1\n",
    "            elif s[pro_] is \"X\":\n",
    "                res+=9\n",
    "                pre_ += 1\n",
    "            else:res+=1\n",
    "        else:\n",
    "            pass\n",
    "        pre_ += 1\n",
    "        pro_ = pre_ + 1\n",
    "    return res\n",
    "number_R = Rome_number(\"MMMXLV\")\n",
    "number_R"
   ],
   "metadata": {
    "collapsed": false,
    "pycharm": {
     "name": "#%%\n",
     "is_executing": true
    }
   }
  },
  {
   "cell_type": "code",
   "execution_count": 8,
   "outputs": [],
   "source": [],
   "metadata": {
    "collapsed": false,
    "pycharm": {
     "name": "#%%\n",
     "is_executing": false
    }
   }
  }
 ],
 "metadata": {
  "kernelspec": {
   "display_name": "Python 3",
   "language": "python",
   "name": "python3"
  },
  "language_info": {
   "codemirror_mode": {
    "name": "ipython",
    "version": 2
   },
   "file_extension": ".py",
   "mimetype": "text/x-python",
   "name": "python",
   "nbconvert_exporter": "python",
   "pygments_lexer": "ipython2",
   "version": "2.7.6"
  },
  "pycharm": {
   "stem_cell": {
    "cell_type": "raw",
    "source": [],
    "metadata": {
     "collapsed": false
    }
   }
  }
 },
 "nbformat": 4,
 "nbformat_minor": 0
}