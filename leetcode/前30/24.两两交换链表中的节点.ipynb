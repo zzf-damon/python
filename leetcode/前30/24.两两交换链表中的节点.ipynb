{
 "cells": [
  {
   "cell_type": "code",
   "execution_count": 6,
   "metadata": {
    "pycharm": {
     "is_executing": false
    }
   },
   "outputs": [
    {
     "name": "stdout",
     "text": [
      "<__main__.ListNode object at 0x0000029C4A43FB48>\n"
     ],
     "output_type": "stream"
    }
   ],
   "source": [
    "# Definition for singly-linked list.\n",
    "class ListNode:\n",
    "    def __init__(self, x, y=None):\n",
    "        self.val = x\n",
    "        self.next = y\n",
    "\n",
    "\n",
    "list1 = [1, 2, 3, 4]\n",
    "\n",
    "\n",
    "def list_node(list1):\n",
    "    if len(list1) > 1:\n",
    "        return ListNode(list1.pop(0), list_node(list1))\n",
    "    else:\n",
    "        return ListNode(list1.pop(0), None)\n",
    "\n",
    "\n",
    "data = list_node(list1)\n",
    "\n",
    "print(data)"
   ]
  },
  {
   "cell_type": "markdown",
   "source": [
    "# \t36 ms\t13.5 MB"
   ],
   "metadata": {
    "collapsed": false,
    "pycharm": {
     "name": "#%% md\n",
     "is_executing": false
    }
   }
  },
  {
   "cell_type": "code",
   "execution_count": null,
   "outputs": [],
   "source": [
    "def swapPairs(head):\n",
    "    if not head or not head.next:return head\n",
    "    head1 = ListNode(-1)\n",
    "    head1.next = head\n",
    "    def test1(h1,h2):\n",
    "        if h2 and h2.next:\n",
    "            h1.next = h2.next\n",
    "            h2.next = h2.next.next\n",
    "            h1.next.next = h2\n",
    "            test1(h2,h2.next)\n",
    "        else:\n",
    "            return\n",
    "    test1(head1,head)\n",
    "    return head1.next\n",
    "swapPairs(data)"
   ],
   "metadata": {
    "collapsed": false,
    "pycharm": {
     "name": "#%%\n"
    }
   }
  },
  {
   "cell_type": "markdown",
   "source": [
    "# 迭代\n",
    "\n",
    "> 我们把链表分为两部分，即奇数节点为一部分，偶数节点为一部分，A 指的是交换节点中的前面的节点，B 指的是要交换节点中的后面的节点。在完成它们的交换，我们还得用 prevNode 记录 A 的前驱节点。\n"
   ],
   "metadata": {
    "collapsed": false,
    "pycharm": {
     "name": "#%% md\n"
    }
   }
  },
  {
   "cell_type": "markdown",
   "source": [
    "# \t36 ms\t13.5 MB\n",
    "复杂度分析:\n",
    "\n",
    "- 时间复杂度：$O(N)$，其中 $N$ 指的是链表的节点数量。\n",
    "\n",
    "- 空间复杂度：$O(1)$。"
   ],
   "metadata": {
    "collapsed": false
   }
  },
  {
   "cell_type": "markdown",
   "source": [
    "``` python \n",
    "# Definition for singly-linked list.\n",
    "# class ListNode:\n",
    "#     def __init__(self, x):\n",
    "#         self.val = x\n",
    "#         self.next = None\n",
    "\n",
    "class Solution:\n",
    "    def swapPairs(self, head: ListNode) -> ListNode:\n",
    "        \"\"\"\n",
    "        :type head: ListNode\n",
    "        :rtype: ListNode\n",
    "        \"\"\"\n",
    "        # Dummy node acts as the prevNode for the head node\n",
    "        # of the list and hence stores pointer to the head node.\n",
    "        dummy = ListNode(-1)\n",
    "        dummy.next = head\n",
    "\n",
    "        prev_node = dummy\n",
    "\n",
    "        while head and head.next:\n",
    "\n",
    "            # Nodes to be swapped\n",
    "            first_node = head;\n",
    "            second_node = head.next;\n",
    "\n",
    "            # Swapping\n",
    "            prev_node.next = second_node\n",
    "            first_node.next = second_node.next\n",
    "            second_node.next = first_node\n",
    "\n",
    "            # Reinitializing the head and prev_node for next swap\n",
    "            prev_node = first_node\n",
    "            head = first_node.next\n",
    "\n",
    "        # Return the new head node.\n",
    "        return dummy.next\n",
    "```\n"
   ],
   "metadata": {
    "collapsed": false
   }
  },
  {
   "cell_type": "code",
   "execution_count": null,
   "metadata": {},
   "outputs": [],
   "source": []
  }
 ],
 "metadata": {
  "kernelspec": {
   "display_name": "Python 3",
   "language": "python",
   "name": "python3"
  },
  "language_info": {
   "codemirror_mode": {
    "name": "ipython",
    "version": 3
   },
   "file_extension": ".py",
   "mimetype": "text/x-python",
   "name": "python",
   "nbconvert_exporter": "python",
   "pygments_lexer": "ipython3",
   "version": "3.7.4"
  },
  "varInspector": {
   "cols": {
    "lenName": 16,
    "lenType": 16,
    "lenVar": 40
   },
   "kernels_config": {
    "python": {
     "delete_cmd_postfix": "",
     "delete_cmd_prefix": "del ",
     "library": "var_list.py",
     "varRefreshCmd": "print(var_dic_list())"
    },
    "r": {
     "delete_cmd_postfix": ") ",
     "delete_cmd_prefix": "rm(",
     "library": "var_list.r",
     "varRefreshCmd": "cat(var_dic_list()) "
    }
   },
   "types_to_exclude": [
    "module",
    "function",
    "builtin_function_or_method",
    "instance",
    "_Feature"
   ],
   "window_display": false
  },
  "pycharm": {
   "stem_cell": {
    "cell_type": "raw",
    "source": [],
    "metadata": {
     "collapsed": false
    }
   }
  }
 },
 "nbformat": 4,
 "nbformat_minor": 1
}