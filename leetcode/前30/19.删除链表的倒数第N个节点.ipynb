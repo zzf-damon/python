{
 "cells": [
  {
   "cell_type": "markdown",
   "metadata": {
    "collapsed": true,
    "pycharm": {
     "name": "#%% md\n"
    }
   },
   "source": [
    "# 给定一个链表，删除链表的倒数第 n 个节点，并且返回链表的头结点。\n",
    "\n",
    "> 给定一个链表: 1->2->3->4->5, 和 n = 2.<br>当删除了倒数第二个节点后，链表变为 1->2->3->5.\n",
    "\n",
    "    \n"
   ]
  },
  {
   "cell_type": "code",
   "execution_count": null,
   "metadata": {
    "pycharm": {
     "name": "#%%\n"
    }
   },
   "outputs": [],
   "source": [
    "# Definition for singly-linked list.\n",
    "class ListNode:\n",
    "    def __init__(self, x, y=None):\n",
    "        self.val = x\n",
    "        self.next = y\n",
    "\n",
    "\n",
    "def list_node(list1):\n",
    "    if len(list1) > 1:\n",
    "        return ListNode(list1.pop(0), list_node(list1))\n",
    "    else:\n",
    "        return ListNode(list1.pop(0), None)\n",
    "\n",
    "\n",
    "class Solution:\n",
    "    def removeNthFromEnd(self, head, n):\n",
    "        pass\n",
    "\n",
    "\n",
    "list1 = [1]\n",
    "\n",
    "data = list_node(list1)\n",
    "\n",
    "\n",
    "# 48 ms\t13.6 MB\n",
    "def test(head, n):\n",
    "    head.next = head\n",
    "\n",
    "    def node_det(node):\n",
    "        if node.next is None:\n",
    "            return node, 0\n",
    "        else:\n",
    "            pro_node, count = node_det(node.next)\n",
    "            count += 1\n",
    "            if count == n:\n",
    "                node.next = pro_node.next\n",
    "            return node, count\n",
    "\n",
    "    head, count = node_det(head)\n",
    "    if n == count + 1:\n",
    "        head = head.next\n",
    "    return head\n",
    "\n",
    "\n",
    "test(data, 1)"
   ]
  },
  {
   "cell_type": "code",
   "execution_count": null,
   "metadata": {
    "pycharm": {
     "name": "#%%\n"
    }
   },
   "outputs": [],
   "source": [
    "# 简化版1\n",
    "def test2(head, n):\n",
    "    def travel(node):\n",
    "        if node.next == None:\n",
    "            return 1\n",
    "        nth = travel(node.next) + 1\n",
    "        if nth == n + 1:\n",
    "            node.next = node.next.next\n",
    "        return nth\n",
    "\n",
    "    nth = travel(head)\n",
    "    if nth == n:\n",
    "        head = head.next\n",
    "\n",
    "    return head"
   ]
  },
  {
   "cell_type": "markdown",
   "metadata": {
    "pycharm": {
     "name": "#%% md\n"
    }
   },
   "source": [
    "# 双指针 无敌，一次遍历\n",
    "\n",
    "- 采取双重遍历肯定是可以解决问题的，但题目要求我们一次遍历解决问题，那我们的思路得发散一下。\n",
    "\n",
    "- 我们可以设想假设设定了双指针 p 和 q 的话，当 q 指向末尾的 NULL，p 与 q 之间相隔的元素个数为 n 时，那么删除掉 p 的下一个指针就完成了要求。\n",
    "\n",
    "- 设置虚拟节点 dummyHead 指向 head\n",
    "设定双指针 p 和 q，初始都指向虚拟节点 dummyHead\n",
    "移动 q，直到 p 与 q 之间相隔的元素个数为 n\n",
    "同时移动 p 与 q，直到 q 指向的为 NULL\n",
    "将 p 的下一个节点指向下下个节点\n",
    "\n",
    "\n",
    "<img src=\"./images/19.gif\" width=\"600px\" />   "
   ]
  },
  {
   "cell_type": "markdown",
   "metadata": {
    "pycharm": {
     "name": "#%%\n"
    }
   },
   "source": [
    "\n",
    "![avatar](images/19.gif)"
   ]
  },
  {
   "cell_type": "code",
   "execution_count": 2,
   "metadata": {
    "pycharm": {
     "is_executing": false,
     "name": "#%%\n"
    }
   },
   "outputs": [],
   "source": [
    "from PIL import Image\n",
    "img = Image.open(\"images/19.gif\")\n",
    "img.show()"
   ]
  },
  {
   "cell_type": "code",
   "execution_count": 6,
   "metadata": {
    "pycharm": {
     "name": "#%%\n"
    }
   },
   "outputs": [
    {
     "data": {
      "image/png": "[encoded data removed]",
      "text/plain": [
       "<Figure size 432x288 with 1 Axes>"
      ]
     },
     "metadata": {
      "needs_background": "light"
     },
     "output_type": "display_data"
    }
   ],
   "source": [
    "\n",
    "\n",
    "import matplotlib.pyplot as plt  \n",
    "  \n",
    "img = plt.imread(\"images/19.gif\")  \n",
    "plt.imshow(img)  \n",
    "plt.show() "
   ]
  },
  {
   "cell_type": "code",
   "execution_count": null,
   "metadata": {},
   "outputs": [],
   "source": []
  }
 ],
 "metadata": {
  "kernelspec": {
   "display_name": "Python 3",
   "language": "python",
   "name": "python3"
  },
  "language_info": {
   "codemirror_mode": {
    "name": "ipython",
    "version": 3
   },
   "file_extension": ".py",
   "mimetype": "text/x-python",
   "name": "python",
   "nbconvert_exporter": "python",
   "pygments_lexer": "ipython3",
   "version": "3.7.4"
  },
  "pycharm": {
   "stem_cell": {
    "cell_type": "raw",
    "metadata": {
     "collapsed": false
    },
    "source": []
   }
  },
  "varInspector": {
   "cols": {
    "lenName": 16,
    "lenType": 16,
    "lenVar": 40
   },
   "kernels_config": {
    "python": {
     "delete_cmd_postfix": "",
     "delete_cmd_prefix": "del ",
     "library": "var_list.py",
     "varRefreshCmd": "print(var_dic_list())"
    },
    "r": {
     "delete_cmd_postfix": ") ",
     "delete_cmd_prefix": "rm(",
     "library": "var_list.r",
     "varRefreshCmd": "cat(var_dic_list()) "
    }
   },
   "types_to_exclude": [
    "module",
    "function",
    "builtin_function_or_method",
    "instance",
    "_Feature"
   ],
   "window_display": false
  }
 },
 "nbformat": 4,
 "nbformat_minor": 1
}
