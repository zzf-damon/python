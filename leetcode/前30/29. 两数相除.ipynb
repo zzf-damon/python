{
 "cells": [
  {
   "cell_type": "code",
   "execution_count": 1,
   "metadata": {
    "collapsed": true,
    "pycharm": {
     "is_executing": false
    }
   },
   "outputs": [
    {
     "data": {
      "text/plain": "3"
     },
     "metadata": {},
     "output_type": "execute_result",
     "execution_count": 1
    }
   ],
   "source": [
    "10//3\n",
    "\n"
   ]
  },
  {
   "cell_type": "code",
   "execution_count": 9,
   "outputs": [
    {
     "data": {
      "text/plain": "-4"
     },
     "metadata": {},
     "output_type": "execute_result",
     "execution_count": 9
    }
   ],
   "source": [
    "7 / -3"
   ],
   "metadata": {
    "collapsed": false,
    "pycharm": {
     "name": "#%%\n",
     "is_executing": false
    }
   }
  },
  {
   "cell_type": "code",
   "execution_count": null,
   "outputs": [],
   "source": [
    "7 // -2"
   ],
   "metadata": {
    "collapsed": false,
    "pycharm": {
     "name": "#%%\n"
    }
   }
  },
  {
   "cell_type": "markdown",
   "source": [
    "# 40 ms\t13.5 MB"
   ],
   "metadata": {
    "collapsed": false,
    "pycharm": {
     "name": "#%% md\n"
    }
   }
  },
  {
   "cell_type": "code",
   "execution_count": 20,
   "outputs": [
    {
     "data": {
      "text/plain": "2147483648"
     },
     "metadata": {},
     "output_type": "execute_result",
     "execution_count": 20
    }
   ],
   "source": [
    "def divide(dividend,divisor):\n",
    "    if dividend == 0:return 0\n",
    "    if dividend == -2**31 and divisor == -1:return (2**31) - 1\n",
    "    dividend_sign = 1 if dividend > 0 else -1\n",
    "    divisor_sign = 1 if divisor > 0 else -1\n",
    "    dividend = abs(dividend)\n",
    "    divisor = abs(divisor)\n",
    "    count = 0\n",
    "    exp = 1\n",
    "    while dividend >= divisor:\n",
    "        if dividend >= divisor*2**exp:\n",
    "            count += 2**exp\n",
    "            dividend -= divisor* 2 ** exp\n",
    "            exp += exp\n",
    "        else:\n",
    "            exp -= 1\n",
    "    return dividend_sign * divisor_sign * count\n",
    "divide(-2147483648,-1)"
   ],
   "metadata": {
    "collapsed": false,
    "pycharm": {
     "name": "#%%\n",
     "is_executing": false
    }
   }
  },
  {
   "cell_type": "code",
   "execution_count": 9,
   "outputs": [
    {
     "data": {
      "text/plain": "1"
     },
     "metadata": {},
     "output_type": "execute_result",
     "execution_count": 9
    }
   ],
   "source": [
    "2 ** 0"
   ],
   "metadata": {
    "collapsed": false,
    "pycharm": {
     "name": "#%%\n",
     "is_executing": false
    }
   }
  },
  {
   "cell_type": "markdown",
   "source": [
    "# 移位"
   ],
   "metadata": {
    "collapsed": false,
    "pycharm": {
     "name": "#%% md\n",
     "is_executing": true
    }
   }
  },
  {
   "cell_type": "code",
   "execution_count": null,
   "outputs": [],
   "source": [
    "def divide(dividend: int, divisor: int) -> int:\n",
    "    sign = (dividend > 0) ^ (divisor > 0)\n",
    "    dividend = abs(dividend)\n",
    "    divisor = abs(divisor)\n",
    "    count = 0\n",
    "    #把除数不断左移，直到它大于被除数\n",
    "    while dividend >= divisor:\n",
    "        count += 1\n",
    "        divisor <<= 1\n",
    "    result = 0\n",
    "    while count > 0:\n",
    "        count -= 1\n",
    "        divisor >>= 1\n",
    "        if divisor <= dividend:\n",
    "            result += 1 << count #这里的移位运算是把二进制（第count+1位上的1）转换为十进制\n",
    "            dividend -= divisor\n",
    "    if sign: result = -result\n",
    "    return result if -(1<<31) <= result <= (1<<31)-1 else (1<<31)-1\n",
    "\n",
    "\n",
    "\n",
    "divide(100,6)\n",
    "\n"
   ],
   "metadata": {
    "collapsed": false,
    "pycharm": {
     "name": "#%%\n"
    }
   }
  }
 ],
 "metadata": {
  "kernelspec": {
   "display_name": "Python 3",
   "language": "python",
   "name": "python3"
  },
  "language_info": {
   "codemirror_mode": {
    "name": "ipython",
    "version": 2
   },
   "file_extension": ".py",
   "mimetype": "text/x-python",
   "name": "python",
   "nbconvert_exporter": "python",
   "pygments_lexer": "ipython2",
   "version": "2.7.6"
  },
  "pycharm": {
   "stem_cell": {
    "cell_type": "raw",
    "source": [],
    "metadata": {
     "collapsed": false
    }
   }
  }
 },
 "nbformat": 4,
 "nbformat_minor": 0
}