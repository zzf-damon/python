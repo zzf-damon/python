{
 "cells": [
  {
   "cell_type": "code",
   "execution_count": 25,
   "metadata": {
    "collapsed": true,
    "pycharm": {
     "is_executing": false
    }
   },
   "outputs": [],
   "source": [
    "import random\n",
    "import numpy as np"
   ]
  },
  {
   "cell_type": "code",
   "execution_count": 67,
   "outputs": [
    {
     "data": {
      "text/plain": "[6, 1, 0, 5]"
     },
     "metadata": {},
     "output_type": "execute_result",
     "execution_count": 67
    }
   ],
   "source": [
    "odd = [random.randint(0,9) for i in range(1, random.randint(3,10)) ]"
   ],
   "metadata": {
    "collapsed": false,
    "pycharm": {
     "name": "#%%\n",
     "is_executing": false
    }
   }
  },
  {
   "cell_type": "code",
   "execution_count": 68,
   "outputs": [
    {
     "name": "stdout",
     "text": [
      "15\n"
     ],
     "output_type": "stream"
    },
    {
     "data": {
      "text/plain": "15"
     },
     "metadata": {},
     "output_type": "execute_result",
     "execution_count": 68
    }
   ],
   "source": [
    "def maxArea(height: list) -> int:\n",
    "    max_ = 0\n",
    "    pre_ = 0\n",
    "    por_ = len(height) -1\n",
    "    while por_ - pre_>=1:\n",
    "        if height[pre_] > height[por_]:\n",
    "            max_area = height[por_]*(por_-pre_)\n",
    "            if max_> max_area:\n",
    "                por_ -= 1\n",
    "            else:\n",
    "                max_ = max_area\n",
    "                por_ -= 1\n",
    "        else:\n",
    "            max_area = height[pre_]*(por_-pre_)\n",
    "            if max_>max_area:\n",
    "                pre_ += 1\n",
    "            else:\n",
    "                max_ = max_area\n",
    "                pre_ += 1\n",
    "    print(max_)\n",
    "    return max_\n",
    "maxArea(odd)\n",
    "# maxArea([1,8,6,2,5,4,8,3,7])"
   ],
   "metadata": {
    "collapsed": false,
    "pycharm": {
     "name": "#%%\n",
     "is_executing": false
    }
   }
  },
  {
   "cell_type": "code",
   "execution_count": 46,
   "outputs": [
    {
     "name": "stdout",
     "text": [
      "[7 9]\n",
      "[8 8]\n",
      "[12  6]\n",
      "[2 6]\n",
      "[15  4]\n",
      "[4 4]\n",
      "[13  3]\n",
      "[10  3]\n",
      "[5 3]\n",
      "[1 3]\n",
      "[14  2]\n",
      "[11  1]\n",
      "[16  0]\n",
      "[9 0]\n",
      "[6 0]\n",
      "[3 0]\n"
     ],
     "output_type": "stream"
    }
   ],
   "source": [
    "# 变成numpy的二维数组\n",
    "# \n",
    "array = []\n",
    "for i,j in enumerate(odd):\n",
    "    array.append([i+1,j])\n",
    "np_array = np.array(array)\n",
    "data = np_array[np.lexsort(-np_array.T)]\n",
    "for i in data:\n",
    "    print(i)"
   ],
   "metadata": {
    "collapsed": false,
    "pycharm": {
     "name": "#%%\n",
     "is_executing": false
    }
   }
  },
  {
   "cell_type": "code",
   "execution_count": 54,
   "outputs": [
    {
     "name": "stdout",
     "text": [
      "24\n"
     ],
     "output_type": "stream"
    },
    {
     "data": {
      "text/plain": "24"
     },
     "metadata": {},
     "output_type": "execute_result",
     "execution_count": 54
    }
   ],
   "source": [
    "\n",
    "maxArea([1,8,6,2,5,4,8,3,7])"
   ],
   "metadata": {
    "collapsed": false,
    "pycharm": {
     "name": "#%%\n",
     "is_executing": false
    }
   }
  },
  {
   "cell_type": "code",
   "execution_count": null,
   "outputs": [],
   "source": [
    "# \n",
    "class Solution:\n",
    "    def maxArea(self, height: list[int]) -> int:\n",
    "        i, j, res = 0, len(height) - 1, 0\n",
    "        while i < j:\n",
    "            if height[i] < height[j]:\n",
    "                res = max(res, height[i] * (j - i))\n",
    "                i += 1\n",
    "            else:\n",
    "                res = max(res, height[j] * (j - i))\n",
    "                j -= 1\n",
    "        return res\n"
   ],
   "metadata": {
    "collapsed": false,
    "pycharm": {
     "name": "#%%\n"
    }
   }
  }
 ],
 "metadata": {
  "kernelspec": {
   "display_name": "Python 3",
   "language": "python",
   "name": "python3"
  },
  "language_info": {
   "codemirror_mode": {
    "name": "ipython",
    "version": 2
   },
   "file_extension": ".py",
   "mimetype": "text/x-python",
   "name": "python",
   "nbconvert_exporter": "python",
   "pygments_lexer": "ipython2",
   "version": "2.7.6"
  },
  "pycharm": {
   "stem_cell": {
    "cell_type": "raw",
    "source": [],
    "metadata": {
     "collapsed": false
    }
   }
  }
 },
 "nbformat": 4,
 "nbformat_minor": 0
}