{
 "cells": [
  {
   "cell_type": "markdown",
   "source": [
    "# 26. 删除排序数组中的重复项\n",
    "\n"
   ],
   "metadata": {
    "collapsed": false,
    "pycharm": {
     "name": "#%% md\n"
    }
   }
  },
  {
   "cell_type": "markdown",
   "source": [
    "## 88 ms\t14.7 MB"
   ],
   "metadata": {
    "collapsed": false,
    "pycharm": {
     "name": "#%% md\n",
     "is_executing": false
    }
   }
  },
  {
   "cell_type": "code",
   "execution_count": null,
   "outputs": [],
   "source": [
    "nums_4 = [0,0,1,1,1,2,2,3,3,4]\n",
    "nums_3 = [1,1,2]\n",
    "\n",
    "def removeDuplicates(nums):\n",
    "    if not nums:return len(nums)\n",
    "    pre_ = 1\n",
    "    sign = nums[0]\n",
    "    while pre_ < len(nums):\n",
    "        if sign == nums[pre_]:\n",
    "            nums.pop(pre_)\n",
    "        else:\n",
    "            sign = nums[pre_]\n",
    "            pre_ += 1\n",
    "    return len(nums)\n",
    "\n",
    "removeDuplicates(nums_4)\n",
    "\n"
   ],
   "metadata": {
    "collapsed": false,
    "pycharm": {
     "name": "#%%\n"
    }
   }
  },
  {
   "cell_type": "markdown",
   "source": [
    "## 双指针\n",
    "\n",
    "## 44 ms\t14.6 MB"
   ],
   "metadata": {
    "collapsed": false,
    "pycharm": {
     "name": "#%% md\n"
    }
   }
  },
  {
   "cell_type": "code",
   "execution_count": 1,
   "outputs": [
    {
     "data": {
      "text/plain": "5"
     },
     "metadata": {},
     "output_type": "execute_result",
     "execution_count": 1
    }
   ],
   "source": [
    "\n",
    "nums_4 = [0,0,1,1,1,2,2,3,3,4]\n",
    "\n",
    "def removeDuplicates(nums):\n",
    "    if not nums:return 0\n",
    "    pre_ = 1\n",
    "    pro_ = 0\n",
    "    while pre_ < len(nums):\n",
    "        if nums[pre_] != nums[pro_]:\n",
    "            pro_ += 1\n",
    "            nums[pro_] = nums[pre_]\n",
    "        pre_ += 1\n",
    "    return pro_+1\n",
    "\n",
    "removeDuplicates(nums_4)\n",
    "\n"
   ],
   "metadata": {
    "collapsed": false,
    "pycharm": {
     "name": "#%% \n",
     "is_executing": false
    }
   }
  },
  {
   "cell_type": "markdown",
   "source": [
    "# 27, 移出元素"
   ],
   "metadata": {
    "collapsed": false,
    "pycharm": {
     "name": "#%% md\n",
     "is_executing": false
    }
   }
  },
  {
   "cell_type": "code",
   "execution_count": 21,
   "outputs": [
    {
     "data": {
      "text/plain": "2"
     },
     "metadata": {},
     "output_type": "execute_result",
     "execution_count": 21
    }
   ],
   "source": [
    "nums_1 = [3,2,2,3]\n",
    "nums_2 = [0,1,2,2,3,0,4,2]\n",
    "val_1 = 3\n",
    "val_2 = 2\n",
    "\n",
    "\n",
    "def removeElement(nums,val):\n",
    "    if not nums:return len(nums)\n",
    "    pre_ = 0\n",
    "    pro_ = len(nums) -1\n",
    "    count = len(nums)\n",
    "    while pre_<=pro_:\n",
    "        if nums[pre_] != val:\n",
    "            pre_ += 1\n",
    "        else:\n",
    "            if nums[pro_] == val:\n",
    "                count -= 1\n",
    "                pro_ -= 1\n",
    "            else:\n",
    "                nums[pre_],nums[pro_] = nums[pro_],nums[pre_]\n",
    "                pre_ += 1\n",
    "    return len(nums[:count])\n",
    "\n",
    "removeElement(nums_1,val_1)"
   ],
   "metadata": {
    "collapsed": false,
    "pycharm": {
     "name": "#%%\n",
     "is_executing": false
    }
   }
  },
  {
   "cell_type": "code",
   "execution_count": null,
   "outputs": [],
   "source": [
    "\n"
   ],
   "metadata": {
    "collapsed": false,
    "pycharm": {
     "name": "#%%\n"
    }
   }
  }
 ],
 "metadata": {
  "kernelspec": {
   "display_name": "Python 3",
   "language": "python",
   "name": "python3"
  },
  "language_info": {
   "codemirror_mode": {
    "name": "ipython",
    "version": 2
   },
   "file_extension": ".py",
   "mimetype": "text/x-python",
   "name": "python",
   "nbconvert_exporter": "python",
   "pygments_lexer": "ipython2",
   "version": "2.7.6"
  },
  "pycharm": {
   "stem_cell": {
    "cell_type": "raw",
    "source": [],
    "metadata": {
     "collapsed": false
    }
   }
  }
 },
 "nbformat": 4,
 "nbformat_minor": 0
}