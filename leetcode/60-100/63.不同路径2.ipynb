{
 "cells": [
  {
   "cell_type": "markdown",
   "metadata": {},
   "source": [
    "# 输出所有的解"
   ]
  },
  {
   "cell_type": "code",
   "execution_count": 27,
   "metadata": {},
   "outputs": [],
   "source": [
    "def uniquePathsWithObstacles(obstacleGrid: list) -> int:\n",
    "    res = []\n",
    "    m = len(obstacleGrid)-1\n",
    "    n = len(obstacleGrid[0])-1\n",
    "    def barck(i,j,path):\n",
    "        if i == m and j == n:\n",
    "            res.append(path.copy())\n",
    "            return\n",
    "        if i < m and obstacleGrid[i+1][j] == 0:\n",
    "            path1 = path.copy()\n",
    "            path1.append(obstacleGrid[i][j])\n",
    "            barck(i+1,j,path1)\n",
    "        if j < n and obstacleGrid[i][j+1] == 0:\n",
    "            path2 = path.copy()\n",
    "            path2.append(obstacleGrid[i][j])\n",
    "            barck(i,j+1,path2)\n",
    "\n",
    "    barck(i=0,j=0,path=[])\n",
    "    return res\n",
    "\n",
    "list1 = [\n",
    "  [0,0,0,0],\n",
    "  [0,1,0,0],\n",
    "  [0,0,0,0]\n",
    "]\n",
    "\n",
    "uniquePathsWithObstacles(list1)"
   ]
  },
  {
   "cell_type": "markdown",
   "metadata": {
    "pycharm": {
     "name": "#%%\n"
    }
   },
   "source": [
    "# 只输出多少个解\n"
   ]
  },
  {
   "cell_type": "code",
   "execution_count": 2,
   "metadata": {},
   "outputs": [
    {
     "data": {
      "text/plain": [
       "10"
      ]
     },
     "execution_count": 2,
     "metadata": {},
     "output_type": "execute_result"
    }
   ],
   "source": [
    "def uniquePathsWithObstacles1(obstacleGrid: list) -> int:\n",
    "    list3 = []\n",
    "    m = len(obstacleGrid)-1\n",
    "    n = len(obstacleGrid[0])-1\n",
    "    def barck(i,j):\n",
    "        if i == m and j == n:\n",
    "            list3.append(1)\n",
    "            return\n",
    "        if i < m:\n",
    "            barck(i+1,j)\n",
    "        if j < n:\n",
    "            barck(i,j+1)\n",
    "\n",
    "    barck(i=0,j=0)\n",
    "    return len(list3)\n",
    "\n",
    "list2 = [\n",
    "  [0,0,0,0],\n",
    "  [0,1,0,0],\n",
    "  [0,0,0,0]\n",
    "]\n",
    "\n",
    "list4 = [[0]]\n",
    "\n",
    "list5 = [[0,0,0,0,0,1,0,1,0,0,0,0,1,0,0,0,0,0],\n",
    "         [0,0,0,0,0,0,1,0,0,0,0,1,0,1,0,1,0,0],\n",
    "         [1,0,0,0,0,0,1,0,0,0,0,0,1,0,1,1,0,1],\n",
    "         [0,0,0,1,0,0,1,0,0,0,0,0,0,0,0,0,0,0],\n",
    "         [0,0,0,0,0,1,0,0,0,0,0,0,0,0,0,0,0,0],\n",
    "         [0,0,0,0,0,0,0,0,0,0,1,0,0,0,0,0,1,0],\n",
    "         [0,0,0,0,0,1,0,0,0,0,1,1,0,1,0,0,0,0],\n",
    "         [1,0,0,0,1,0,0,1,0,0,0,0,0,0,0,0,1,0],\n",
    "         [0,0,0,0,1,0,0,0,1,0,0,0,1,0,0,0,0,0],\n",
    "         [0,0,0,0,0,1,0,0,0,0,0,0,1,0,0,0,0,0],\n",
    "         [0,0,0,0,0,0,0,0,0,0,0,0,0,0,0,0,0,0],\n",
    "         [1,1,0,0,0,0,0,0,0,0,1,0,0,0,0,1,0,0],\n",
    "         [0,0,1,0,1,0,0,0,0,0,0,1,0,0,0,0,0,0],\n",
    "         [0,1,0,0,0,1,0,0,0,0,0,0,0,0,1,0,0,0],\n",
    "         [0,0,1,0,0,0,0,1,0,0,0,0,0,1,0,0,0,1],\n",
    "         [0,1,0,1,0,1,0,0,0,0,0,0,0,1,0,0,0,0],\n",
    "         [0,0,0,0,0,0,0,0,0,0,0,0,1,0,0,0,0,1],\n",
    "         [1,0,1,1,0,0,0,0,0,0,1,0,1,0,0,0,1,0],\n",
    "         [0,0,0,1,0,0,0,0,1,1,1,0,0,1,0,1,1,0],\n",
    "         [0,1,0,1,0,0,0,0,0,0,0,0,0,0,0,0,0,0],\n",
    "         [0,1,1,0,0,1,0,0,0,0,0,0,0,1,1,0,0,0],\n",
    "         [0,0,0,0,0,0,1,0,1,0,0,1,0,1,1,1,0,0],\n",
    "         [0,0,0,1,0,0,0,0,0,0,0,0,0,0,1,0,1,1],\n",
    "         [0,1,0,0,0,0,0,0,0,0,1,0,1,0,1,0,1,0],\n",
    "         [1,0,0,1,0,1,0,0,1,0,0,0,0,0,0,0,0,0],\n",
    "         [0,0,0,1,0,0,1,0,0,0,0,0,0,0,0,0,0,0],\n",
    "         [0,1,0,0,0,0,0,1,0,0,0,0,0,0,1,1,1,0],\n",
    "         [1,0,1,0,1,0,0,0,0,0,0,1,1,0,0,0,0,1],\n",
    "         [1,0,0,0,0,0,1,1,0,0,0,1,0,0,0,0,0,0]]\n",
    "\n",
    "uniquePathsWithObstacles1(list2)"
   ]
  },
  {
   "cell_type": "code",
   "execution_count": null,
   "metadata": {
    "pycharm": {
     "name": "#%%\n"
    }
   },
   "outputs": [],
   "source": [
    "class Solution(object):\n",
    "    def uniquePathsWithObstacles(self, obstacleGrid):\n",
    "        \"\"\"\n",
    "        :type obstacleGrid: List[List[int]]\n",
    "        :rtype: int\n",
    "        \"\"\"\n",
    "\n",
    "        m = len(obstacleGrid)\n",
    "        n = len(obstacleGrid[0])\n",
    "\n",
    "        # If the starting cell has an obstacle, then simply return as there would be\n",
    "        # no paths to the destination.\n",
    "        if obstacleGrid[0][0] == 1:\n",
    "            return 0\n",
    "\n",
    "        # Number of ways of reaching the starting cell = 1.\n",
    "        obstacleGrid[0][0] = 1\n",
    "\n",
    "        # Filling the values for the first column\n",
    "        for i in range(1,m):\n",
    "            obstacleGrid[i][0] = int(obstacleGrid[i][0] == 0 and obstacleGrid[i-1][0] == 1)\n",
    "\n",
    "        # Filling the values for the first row        \n",
    "        for j in range(1, n):\n",
    "            obstacleGrid[0][j] = int(obstacleGrid[0][j] == 0 and obstacleGrid[0][j-1] == 1)\n",
    "\n",
    "        # Starting from cell(1,1) fill up the values\n",
    "        # No. of ways of reaching cell[i][j] = cell[i - 1][j] + cell[i][j - 1]\n",
    "        # i.e. From above and left.\n",
    "        for i in range(1,m):\n",
    "            for j in range(1,n):\n",
    "                if obstacleGrid[i][j] == 0:\n",
    "                    obstacleGrid[i][j] = obstacleGrid[i-1][j] + obstacleGrid[i][j-1]\n",
    "                else:\n",
    "                    obstacleGrid[i][j] = 0\n",
    "\n",
    "        # Return value stored in rightmost bottommost cell. That is the destination.            \n",
    "        return obstacleGrid[m-1][n-1]\n",
    "\n",
    "\n",
    "\n"
   ]
  },
  {
   "cell_type": "code",
   "execution_count": 25,
   "metadata": {},
   "outputs": [],
   "source": [
    "def uniquePaths(m: int, n: int) -> int:\n",
    "    \n",
    "    matrix = [[0]*(n)]*(m)\n",
    "    matrix[0][0] = 1\n",
    "    for i in range(0,m-1):\n",
    "        for j in range(0,n-1):\n",
    "            if matrix[i][j] == 0 and i+j !=0:\n",
    "                matrix[i][j] = matrix[i-1][j] + matrix[i][j-1]\n",
    "\n",
    "    # Return value stored in rightmost bottommost cell. That is the destination.            \n",
    "    return matrix[m-1][n-1]"
   ]
  }
 ],
 "metadata": {
  "kernelspec": {
   "display_name": "Python 3",
   "language": "python",
   "name": "python3"
  },
  "language_info": {
   "codemirror_mode": {
    "name": "ipython",
    "version": 3
   },
   "file_extension": ".py",
   "mimetype": "text/x-python",
   "name": "python",
   "nbconvert_exporter": "python",
   "pygments_lexer": "ipython3",
   "version": "3.7.4"
  },
  "varInspector": {
   "cols": {
    "lenName": 16,
    "lenType": 16,
    "lenVar": 40
   },
   "kernels_config": {
    "python": {
     "delete_cmd_postfix": "",
     "delete_cmd_prefix": "del ",
     "library": "var_list.py",
     "varRefreshCmd": "print(var_dic_list())"
    },
    "r": {
     "delete_cmd_postfix": ") ",
     "delete_cmd_prefix": "rm(",
     "library": "var_list.r",
     "varRefreshCmd": "cat(var_dic_list()) "
    }
   },
   "types_to_exclude": [
    "module",
    "function",
    "builtin_function_or_method",
    "instance",
    "_Feature"
   ],
   "window_display": false
  }
 },
 "nbformat": 4,
 "nbformat_minor": 2
}
