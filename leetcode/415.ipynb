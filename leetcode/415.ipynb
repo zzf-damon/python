{
 "cells": [
  {
   "cell_type": "code",
   "execution_count": null,
   "metadata": {
    "collapsed": true,
    "pycharm": {
     "name": "#%%\n"
    }
   },
   "outputs": [],
   "source": [
    "def addStrings(num1: str, num2: str):\n",
    "    if not num1:return num2\n",
    "    if not num2:return num1\n",
    "    res = \"\"\n",
    "    m = len(num1)\n",
    "    n = len(num2)\n",
    "    if m>n:\n",
    "        num2 = (m-n)*str(0)+num2\n",
    "    else:\n",
    "        num1 = (n-m)*str(0)+num1\n",
    "    point = len(num1)-1\n",
    "    sign = 0\n",
    "    while point > -1:\n",
    "        tem = int(num1[point])+ int(num2[point]) + sign\n",
    "        res = str(tem%10) + res\n",
    "        sign = tem//10\n",
    "        point -= 1\n",
    "    return \"1\" + res if sign else res\n",
    "\n",
    "num1 = \"9\"\n",
    "num2 = \"99\"\n",
    "print(addStrings(num1,num2))"
   ]
  }
 ],
 "metadata": {
  "kernelspec": {
   "display_name": "Python 3",
   "language": "python",
   "name": "python3"
  },
  "language_info": {
   "codemirror_mode": {
    "name": "ipython",
    "version": 2
   },
   "file_extension": ".py",
   "mimetype": "text/x-python",
   "name": "python",
   "nbconvert_exporter": "python",
   "pygments_lexer": "ipython2",
   "version": "2.7.6"
  }
 },
 "nbformat": 4,
 "nbformat_minor": 0
}